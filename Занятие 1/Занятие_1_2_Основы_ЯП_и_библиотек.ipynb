{
  "nbformat": 4,
  "nbformat_minor": 0,
  "metadata": {
    "colab": {
      "provenance": [],
      "collapsed_sections": [
        "nNoOYRYikx7m",
        "n1DxvWF3l9rO",
        "sDPEoofBn-q6",
        "zsBUTZ64oFl-",
        "dVxj2YvGnGea",
        "KYOB1HJWttd3",
        "NqANoISNuXvY",
        "9mv28b0yuZ4t",
        "A6nAS57-xAgw",
        "RQfQTN53uhgL",
        "mY7aS5eRuEwm",
        "_8DVvcVMuI9L",
        "pm7iJGVsx13o"
      ]
    },
    "kernelspec": {
      "name": "python3",
      "display_name": "Python 3"
    },
    "language_info": {
      "name": "python"
    }
  },
  "cells": [
    {
      "cell_type": "markdown",
      "source": [
        "# Основы синтаксиса языка Python\n"
      ],
      "metadata": {
        "id": "nNoOYRYikx7m"
      }
    },
    {
      "cell_type": "markdown",
      "source": [
        " ## Основные типы данных"
      ],
      "metadata": {
        "id": "n1DxvWF3l9rO"
      }
    },
    {
      "cell_type": "markdown",
      "source": [
        "### Примитивные типы данных"
      ],
      "metadata": {
        "id": "sDPEoofBn-q6"
      }
    },
    {
      "cell_type": "code",
      "source": [
        "# целое число\n",
        "number = 12\n",
        "\n",
        "# дробное число\n",
        "float_number = 12.4\n",
        "\n",
        "# строки\n",
        "string = 'Hello world'\n",
        "another_string = \"Hello world\"\n",
        "\n",
        "example_with_quotes = \"This string has inner 'quotes'\"\n",
        "format_string = f'This string has integer value {number} and float value {float_number}'\n",
        "\n",
        "multiline_string = \"\"\"I can write as many lines here as I want\\nAgain and again\\t\n",
        "Again and again\n",
        "Again and again\n",
        "Again and again\"\"\"\n",
        "\n",
        "# булево\n",
        "bool_true = True\n",
        "bool_false = False\n",
        "\n",
        "# отсутствие значения\n",
        "none_var = None"
      ],
      "metadata": {
        "id": "rpp8gp3Zl7_I"
      },
      "execution_count": null,
      "outputs": []
    },
    {
      "cell_type": "code",
      "source": [
        "number, float_number, string, another_string, example_with_quotes, format_string, multiline_string, bool_true, bool_false, none_var"
      ],
      "metadata": {
        "colab": {
          "base_uri": "https://localhost:8080/"
        },
        "id": "zIbo26X0njpM",
        "outputId": "49fe1568-3319-494c-ea5a-58af05b615e7"
      },
      "execution_count": null,
      "outputs": [
        {
          "output_type": "execute_result",
          "data": {
            "text/plain": [
              "(12,\n",
              " 12.4,\n",
              " 'Hello world',\n",
              " 'Hello world',\n",
              " \"This string has inner 'quotes'\",\n",
              " 'This string has integer value 12 and float value 12.4',\n",
              " 'I can write as many lines here as I want\\nAgain and again\\t\\nAgain and again\\nAgain and again\\nAgain and again',\n",
              " True,\n",
              " False,\n",
              " None)"
            ]
          },
          "metadata": {},
          "execution_count": 21
        }
      ]
    },
    {
      "cell_type": "markdown",
      "source": [
        "### Коллекции как отдельные типы данных"
      ],
      "metadata": {
        "id": "zsBUTZ64oFl-"
      }
    },
    {
      "cell_type": "code",
      "source": [
        "# Cписки - простой набор значений любого типа данных\n",
        "empty_list = []\n",
        "example_list = [1, 2, 3.5, True, None, [1, 2], (4, 3)]\n",
        "\n",
        "empty_list, example_list"
      ],
      "metadata": {
        "colab": {
          "base_uri": "https://localhost:8080/"
        },
        "id": "t6-75auYoNm2",
        "outputId": "42710704-b1af-4638-ce79-085a2963d303"
      },
      "execution_count": null,
      "outputs": [
        {
          "output_type": "execute_result",
          "data": {
            "text/plain": [
              "([], [1, 2, 3.5, True, None, [1, 2], (4, 3)])"
            ]
          },
          "metadata": {},
          "execution_count": 12
        }
      ]
    },
    {
      "cell_type": "code",
      "source": [
        "# Множества - набор уникальных значений. Множества гарантируют, что элемент множества будет храниться только в одном экземпляре\n",
        "empty_set = set()\n",
        "duplicate_set = set([1, 1, 1, 2, 2, 2, 3, 3, 3])\n",
        "example_set = set([1, 2, 3.5, True, None])\n",
        "\n",
        "empty_set, duplicate_set, example_set"
      ],
      "metadata": {
        "colab": {
          "base_uri": "https://localhost:8080/"
        },
        "id": "Sj2E4Nlmq13a",
        "outputId": "e80c21ae-a2b7-4dfe-9ba8-6325ee5f9e9e"
      },
      "execution_count": null,
      "outputs": [
        {
          "output_type": "execute_result",
          "data": {
            "text/plain": [
              "(set(), {1, 2, 3}, {1, 2, 3.5, None})"
            ]
          },
          "metadata": {},
          "execution_count": 13
        }
      ]
    },
    {
      "cell_type": "code",
      "source": [
        "# Кортежи - неизменяемые списки\n",
        "empty_tuple = ()\n",
        "example_tuple = (1, 2, 3.5, True, None, [1, 2], (4, 3))\n",
        "\n",
        "empty_tuple, example_tuple"
      ],
      "metadata": {
        "colab": {
          "base_uri": "https://localhost:8080/"
        },
        "id": "8S0epBC-q3dF",
        "outputId": "086a1f0e-d0c4-4f89-c63f-242faf61a156"
      },
      "execution_count": null,
      "outputs": [
        {
          "output_type": "execute_result",
          "data": {
            "text/plain": [
              "((), (1, 2, 3.5, True, None, [1, 2], (4, 3)))"
            ]
          },
          "metadata": {},
          "execution_count": 14
        }
      ]
    },
    {
      "cell_type": "code",
      "source": [
        "# Словари - набор пар в виде ключ-значение\n",
        "empty_dictionary = {}\n",
        "example_dictionary = {\n",
        "    0: \"zero\",\n",
        "    1: \"one\",\n",
        "    2: \"two\",\n",
        "    3: \"three\"\n",
        "}\n",
        "\n",
        "empty_dictionary, example_dictionary"
      ],
      "metadata": {
        "colab": {
          "base_uri": "https://localhost:8080/"
        },
        "id": "YQQl0QeIq5Hj",
        "outputId": "1fd3654f-8582-4098-83eb-018912d707aa"
      },
      "execution_count": null,
      "outputs": [
        {
          "output_type": "execute_result",
          "data": {
            "text/plain": [
              "({}, {0: 'zero', 1: 'one', 2: 'two', 3: 'three'})"
            ]
          },
          "metadata": {},
          "execution_count": 15
        }
      ]
    },
    {
      "cell_type": "markdown",
      "source": [
        "## Стандартные операции ввода-вывода"
      ],
      "metadata": {
        "id": "dVxj2YvGnGea"
      }
    },
    {
      "cell_type": "code",
      "source": [
        "# Консольный ввод\n",
        "input_string = input()\n",
        "input_string_with_description = input(\"Description for your input here: \")"
      ],
      "metadata": {
        "colab": {
          "base_uri": "https://localhost:8080/"
        },
        "id": "Xu90DLl3nOho",
        "outputId": "ad9199d0-d4a2-49e8-d485-73970410817b"
      },
      "execution_count": null,
      "outputs": [
        {
          "name": "stdout",
          "output_type": "stream",
          "text": [
            "input\n",
            "Description for your input here: input with text\n"
          ]
        }
      ]
    },
    {
      "cell_type": "code",
      "source": [
        "# Консольный вывод\n",
        "print(input_string)\n",
        "print(input_string_with_description)\n",
        "\n",
        "print(\"Input string: \" + input_string)\n",
        "print(\"Input string:\", input_string_with_description)\n",
        "print(f\"Input string: {input_string}, another input string: {input_string_with_description}\")"
      ],
      "metadata": {
        "colab": {
          "base_uri": "https://localhost:8080/"
        },
        "id": "SZbZ_iWJs5-s",
        "outputId": "1eaf0665-f0ab-4e05-e61f-2560aa4d5f17"
      },
      "execution_count": null,
      "outputs": [
        {
          "output_type": "stream",
          "name": "stdout",
          "text": [
            "input\n",
            "input with text\n",
            "Input string: input\n",
            "Input string: input with text\n",
            "Input string: input, another input string: input with text\n"
          ]
        }
      ]
    },
    {
      "cell_type": "markdown",
      "source": [
        "## Операции с разными типами данных"
      ],
      "metadata": {
        "id": "KYOB1HJWttd3"
      }
    },
    {
      "cell_type": "markdown",
      "source": [
        "### Строки"
      ],
      "metadata": {
        "id": "NqANoISNuXvY"
      }
    },
    {
      "cell_type": "code",
      "source": [
        "# Примеры работы со строками\n",
        "\n",
        "# Создание строки\n",
        "my_string = \"Python is awesome!\"\n",
        "\n",
        "# Длина строки\n",
        "print(len(my_string))  # Вывод: 18\n",
        "\n",
        "# Доступ к символам строки\n",
        "print(my_string[0])  # Вывод: P\n",
        "print(my_string[-1])  # Вывод: !\n",
        "\n",
        "# Срезы строки\n",
        "print(my_string[7:9])  # Вывод: is\n",
        "print(my_string[:6])  # Вывод: Python\n",
        "print(my_string[10:])  # Вывод: awesome!\n",
        "\n",
        "# Методы строк\n",
        "print(my_string.upper())  # Вывод: PYTHON IS AWESOME!\n",
        "print(my_string.lower())  # Вывод: python is awesome!\n",
        "print(my_string.replace(\"awesome\", \"great\"))  # Вывод: Python is great!\n",
        "\n",
        "# Форматирование строк\n",
        "name = \"Alice\"\n",
        "age = 25\n",
        "formatted_string = f\"My name is {name} and I am {age} years old.\"\n",
        "print(formatted_string)  # Вывод: My name is Alice and I am 25 years old."
      ],
      "metadata": {
        "id": "rr7mexqnugj9"
      },
      "execution_count": null,
      "outputs": []
    },
    {
      "cell_type": "markdown",
      "source": [
        "### Числа"
      ],
      "metadata": {
        "id": "9mv28b0yuZ4t"
      }
    },
    {
      "cell_type": "code",
      "source": [
        "# Примеры работы с числами\n",
        "\n",
        "# Целые числа\n",
        "int_num = 10\n",
        "print(int_num)  # Вывод: 10\n",
        "\n",
        "# Числа с плавающей точкой\n",
        "float_num = 10.5\n",
        "print(float_num)  # Вывод: 10.5\n",
        "\n",
        "# Комплексные числа\n",
        "complex_num = 2 + 3j\n",
        "print(complex_num)  # Вывод: (2+3j)\n",
        "\n",
        "# Арифметические операции\n",
        "a = 10\n",
        "b = 3\n",
        "print(a + b)  # Сложение: 13\n",
        "print(a - b)  # Вычитание: 7\n",
        "print(a * b)  # Умножение: 30\n",
        "print(a / b)  # Деление: 3.3333...\n",
        "print(a // b)  # Целочисленное деление: 3\n",
        "print(a % b)  # Остаток от деления: 1\n",
        "print(a ** b)  # Возведение в степень: 1000\n",
        "\n",
        "# Встроенные функции\n",
        "print(abs(-10))  # Абсолютное значение: 10\n",
        "print(round(10.567, 1))  # Округление: 10.6\n",
        "print(max(1, 2, 3))  # Максимум: 3\n",
        "print(min(1, 2, 3))  # Минимум: 1\n",
        "print(pow(2, 3)) # Возведение в степень: 8"
      ],
      "metadata": {
        "id": "oLKkeOdTtYiX"
      },
      "execution_count": null,
      "outputs": []
    },
    {
      "cell_type": "markdown",
      "source": [
        "### Логические операции"
      ],
      "metadata": {
        "id": "A6nAS57-xAgw"
      }
    },
    {
      "cell_type": "code",
      "source": [
        "a, b = True, False\n",
        "print(a and b)  # Логическое И\n",
        "print(a or b)  # Логическое ИЛИ\n",
        "print(not a)  # Отрицание"
      ],
      "metadata": {
        "id": "VAx7UMUHxDr3"
      },
      "execution_count": null,
      "outputs": []
    },
    {
      "cell_type": "markdown",
      "source": [
        "### Коллекции"
      ],
      "metadata": {
        "id": "RQfQTN53uhgL"
      }
    },
    {
      "cell_type": "code",
      "source": [
        "# Примеры работы с коллекциями\n",
        "\n",
        "# Списки\n",
        "my_list = [1, 2, 3, 4, 5]\n",
        "my_list.append(6)  # Добавление элемента\n",
        "print(my_list)  # Вывод: [1, 2, 3, 4, 5, 6]\n",
        "\n",
        "# Кортежи\n",
        "my_tuple = (1, 2, 3)\n",
        "print(my_tuple[0])  # Доступ к элементу: 1\n",
        "\n",
        "# Множества\n",
        "my_set = {1, 2, 3}\n",
        "my_set.add(4)  # Добавление элемента\n",
        "print(my_set)  # Вывод: {1, 2, 3, 4}\n",
        "\n",
        "# Словари\n",
        "my_dict = {'a': 1, 'b': 2}\n",
        "my_dict['c'] = 3  # Добавление элемента\n",
        "print(my_dict)  # Вывод: {'a': 1, 'b': 2, 'c': 3}\n",
        "\n",
        "# Операции с коллекциями\n",
        "print(len(my_list))  # Длина списка: 6\n",
        "print(2 in my_list)  # Проверка наличия элемента: True\n",
        "print(my_list + [7, 8, 9])  # Конкатенация списков: [1, 2, 3, 4, 5, 6, 7, 8, 9]"
      ],
      "metadata": {
        "colab": {
          "base_uri": "https://localhost:8080/"
        },
        "id": "yDHUnp2_uoB0",
        "outputId": "054a81c7-a609-479b-ece6-1ff512941ce9"
      },
      "execution_count": null,
      "outputs": [
        {
          "output_type": "stream",
          "name": "stdout",
          "text": [
            "[1, 2, 3, 4, 5, 6]\n",
            "1\n",
            "{1, 2, 3, 4}\n",
            "{'a': 1, 'b': 2, 'c': 3}\n",
            "6\n",
            "True\n",
            "[1, 2, 3, 4, 5, 6, 7, 8, 9]\n"
          ]
        }
      ]
    },
    {
      "cell_type": "markdown",
      "source": [
        "## Условный оператор"
      ],
      "metadata": {
        "id": "mY7aS5eRuEwm"
      }
    },
    {
      "cell_type": "code",
      "source": [
        "# Примеры условных операторов\n",
        "\n",
        "# Простое условие\n",
        "x = 10\n",
        "if x > 5:\n",
        "    print(\"x is greater than 5\")  # Вывод: x is greater than 5\n",
        "\n",
        "# Условие с else\n",
        "y = 3\n",
        "if y > 5:\n",
        "    print(\"y is greater than 5\")\n",
        "else:\n",
        "    print(\"y is less than or equal to 5\")  # Вывод: y is less than or equal to 5\n",
        "\n",
        "# Условие с elif\n",
        "z = 7\n",
        "if z > 10:\n",
        "    print(\"z is greater than 10\")\n",
        "elif z > 5:\n",
        "    print(\"z is greater than 5 but less than or equal to 10\")  # Вывод: z is greater than 5 but less than or equal to 10\n",
        "else:\n",
        "    print(\"z is less than or equal to 5\")\n",
        "\n",
        "# Вложенные условия\n",
        "a = 15\n",
        "if a > 10:\n",
        "    if a < 20:\n",
        "        print(\"a is between 10 and 20\")  # Вывод: a is between 10 and 20"
      ],
      "metadata": {
        "id": "ydTtd4TwuIgs"
      },
      "execution_count": null,
      "outputs": []
    },
    {
      "cell_type": "markdown",
      "source": [
        "## Циклы"
      ],
      "metadata": {
        "id": "_8DVvcVMuI9L"
      }
    },
    {
      "cell_type": "code",
      "source": [
        "# Примеры циклов\n",
        "\n",
        "# Цикл for\n",
        "for i in range(5):\n",
        "    print(i)  # Вывод: 0 1 2 3 4\n",
        "\n",
        "# Цикл for с итерацией по списку\n",
        "my_list = [1, 2, 3, 4, 5]\n",
        "for item in my_list:\n",
        "    print(item)  # Вывод: 1 2 3 4 5\n",
        "\n",
        "# Цикл while\n",
        "counter = 0\n",
        "while counter < 5:\n",
        "    print(counter)  # Вывод: 0 1 2 3 4\n",
        "    counter += 1\n",
        "\n",
        "# Вложенные циклы\n",
        "for i in range(3):\n",
        "    for j in range(2):\n",
        "        print(f\"i: {i}, j: {j}\")  # Вывод: i: 0, j: 0; i: 0, j: 1; i: 1, j: 0; и т.д.\n",
        "\n",
        "# Использование break и continue\n",
        "for i in range(10):\n",
        "    if i == 5:\n",
        "        break  # Выход из цикла\n",
        "    if i % 2 == 0:\n",
        "        continue  # Пропуск текущей итерации\n",
        "    print(i)  # Вывод: 1 3"
      ],
      "metadata": {
        "id": "qP16McW4uUwK"
      },
      "execution_count": null,
      "outputs": []
    },
    {
      "cell_type": "markdown",
      "source": [
        "### Списочные выражения"
      ],
      "metadata": {
        "id": "pm7iJGVsx13o"
      }
    },
    {
      "cell_type": "code",
      "source": [
        "# 1. Создание списка с числами\n",
        "numbers = [x for x in range(10)]\n",
        "print(numbers)  # [0, 1, 2, 3, 4, 5, 6, 7, 8, 9]\n",
        "\n",
        "# 2. Создание списка с условием\n",
        "even_numbers = [x for x in range(10) if x % 2 == 0]\n",
        "print(even_numbers)  # [0, 2, 4, 6, 8]\n",
        "\n",
        "# 3. Изменение элементов списка\n",
        "squared_numbers = [x**2 for x in range(10)]\n",
        "print(squared_numbers)  # [0, 1, 4, 9, 16, 25, 36, 49, 64, 81]\n",
        "\n",
        "# 4. Работа со строками\n",
        "words = [\"hello\", \"world\", \"python\"]\n",
        "uppercase_words = [word.upper() for word in words]\n",
        "print(uppercase_words)  # ['HELLO', 'WORLD', 'PYTHON']\n",
        "\n",
        "# 5. Фильтрация строк\n",
        "names = [\"Alice\", \"Bob\", \"Charlie\", \"David\"]\n",
        "short_names = [name for name in names if len(name) <= 4]\n",
        "print(short_names)  # ['Bob']\n",
        "\n",
        "# 6. Применение тернарного оператора\n",
        "numbers = [x if x % 2 == 0 else \"odd\" for x in range(10)]\n",
        "print(numbers)  # [0, 'odd', 2, 'odd', 4, 'odd', 6, 'odd', 8, 'odd']\n",
        "\n",
        "# 7. Вложенные циклы\n",
        "pairs = [(x, y) for x in range(3) for y in range(3)]\n",
        "print(pairs)  # [(0, 0), (0, 1), (0, 2), (1, 0), (1, 1), (1, 2), (2, 0), (2, 1), (2, 2)]\n",
        "\n",
        "# 8. Работа со словарями\n",
        "keys = [\"name\", \"age\", \"city\"]\n",
        "values = [\"Alice\", 25, \"New York\"]\n",
        "dictionary = {k: v for k, v in zip(keys, values)}\n",
        "print(dictionary)  # {'name': 'Alice', 'age': 25, 'city': 'New York'}\n",
        "\n",
        "# 9. Генерация множества (set comprehension)\n",
        "unique_squares = {x**2 for x in [1, 2, 2, 3, 3, 3, 4]}\n",
        "print(unique_squares)  # {16, 1, 4, 9}\n",
        "\n",
        "# 10. Генерация генератора (generator expression)\n",
        "gen = (x**2 for x in range(5))\n",
        "print(list(gen))  # [0, 1, 4, 9, 16]"
      ],
      "metadata": {
        "id": "W1jrz27Jx9DQ"
      },
      "execution_count": null,
      "outputs": []
    },
    {
      "cell_type": "markdown",
      "source": [
        "## Функции\n",
        "\n",
        "> Функции в Python позволяют организовать код в блоки, которые можно вызывать многократно. Вот несколько примеров:\n",
        "\n",
        "\n"
      ],
      "metadata": {
        "id": "hSKfaJaTydaT"
      }
    },
    {
      "cell_type": "code",
      "source": [
        "# 1. Определение функции и вызов\n",
        "def greet(name):\n",
        "    return f\"Hello, {name}!\"\n",
        "\n",
        "print(greet(\"Alice\"))  # Hello, Alice!"
      ],
      "metadata": {
        "id": "gi8TgTA8yfqc"
      },
      "execution_count": null,
      "outputs": []
    },
    {
      "cell_type": "code",
      "source": [
        "# 2. Глобальная и локальная область видимости\n",
        "x = 10  # Глобальная переменная\n",
        "\n",
        "def modify_global():\n",
        "    global x  # Разрешаем изменять глобальную переменную\n",
        "    x += 5\n",
        "\n",
        "modify_global()\n",
        "print(x)  # 15"
      ],
      "metadata": {
        "id": "OYrOj-WE0EEe"
      },
      "execution_count": null,
      "outputs": []
    },
    {
      "cell_type": "code",
      "source": [
        "# 3. Локальная область видимости\n",
        "def local_scope():\n",
        "    y = 20  # Локальная переменная\n",
        "    return y\n",
        "\n",
        "print(local_scope())  # 20\n",
        "# print(y)  # Ошибка: переменная y не определена вне функции"
      ],
      "metadata": {
        "id": "jqqgmC8U0GBD"
      },
      "execution_count": null,
      "outputs": []
    },
    {
      "cell_type": "code",
      "source": [
        "# 4. Передача аргументов: позиционные аргументы\n",
        "def add(a, b):\n",
        "    return a + b\n",
        "\n",
        "print(add(3, 5))  # 8"
      ],
      "metadata": {
        "id": "uivqWs2q0ILP"
      },
      "execution_count": null,
      "outputs": []
    },
    {
      "cell_type": "code",
      "source": [
        "# 5. Передача аргументов: именованные аргументы\n",
        "def introduce(name, age):\n",
        "    return f\"My name is {name} and I am {age} years old.\"\n",
        "\n",
        "print(introduce(age=25, name=\"Bob\"))\n",
        "# My name is Bob and I am 25 years old."
      ],
      "metadata": {
        "id": "NyoPprmq0KaQ"
      },
      "execution_count": null,
      "outputs": []
    },
    {
      "cell_type": "code",
      "source": [
        "# 6. Аргументы по умолчанию\n",
        "def power(base, exponent=2):\n",
        "    return base ** exponent\n",
        "\n",
        "print(power(3))     # 9 (по умолчанию exponent=2)\n",
        "print(power(3, 3))  # 27"
      ],
      "metadata": {
        "id": "WRhghuws0Mw4"
      },
      "execution_count": null,
      "outputs": []
    },
    {
      "cell_type": "code",
      "source": [
        "# 7. Произвольное количество аргументов *args\n",
        "def sum_all(*args):\n",
        "    return sum(args)\n",
        "\n",
        "print(sum_all(1, 2, 3, 4))  # 10"
      ],
      "metadata": {
        "id": "cQw9ojTQ0O2U"
      },
      "execution_count": null,
      "outputs": []
    },
    {
      "cell_type": "code",
      "source": [
        "# 8. Произвольное количество именованных аргументов **kwargs\n",
        "def describe_person(**kwargs):\n",
        "    return \", \".join(f\"{key}: {value}\" for key, value in kwargs.items())\n",
        "\n",
        "print(describe_person(name=\"Alice\", age=30, city=\"New York\"))\n",
        "# name: Alice, age: 30, city: New York"
      ],
      "metadata": {
        "id": "IyX5yxgK0Q56"
      },
      "execution_count": null,
      "outputs": []
    },
    {
      "cell_type": "code",
      "source": [
        "# 9. Функции высших порядков: передача функции в аргумент\n",
        "def apply_twice(func, value):\n",
        "    return func(func(value))\n",
        "\n",
        "def square(x):\n",
        "    return x * x\n",
        "\n",
        "print(apply_twice(square, 2))  # 16 (2 → 4 → 16)"
      ],
      "metadata": {
        "id": "9pVkb63G0ShA"
      },
      "execution_count": null,
      "outputs": []
    },
    {
      "cell_type": "code",
      "source": [
        "# 10. Функции высших порядков: возвращение функции\n",
        "def make_multiplier(n):\n",
        "    def multiplier(x):\n",
        "        return x * n\n",
        "    return multiplier\n",
        "\n",
        "double = make_multiplier(2)\n",
        "print(double(5))  # 10"
      ],
      "metadata": {
        "id": "nNqg13xX0TwG"
      },
      "execution_count": null,
      "outputs": []
    },
    {
      "cell_type": "code",
      "source": [
        "# 11. Лямбда-функция (анонимная функция)\n",
        "double_lambda = lambda x: x * 2\n",
        "print(double_lambda(4))  # 8\n",
        "\n",
        "# 12. Лямбда в функции высшего порядка (пример с map)\n",
        "numbers = [1, 2, 3, 4]\n",
        "squared_numbers = list(map(lambda x: x ** 2, numbers))\n",
        "print(squared_numbers)  # [1, 4, 9, 16]\n",
        "\n",
        "# 13. Лямбда в сортировке\n",
        "people = [(\"Alice\", 30), (\"Bob\", 25), (\"Charlie\", 35)]\n",
        "sorted_people = sorted(people, key=lambda person: person[1])\n",
        "print(sorted_people)  # [('Bob', 25), ('Alice', 30), ('Charlie', 35)]"
      ],
      "metadata": {
        "id": "dWJu6DVs0VUv"
      },
      "execution_count": null,
      "outputs": []
    },
    {
      "cell_type": "markdown",
      "source": [
        "# Библиотеки для получения и обработки данных\n"
      ],
      "metadata": {
        "id": "by2wUupP0dqI"
      }
    },
    {
      "cell_type": "code",
      "source": [
        "# 1. Работа с модулем math\n",
        "import math\n",
        "\n",
        "print(math.sqrt(16))      # 4.0 - квадратный корень\n",
        "print(math.factorial(5))  # 120 - факториал числа\n",
        "print(math.pi)            # 3.141592653589793 - значение π\n",
        "print(math.sin(math.radians(30)))  # 0.5 - синус 30 градусов"
      ],
      "metadata": {
        "id": "gmEGhnMu1X9A"
      },
      "execution_count": null,
      "outputs": []
    },
    {
      "cell_type": "code",
      "source": [
        "# 2. Работа с модулем numpy\n",
        "import numpy as np\n",
        "\n",
        "# Создание массива numpy\n",
        "arr = np.array([1, 2, 3, 4, 5])\n",
        "print(arr * 2)  # [ 2  4  6  8 10] - умножение массива на число\n",
        "\n",
        "# Создание массива с нулями, единицами и случайными числами\n",
        "zeros = np.zeros((2, 3))\n",
        "ones = np.ones((3, 3))\n",
        "random_arr = np.random.rand(3, 3)\n",
        "\n",
        "print(zeros)\n",
        "print(ones)\n",
        "print(random_arr)\n",
        "\n",
        "# Операции над массивами\n",
        "arr1 = np.array([1, 2, 3])\n",
        "arr2 = np.array([4, 5, 6])\n",
        "sum_arr = arr1 + arr2  # [5 7 9]\n",
        "dot_product = np.dot(arr1, arr2)  # 1*4 + 2*5 + 3*6 = 32\n",
        "\n",
        "print(sum_arr)\n",
        "print(dot_product)\n",
        "\n",
        "# Матрицы и их операции\n",
        "matrix = np.array([[1, 2], [3, 4]])\n",
        "transpose = matrix.T  # Транспонирование\n",
        "inverse = np.linalg.inv(matrix)  # Обратная матрица\n",
        "\n",
        "print(transpose)\n",
        "print(inverse)"
      ],
      "metadata": {
        "id": "1W3Tkkrr2G6y"
      },
      "execution_count": null,
      "outputs": []
    },
    {
      "cell_type": "code",
      "source": [
        "# 3. Работа с модулем pandas\n",
        "import pandas as pd\n",
        "\n",
        "# Создание DataFrame\n",
        "data = {\n",
        "    \"Name\": [\"Alice\", \"Bob\", \"Charlie\"],\n",
        "    \"Age\": [25, 30, 35],\n",
        "    \"City\": [\"New York\", \"Los Angeles\", \"Chicago\"]\n",
        "}\n",
        "df = pd.DataFrame(data)\n",
        "\n",
        "print(df)\n",
        "\n",
        "# Чтение и запись CSV-файлов\n",
        "# df.to_csv(\"data.csv\", index=False)  # Сохранение в CSV\n",
        "# df_read = pd.read_csv(\"data.csv\")   # Чтение из CSV\n",
        "# print(df_read)\n",
        "\n",
        "# Фильтрация данных\n",
        "filtered_df = df[df[\"Age\"] > 28]\n",
        "print(filtered_df)  # Выведет строки, где возраст больше 28\n",
        "\n",
        "# Группировка данных\n",
        "grouped = df.groupby(\"City\")[\"Age\"].mean()\n",
        "print(grouped)\n",
        "\n",
        "# Добавление нового столбца\n",
        "df[\"Salary\"] = [50000, 60000, 70000]\n",
        "print(df)\n",
        "\n",
        "# Удаление столбца\n",
        "df.drop(columns=[\"City\"], inplace=True)\n",
        "print(df)\n",
        "\n",
        "# Основная статистика\n",
        "print(df.describe())  # Статистика по числовым столбцам (среднее, минимум, максимум и т. д.)"
      ],
      "metadata": {
        "colab": {
          "base_uri": "https://localhost:8080/"
        },
        "id": "qDDdbCWb2Jas",
        "outputId": "cec12291-213e-4c88-bf7d-7a6392f9d5ee"
      },
      "execution_count": null,
      "outputs": [
        {
          "output_type": "stream",
          "name": "stdout",
          "text": [
            "      Name  Age         City\n",
            "0    Alice   25     New York\n",
            "1      Bob   30  Los Angeles\n",
            "2  Charlie   35      Chicago\n",
            "      Name  Age         City\n",
            "1      Bob   30  Los Angeles\n",
            "2  Charlie   35      Chicago\n",
            "City\n",
            "Chicago        35.0\n",
            "Los Angeles    30.0\n",
            "New York       25.0\n",
            "Name: Age, dtype: float64\n",
            "      Name  Age         City  Salary\n",
            "0    Alice   25     New York   50000\n",
            "1      Bob   30  Los Angeles   60000\n",
            "2  Charlie   35      Chicago   70000\n",
            "      Name  Age  Salary\n",
            "0    Alice   25   50000\n",
            "1      Bob   30   60000\n",
            "2  Charlie   35   70000\n",
            "        Age   Salary\n",
            "count   3.0      3.0\n",
            "mean   30.0  60000.0\n",
            "std     5.0  10000.0\n",
            "min    25.0  50000.0\n",
            "25%    27.5  55000.0\n",
            "50%    30.0  60000.0\n",
            "75%    32.5  65000.0\n",
            "max    35.0  70000.0\n"
          ]
        }
      ]
    },
    {
      "cell_type": "code",
      "source": [],
      "metadata": {
        "id": "R5K4Edpu2Ut6"
      },
      "execution_count": null,
      "outputs": []
    }
  ]
}
