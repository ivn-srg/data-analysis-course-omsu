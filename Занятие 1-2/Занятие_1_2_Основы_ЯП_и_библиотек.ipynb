{
  "nbformat": 4,
  "nbformat_minor": 0,
  "metadata": {
    "colab": {
      "provenance": [],
      "collapsed_sections": [
        "nNoOYRYikx7m",
        "n1DxvWF3l9rO",
        "sDPEoofBn-q6",
        "zsBUTZ64oFl-",
        "dVxj2YvGnGea",
        "KYOB1HJWttd3",
        "NqANoISNuXvY",
        "9mv28b0yuZ4t",
        "A6nAS57-xAgw",
        "RQfQTN53uhgL",
        "mY7aS5eRuEwm",
        "_8DVvcVMuI9L",
        "pm7iJGVsx13o"
      ],
      "authorship_tag": "ABX9TyPAloy3x3ygal++/dsnKntq",
      "include_colab_link": true
    },
    "kernelspec": {
      "name": "python3",
      "display_name": "Python 3"
    },
    "language_info": {
      "name": "python"
    }
  },
  "cells": [
    {
      "cell_type": "markdown",
      "metadata": {
        "id": "view-in-github",
        "colab_type": "text"
      },
      "source": [
        "<a href=\"https://colab.research.google.com/github/ivn-srg/data-analysis-course-omsu/blob/main/%D0%97%D0%B0%D0%BD%D1%8F%D1%82%D0%B8%D0%B5%201-2/%D0%97%D0%B0%D0%BD%D1%8F%D1%82%D0%B8%D0%B5_1_2_%D0%9E%D1%81%D0%BD%D0%BE%D0%B2%D1%8B_%D0%AF%D0%9F_%D0%B8_%D0%B1%D0%B8%D0%B1%D0%BB%D0%B8%D0%BE%D1%82%D0%B5%D0%BA.ipynb\" target=\"_parent\"><img src=\"https://colab.research.google.com/assets/colab-badge.svg\" alt=\"Open In Colab\"/></a>"
      ]
    },
    {
      "cell_type": "markdown",
      "source": [
        "# Основы синтаксиса языка Python\n"
      ],
      "metadata": {
        "id": "nNoOYRYikx7m"
      }
    },
    {
      "cell_type": "markdown",
      "source": [
        " ## Основные типы данных"
      ],
      "metadata": {
        "id": "n1DxvWF3l9rO"
      }
    },
    {
      "cell_type": "markdown",
      "source": [
        "### Примитивные типы данных"
      ],
      "metadata": {
        "id": "sDPEoofBn-q6"
      }
    },
    {
      "cell_type": "code",
      "source": [
        "# целое число\n",
        "number = 1_200_000_000_000 # 120000000000\n",
        "\n",
        "# дробное число\n",
        "float_number = 12.4\n",
        "\n",
        "# строки\n",
        "string = 'Hello world'\n",
        "another_string = \"Hello world\"\n",
        "\n",
        "example_with_quotes = \"This string has inner 'quotes'\"\n",
        "format_string = f'This string has integer value {number} and float value {float_number}'\n",
        "\n",
        "multiline_string = \"\"\"I can write as many lines here as I want\\nAgain and again\\t\n",
        "Again and again\n",
        "Again and again\n",
        "Again and again\"\"\"\n",
        "\n",
        "# булево\n",
        "bool_true = True\n",
        "bool_false = False\n",
        "\n",
        "# отсутствие значения\n",
        "none_var = None"
      ],
      "metadata": {
        "id": "rpp8gp3Zl7_I"
      },
      "execution_count": null,
      "outputs": []
    },
    {
      "cell_type": "code",
      "source": [
        "number, float_number, string, another_string, example_with_quotes, format_string, multiline_string, bool_true, bool_false, none_var"
      ],
      "metadata": {
        "colab": {
          "base_uri": "https://localhost:8080/"
        },
        "id": "zIbo26X0njpM",
        "outputId": "8862fde8-0db6-47b5-c1a4-ac34c684843b"
      },
      "execution_count": null,
      "outputs": [
        {
          "output_type": "execute_result",
          "data": {
            "text/plain": [
              "(1200000000000,\n",
              " 12.4,\n",
              " 'Hello world',\n",
              " 'Hello world',\n",
              " \"This string has inner 'quotes'\",\n",
              " 'This string has integer value 1200000000000 and float value 12.4',\n",
              " 'I can write as many lines here as I want\\nAgain and again\\t\\nAgain and again\\nAgain and again\\nAgain and again',\n",
              " True,\n",
              " False,\n",
              " None)"
            ]
          },
          "metadata": {},
          "execution_count": 15
        }
      ]
    },
    {
      "cell_type": "markdown",
      "source": [
        "### Коллекции как отдельные типы данных"
      ],
      "metadata": {
        "id": "zsBUTZ64oFl-"
      }
    },
    {
      "cell_type": "code",
      "source": [
        "# Cписки - простой набор значений любого типа данных\n",
        "empty_list = []\n",
        "example_list = [1, 2, 3.5, True, None, [1, 2], (4, 3)]\n",
        "\n",
        "empty_list, example_list"
      ],
      "metadata": {
        "colab": {
          "base_uri": "https://localhost:8080/"
        },
        "id": "t6-75auYoNm2",
        "outputId": "42710704-b1af-4638-ce79-085a2963d303"
      },
      "execution_count": null,
      "outputs": [
        {
          "output_type": "execute_result",
          "data": {
            "text/plain": [
              "([], [1, 2, 3.5, True, None, [1, 2], (4, 3)])"
            ]
          },
          "metadata": {},
          "execution_count": 12
        }
      ]
    },
    {
      "cell_type": "code",
      "source": [
        "# Множества - набор уникальных значений. Множества гарантируют, что элемент множества будет храниться только в одном экземпляре\n",
        "empty_set = set()\n",
        "duplicate_set = set([1, 1, 1, 2, 2, 2, 3, 3, 3])\n",
        "example_set = set([1, 2, 3.5, True, None])\n",
        "\n",
        "empty_set, duplicate_set, example_set"
      ],
      "metadata": {
        "colab": {
          "base_uri": "https://localhost:8080/"
        },
        "id": "Sj2E4Nlmq13a",
        "outputId": "e80c21ae-a2b7-4dfe-9ba8-6325ee5f9e9e"
      },
      "execution_count": null,
      "outputs": [
        {
          "output_type": "execute_result",
          "data": {
            "text/plain": [
              "(set(), {1, 2, 3}, {1, 2, 3.5, None})"
            ]
          },
          "metadata": {},
          "execution_count": 13
        }
      ]
    },
    {
      "cell_type": "code",
      "source": [
        "# Кортежи - неизменяемые списки\n",
        "empty_tuple = ()\n",
        "example_tuple = (1, 2, 3.5, True, None, [1, 2], (4, 3))\n",
        "\n",
        "var = (0, \"ФИО\")\n",
        "\n",
        "empty_tuple, example_tuple"
      ],
      "metadata": {
        "colab": {
          "base_uri": "https://localhost:8080/"
        },
        "id": "8S0epBC-q3dF",
        "outputId": "086a1f0e-d0c4-4f89-c63f-242faf61a156"
      },
      "execution_count": null,
      "outputs": [
        {
          "output_type": "execute_result",
          "data": {
            "text/plain": [
              "((), (1, 2, 3.5, True, None, [1, 2], (4, 3)))"
            ]
          },
          "metadata": {},
          "execution_count": 14
        }
      ]
    },
    {
      "cell_type": "code",
      "source": [
        "# Словари - набор пар в виде ключ-значение\n",
        "empty_dictionary = {}\n",
        "example_dictionary = {\n",
        "    0: \"zero\",\n",
        "    1: \"one\",\n",
        "    2: \"two\",\n",
        "    3: \"three\"\n",
        "}\n",
        "\n",
        "empty_dictionary, example_dictionary"
      ],
      "metadata": {
        "colab": {
          "base_uri": "https://localhost:8080/",
          "height": 35
        },
        "id": "YQQl0QeIq5Hj",
        "outputId": "bad9765a-9b0c-4bf8-feb5-222f15b2a5b0"
      },
      "execution_count": null,
      "outputs": [
        {
          "output_type": "execute_result",
          "data": {
            "text/plain": [
              "'zero'"
            ],
            "application/vnd.google.colaboratory.intrinsic+json": {
              "type": "string"
            }
          },
          "metadata": {},
          "execution_count": 16
        }
      ]
    },
    {
      "cell_type": "markdown",
      "source": [
        "## Стандартные операции ввода-вывода"
      ],
      "metadata": {
        "id": "dVxj2YvGnGea"
      }
    },
    {
      "cell_type": "code",
      "source": [
        "# Консольный ввод\n",
        "input_string = input()\n",
        "input_string_with_description = input(\"Description for your input here: \")\n",
        "\n",
        "number = int( input() )"
      ],
      "metadata": {
        "colab": {
          "base_uri": "https://localhost:8080/"
        },
        "id": "Xu90DLl3nOho",
        "outputId": "b23904f3-326a-4507-a883-fd617030be65"
      },
      "execution_count": null,
      "outputs": [
        {
          "name": "stdout",
          "output_type": "stream",
          "text": [
            "12\n",
            "Description for your input here: 12\n",
            "12\n"
          ]
        }
      ]
    },
    {
      "cell_type": "code",
      "source": [
        "# Консольный вывод\n",
        "print(input_string)\n",
        "print(input_string_with_description)\n",
        "\n",
        "print(\"Input string: \" + input_string)\n",
        "print(\"Input string:\", input_string_with_description)\n",
        "print(f\"Input string: {input_string}, another input string: {input_string_with_description}\")"
      ],
      "metadata": {
        "colab": {
          "base_uri": "https://localhost:8080/"
        },
        "id": "SZbZ_iWJs5-s",
        "outputId": "400f834e-153f-4eb4-9b72-a0f7f0742591"
      },
      "execution_count": null,
      "outputs": [
        {
          "output_type": "stream",
          "name": "stdout",
          "text": [
            "12\n",
            "12\n",
            "Input string: 12\n",
            "Input string: 12\n",
            "Input string 12, another input string: 12\n"
          ]
        }
      ]
    },
    {
      "cell_type": "markdown",
      "source": [
        "## Операции с разными типами данных"
      ],
      "metadata": {
        "id": "KYOB1HJWttd3"
      }
    },
    {
      "cell_type": "markdown",
      "source": [
        "### Строки"
      ],
      "metadata": {
        "id": "NqANoISNuXvY"
      }
    },
    {
      "cell_type": "code",
      "source": [
        "# Примеры работы со строками\n",
        "\n",
        "# Создание строки\n",
        "my_string = \"P y t h o n   i s  awesome!\"\n",
        "          #  0 1 2 3 4 5 6 7 8 9\n",
        "\n",
        "# Длина строки\n",
        "print(len(my_string))  # Вывод: 18\n",
        "\n",
        "# Доступ к символам строки\n",
        "print(my_string[0])  # Вывод: P\n",
        "print(my_string[-1])  # Вывод: !\n",
        "\n",
        "# Срезы строки\n",
        "print( my_string[7:9] )  # Вывод: is\n",
        "print( my_string[:6] )  # Вывод: Python\n",
        "print( my_string[10:] )  # Вывод: awesome!\n",
        "\n",
        "# Методы строк\n",
        "print(my_string.upper())  # Вывод: PYTHON IS AWESOME!\n",
        "print(my_string.lower())  # Вывод: python is awesome!\n",
        "print(my_string.replace(\"awesome\", \"great\"))  # Вывод: Python is great!\n",
        "\n",
        "# Форматирование строк\n",
        "name = \"Alice\"\n",
        "age = 25\n",
        "formatted_string = f\"My name is {name} and I am {age} years old.\"\n",
        "print(formatted_string)  # Вывод: My name is Alice and I am 25 years old."
      ],
      "metadata": {
        "id": "rr7mexqnugj9"
      },
      "execution_count": null,
      "outputs": []
    },
    {
      "cell_type": "markdown",
      "source": [
        "### Числа"
      ],
      "metadata": {
        "id": "9mv28b0yuZ4t"
      }
    },
    {
      "cell_type": "code",
      "source": [
        "# Примеры работы с числами\n",
        "\n",
        "# Целые числа\n",
        "int_num = 10\n",
        "print(int_num)  # Вывод: 10\n",
        "\n",
        "# Числа с плавающей точкой\n",
        "float_num = 10.5\n",
        "print(float_num)  # Вывод: 10.5\n",
        "\n",
        "# Комплексные числа (это не нужно)\n",
        "complex_num = 2 + 3j\n",
        "print(complex_num)  # Вывод: (2+3j)\n",
        "\n",
        "# Арифметические операции\n",
        "a = 10\n",
        "b = 3\n",
        "print(a + b)  # Сложение: 13\n",
        "print(a - b)  # Вычитание: 7\n",
        "print(a * b)  # Умножение: 30\n",
        "print(a / b)  # Деление: 3.3333...\n",
        "print(a // b)  # Целочисленное деление: 3\n",
        "print(a % b)  # Остаток от деления: 1\n",
        "print(a ** b)  # Возведение в степень: 1000\n",
        "\n",
        "# Встроенные функции\n",
        "print(abs(-10))  # Абсолютное значение: 10\n",
        "print(round(10.567, 1))  # Округление: 10.6\n",
        "print(max(1, 2, 3))  # Максимум: 3\n",
        "print(min(1, 2, 3))  # Минимум: 1\n",
        "print(pow(2, 3)) # Возведение в степень: 8"
      ],
      "metadata": {
        "id": "oLKkeOdTtYiX"
      },
      "execution_count": null,
      "outputs": []
    },
    {
      "cell_type": "markdown",
      "source": [
        "### Логические операции"
      ],
      "metadata": {
        "id": "A6nAS57-xAgw"
      }
    },
    {
      "cell_type": "code",
      "source": [
        "a, b = True, False\n",
        "print(a and b)  # Логическое И\n",
        "print(a or b)  # Логическое ИЛИ\n",
        "print(not a)  # Отрицание"
      ],
      "metadata": {
        "id": "VAx7UMUHxDr3"
      },
      "execution_count": null,
      "outputs": []
    },
    {
      "cell_type": "markdown",
      "source": [
        "### Коллекции"
      ],
      "metadata": {
        "id": "RQfQTN53uhgL"
      }
    },
    {
      "cell_type": "code",
      "source": [
        "# Примеры работы с коллекциями\n",
        "\n",
        "# Списки\n",
        "my_list = [1, 2, 3, 4, 5]\n",
        "my_list.append(6)  # Добавление элемента\n",
        "print(my_list)  # Вывод: [1, 2, 3, 4, 5, 6]\n",
        "\n",
        "# Кортежи\n",
        "my_tuple = (1, 2, 3)\n",
        "print(my_tuple[0])  # Доступ к элементу: 1\n",
        "\n",
        "# Множества\n",
        "my_set = {1, 2, 3}\n",
        "my_set.add(4)  # Добавление элемента\n",
        "print(my_set)  # Вывод: {1, 2, 3, 4}\n",
        "\n",
        "# Словари\n",
        "my_dict = {'a': 1, 'b': 2}\n",
        "my_dict['c'] = 3  # Добавление элемента\n",
        "print(my_dict)  # Вывод: {'a': 1, 'b': 2, 'c': 3}\n",
        "\n",
        "# Операции с коллекциями\n",
        "print(len(my_list))  # Длина списка: 6\n",
        "print(2 in my_list)  # Проверка наличия элемента: True\n",
        "print(my_list + [7, 8, 9])  # Конкатенация списков: [1, 2, 3, 4, 5, 6, 7, 8, 9]"
      ],
      "metadata": {
        "colab": {
          "base_uri": "https://localhost:8080/"
        },
        "id": "yDHUnp2_uoB0",
        "outputId": "054a81c7-a609-479b-ece6-1ff512941ce9"
      },
      "execution_count": null,
      "outputs": [
        {
          "output_type": "stream",
          "name": "stdout",
          "text": [
            "[1, 2, 3, 4, 5, 6]\n",
            "1\n",
            "{1, 2, 3, 4}\n",
            "{'a': 1, 'b': 2, 'c': 3}\n",
            "6\n",
            "True\n",
            "[1, 2, 3, 4, 5, 6, 7, 8, 9]\n"
          ]
        }
      ]
    },
    {
      "cell_type": "code",
      "source": [
        "my_list = [1, 2, 3, 4, 5]\n",
        "\n",
        "mix_num = max(my_list)\n",
        "min_num = min(my_list)\n",
        "\n",
        "print(\"Статистический анализ данных о росте студентов:\")\n",
        "print(\"-\" * 50)\n",
        "print(f\"Минимальный рост: {min_num} см\")\n",
        "# ..."
      ],
      "metadata": {
        "colab": {
          "base_uri": "https://localhost:8080/"
        },
        "id": "jEn6uEpZyQaW",
        "outputId": "d4d3df80-9aac-4921-f805-25258a98bed5"
      },
      "execution_count": null,
      "outputs": [
        {
          "output_type": "stream",
          "name": "stdout",
          "text": [
            "Статистический анализ данных о росте студентов:\n",
            "--------------------------------------------------\n",
            "Минимальный рост: 1 см\n"
          ]
        }
      ]
    },
    {
      "cell_type": "markdown",
      "source": [
        "## 🚦 Условные операторы\n",
        "Условные операторы — это как охранники на входе в клуб. Они проверяют, соответствуете ли вы определённым условиям, и решают, куда вас направить."
      ],
      "metadata": {
        "id": "mY7aS5eRuEwm"
      }
    },
    {
      "cell_type": "code",
      "source": [
        "# Простое условие\n",
        "age = 19\n",
        "\n",
        "if age < 18:\n",
        "    print(\"Sorry, come back when you're older!\")\n",
        "else:\n",
        "    print(\"Welcome to the Python Club! Enjoy your stay!\")"
      ],
      "metadata": {
        "id": "AWYYtLWq51_R",
        "colab": {
          "base_uri": "https://localhost:8080/"
        },
        "outputId": "33f7b964-07a2-4dfd-ace6-b9d5a5e97898"
      },
      "execution_count": null,
      "outputs": [
        {
          "output_type": "stream",
          "name": "stdout",
          "text": [
            "Welcome to the Python Club! Enjoy your stay!\n"
          ]
        }
      ]
    },
    {
      "cell_type": "code",
      "source": [
        "# Примеры операторов сравнения для чисел\n",
        "x = 10\n",
        "y = 12.5\n",
        "\n",
        "# равно\n",
        "x == y\n",
        "\n",
        "# не равно\n",
        "x != y\n",
        "\n",
        "# х больше у\n",
        "x > y\n",
        "\n",
        "# х больше либо равно у\n",
        "x >= y\n",
        "\n",
        "# х меньше у\n",
        "x < y\n",
        "\n",
        "# х меньше или равно у\n",
        "x <= y"
      ],
      "metadata": {
        "id": "ydTtd4TwuIgs",
        "colab": {
          "base_uri": "https://localhost:8080/"
        },
        "outputId": "e6ebc173-b259-4555-f069-b83dd0b0b485"
      },
      "execution_count": null,
      "outputs": [
        {
          "output_type": "execute_result",
          "data": {
            "text/plain": [
              "True"
            ]
          },
          "metadata": {},
          "execution_count": 2
        }
      ]
    },
    {
      "cell_type": "code",
      "source": [
        "# Примеры операторов сравнения для строк\n",
        "\n",
        "string = \"str\"\n",
        "\n",
        "# равенство\n",
        "\"str\" == string\n",
        "\n",
        "# неравенство\n",
        "\"str\" != string\n",
        "\n",
        "# вхождение\n",
        "'s' in string\n",
        "'s' not in string"
      ],
      "metadata": {
        "colab": {
          "base_uri": "https://localhost:8080/"
        },
        "id": "DxfsEnnk7JG2",
        "outputId": "df3771d4-c94a-464c-ece3-8a37fe21d0d0"
      },
      "execution_count": null,
      "outputs": [
        {
          "output_type": "execute_result",
          "data": {
            "text/plain": [
              "False"
            ]
          },
          "metadata": {},
          "execution_count": 3
        }
      ]
    },
    {
      "cell_type": "code",
      "source": [
        "# Условие с elif\n",
        "z = 7\n",
        "\n",
        "if z > 10:\n",
        "  print(\"z is greater than 10\")\n",
        "elif z > 5:\n",
        "  print(\"z is greater than 5 but less than or equal to 10\")  # Вывод: z is greater than 5 but less than or equal to 10\n",
        "elif z == 7:\n",
        "  print(\"z is equal 7\")\n",
        "else:\n",
        "  print(\"z is less than or equal to 5\")\n",
        "\n",
        "# Вложенные условия\n",
        "a = 15\n",
        "if a > 10:\n",
        "  if a < 20:\n",
        "      print(\"a is between 10 and 20\")  # Вывод: a is between 10 and 20"
      ],
      "metadata": {
        "id": "qjdVnhNG553f",
        "colab": {
          "base_uri": "https://localhost:8080/"
        },
        "outputId": "e4eaf60f-24ef-425f-b0f8-0b52aef7e80d"
      },
      "execution_count": null,
      "outputs": [
        {
          "output_type": "stream",
          "name": "stdout",
          "text": [
            "z is greater than 5 but less than or equal to 10\n",
            "a is between 10 and 20\n"
          ]
        }
      ]
    },
    {
      "cell_type": "markdown",
      "source": [
        "## Циклы"
      ],
      "metadata": {
        "id": "_8DVvcVMuI9L"
      }
    },
    {
      "cell_type": "markdown",
      "source": [
        "### For"
      ],
      "metadata": {
        "id": "cTDoBL4LInoI"
      }
    },
    {
      "cell_type": "markdown",
      "source": [
        "**Цикл — это как очередь за шаурмой**\n",
        "\n",
        "\n",
        "Представьте, что вы стоите в очереди за шаурмой у ларька. Цикл for — это когда вы по очереди обслуживаете каждого человека перед вами.\n",
        "\n",
        "**Ситуация:** В очереди 5 человек (список = [Майкл, Миша, Вова, Паша, Галя]).\n",
        "\n",
        "**Действие:** Продавец делает шаурму для каждого по одному разу (for человек in список:).\n",
        "\n",
        "**Результат:** Все получают еду, и очередь заканчивается (print(\"Шаурма готова!\"))."
      ],
      "metadata": {
        "id": "7HtsJ1QtICVP"
      }
    },
    {
      "cell_type": "code",
      "source": [
        "queue = [\"Майкл\", \"Миша\", \"Вова\", \"Паша\", \"Галя\"]\n",
        "\n",
        "for item in queue:\n",
        "  print(f\"Шаурма для человека {item} готова!\")\n"
      ],
      "metadata": {
        "colab": {
          "base_uri": "https://localhost:8080/"
        },
        "id": "rI3tx3cfIU_3",
        "outputId": "429122ec-9e15-4828-eadb-6dc773a3a4bf"
      },
      "execution_count": null,
      "outputs": [
        {
          "output_type": "stream",
          "name": "stdout",
          "text": [
            "Шаурма для человека Майкл готова!\n",
            "Шаурма для человека Миша готова!\n",
            "Шаурма для человека Вова готова!\n",
            "Шаурма для человека Паша готова!\n",
            "Шаурма для человека Галя готова!\n",
            "Галя\n"
          ]
        }
      ]
    },
    {
      "cell_type": "code",
      "source": [
        "# Примеры циклов\n",
        "\n",
        "# Цикл for\n",
        "for i in range(1, 10, 2):\n",
        "  print(i)  # Вывод: 0 1 2 3 4\n",
        "\n",
        "\n",
        "# функция range() - функция создания диапазона значений.\n",
        "# Для простоты понимания будем считать, что range() будет эквивалентом списка, хотя это немного не так.\n",
        "# например, будем считать, что range(5) вернет список [0, 1, 2, 3, 4]\n",
        "\n",
        "# Есть три способа вызова range():\n",
        "#  range(стоп) берет один аргумент\n",
        "#  range(старт, стоп) берет два аргумента\n",
        "#  range(старт, стоп, шаг) берет три аргумента"
      ],
      "metadata": {
        "id": "qP16McW4uUwK",
        "colab": {
          "base_uri": "https://localhost:8080/"
        },
        "outputId": "c1effce2-8441-46e2-e905-bfdcc4fff452"
      },
      "execution_count": null,
      "outputs": [
        {
          "output_type": "stream",
          "name": "stdout",
          "text": [
            "1\n",
            "3\n",
            "5\n",
            "7\n",
            "9\n"
          ]
        }
      ]
    },
    {
      "cell_type": "code",
      "source": [
        "# Цикл for с итерацией по списку\n",
        "my_list = [1, 2, 3, 4, 5]\n",
        "for item in my_list:\n",
        "  print(item)  # Вывод: 1 2 3 4 5"
      ],
      "metadata": {
        "id": "x_D5mpiY76LG"
      },
      "execution_count": null,
      "outputs": []
    },
    {
      "cell_type": "code",
      "source": [
        "# Цикл while\n",
        "counter = 0\n",
        "\n",
        "while counter < 5:\n",
        "  print(counter)  # Вывод: 0 1 2 3 4\n",
        "  counter += 1\n",
        "\n",
        "print(\"end\")"
      ],
      "metadata": {
        "id": "EstCfNyR76SJ",
        "colab": {
          "base_uri": "https://localhost:8080/"
        },
        "outputId": "89039388-e461-4df9-bf70-11f162facdf4"
      },
      "execution_count": null,
      "outputs": [
        {
          "output_type": "stream",
          "name": "stdout",
          "text": [
            "0\n",
            "1\n",
            "2\n",
            "3\n",
            "4\n",
            "end\n"
          ]
        }
      ]
    },
    {
      "cell_type": "code",
      "source": [
        "# Вложенные циклы\n",
        "for i in range(3):\n",
        "  for j in range(5):\n",
        "    print(f\"i: {i}, j: {j}\")\n",
        "\n",
        "  print(\"end second\") # Вывод: i: 0, j: 0; i: 0, j: 1; i: 1, j: 0; и т.д."
      ],
      "metadata": {
        "colab": {
          "base_uri": "https://localhost:8080/"
        },
        "id": "1lD32YYx76dc",
        "outputId": "20e51c6a-1faf-41ad-be7a-c9f5754633ca"
      },
      "execution_count": null,
      "outputs": [
        {
          "output_type": "stream",
          "name": "stdout",
          "text": [
            "i: 0, j: 0\n",
            "i: 0, j: 1\n",
            "i: 0, j: 2\n",
            "i: 0, j: 3\n",
            "i: 0, j: 4\n",
            "end second\n",
            "i: 1, j: 0\n",
            "i: 1, j: 1\n",
            "i: 1, j: 2\n",
            "i: 1, j: 3\n",
            "i: 1, j: 4\n",
            "end second\n",
            "i: 2, j: 0\n",
            "i: 2, j: 1\n",
            "i: 2, j: 2\n",
            "i: 2, j: 3\n",
            "i: 2, j: 4\n",
            "end second\n"
          ]
        }
      ]
    },
    {
      "cell_type": "code",
      "source": [
        "matrix = [\n",
        "    [1, 2, 3],\n",
        "    [2, 3, 4]\n",
        "]"
      ],
      "metadata": {
        "id": "05glIy_2NGUe"
      },
      "execution_count": null,
      "outputs": []
    },
    {
      "cell_type": "code",
      "source": [
        "# Использование break и continue\n",
        "for i in range(10):\n",
        "  if i == 5:\n",
        "    break  # Выход из цикла\n",
        "\n",
        "  if i % 2 == 0:\n",
        "    continue\n",
        "  print(i)  # Вывод: 1 3\n",
        "\n",
        "# for i in range(10):\n",
        "#   if i % 2 == 0:\n",
        "#     continue  # Пропуск текущей итерации\n",
        "#   print(i)\n",
        "\n",
        "print(\"df\")"
      ],
      "metadata": {
        "id": "QyfFw15i7_vG",
        "colab": {
          "base_uri": "https://localhost:8080/"
        },
        "outputId": "5a5e4763-64af-4e04-925c-b44b4b3eee2a"
      },
      "execution_count": null,
      "outputs": [
        {
          "output_type": "stream",
          "name": "stdout",
          "text": [
            "1\n",
            "3\n",
            "df\n"
          ]
        }
      ]
    },
    {
      "cell_type": "code",
      "source": [
        "# работа с элементами словаря\n",
        "school_numbers = {\n",
        "    \"ivanov\": [3, 4, 5, 2],\n",
        "    \"petrov\": [4, 5, 5, 2],\n",
        "    \"sidorov\": [3, 5, 5, 5],\n",
        "}\n",
        "\n",
        "for key in school_numbers:\n",
        "  print(f\"ключ: {key}, значение {school_numbers[key]}\")\n",
        "\n",
        "  for value in school_numbers[key]:\n",
        "    print(value)"
      ],
      "metadata": {
        "colab": {
          "base_uri": "https://localhost:8080/"
        },
        "id": "6YpvxV_nZ2O_",
        "outputId": "67290156-a847-4a44-f5e1-1d32e48f0b46"
      },
      "execution_count": null,
      "outputs": [
        {
          "output_type": "stream",
          "name": "stdout",
          "text": [
            "ключ: ivanov, значение [3, 4, 5, 2]\n",
            "3\n",
            "4\n",
            "5\n",
            "2\n",
            "ключ: petrov, значение [4, 5, 5, 2]\n",
            "4\n",
            "5\n",
            "5\n",
            "2\n",
            "ключ: sidorov, значение [3, 5, 5, 5]\n",
            "3\n",
            "5\n",
            "5\n",
            "5\n"
          ]
        }
      ]
    },
    {
      "cell_type": "markdown",
      "source": [
        "### Списочные выражения"
      ],
      "metadata": {
        "id": "pm7iJGVsx13o"
      }
    },
    {
      "cell_type": "code",
      "source": [
        "# 1. Создание списка с числами\n",
        "numbers = [x for x in range(10)]\n",
        "print(numbers)  # [0, 1, 2, 3, 4, 5, 6, 7, 8, 9]\n",
        "\n",
        "# 2. Создание списка с условием\n",
        "even_numbers = [x for x in range(10) if x % 2 == 0]\n",
        "print(even_numbers)  # [0, 2, 4, 6, 8]\n",
        "\n",
        "# 3. Изменение элементов списка\n",
        "squared_numbers = [x**2 for x in range(10)]\n",
        "print(squared_numbers)  # [0, 1, 4, 9, 16, 25, 36, 49, 64, 81]\n",
        "\n",
        "# 4. Работа со строками\n",
        "words = [\"hello\", \"world\", \"python\"]\n",
        "uppercase_words = [word.upper() for word in words]\n",
        "print(uppercase_words)  # ['HELLO', 'WORLD', 'PYTHON']\n",
        "\n",
        "# 5. Фильтрация строк\n",
        "names = [\"Alice\", \"Bob\", \"Charlie\", \"David\"]\n",
        "short_names = [name for name in names if len(name) <= 4]\n",
        "print(short_names)  # ['Bob']\n",
        "\n",
        "# 6. Применение тернарного оператора\n",
        "numbers = [x if x % 2 == 0 else \"odd\" for x in range(10)]\n",
        "print(numbers)  # [0, 'odd', 2, 'odd', 4, 'odd', 6, 'odd', 8, 'odd']\n",
        "\n",
        "# 7. Вложенные циклы\n",
        "pairs = [(x, y) for x in range(3) for y in range(3)]\n",
        "print(pairs)  # [(0, 0), (0, 1), (0, 2), (1, 0), (1, 1), (1, 2), (2, 0), (2, 1), (2, 2)]\n",
        "\n",
        "# 8. Работа со словарями\n",
        "keys = [\"name\", \"age\", \"city\"]\n",
        "values = [\"Alice\", 25, \"New York\"]\n",
        "dictionary = {k: v for k, v in zip(keys, values)}\n",
        "print(dictionary)  # {'name': 'Alice', 'age': 25, 'city': 'New York'}\n",
        "\n",
        "# 9. Генерация множества (set comprehension)\n",
        "unique_squares = {x**2 for x in [1, 2, 2, 3, 3, 3, 4]}\n",
        "print(unique_squares)  # {16, 1, 4, 9}"
      ],
      "metadata": {
        "id": "W1jrz27Jx9DQ"
      },
      "execution_count": null,
      "outputs": []
    },
    {
      "cell_type": "markdown",
      "source": [
        "## Функции\n",
        "\n",
        "> Функции в программировании — это как кулинарные рецепты. Вы пишете инструкции один раз, а затем можете \"приготовить\" блюдо столько раз, сколько захотите\n",
        "\n",
        "\n"
      ],
      "metadata": {
        "id": "hSKfaJaTydaT"
      }
    },
    {
      "cell_type": "code",
      "source": [
        "def make_pizza(topping1, topping2):\n",
        "    \"\"\"This function prepares a delicious pizza with your toppings\"\"\"\n",
        "\n",
        "    print(f\"Making a pizza with {topping1} and {topping2}!\")\n",
        "    print(\"Kneading the dough...\")\n",
        "    print(\"Adding sauce...\")\n",
        "    print(f\"Sprinkling {topping1}...\")\n",
        "    print(f\"Adding {topping2}...\")\n",
        "    print(\"Baking for 15 minutes...\")\n",
        "\n",
        "    return \"Your delicious pizza is ready!\"\n",
        "\n",
        "result = make_pizza(\"pepperoni\", \"mushrooms\")\n",
        "print(result)\n",
        "\n",
        "result = make_pizza(\"pineapple\", \"ham\")\n",
        "print(result)"
      ],
      "metadata": {
        "id": "gi8TgTA8yfqc",
        "colab": {
          "base_uri": "https://localhost:8080/"
        },
        "outputId": "cbd15997-07c9-4977-817f-37cecc92534f"
      },
      "execution_count": null,
      "outputs": [
        {
          "output_type": "stream",
          "name": "stdout",
          "text": [
            "Making a pizza with pepperoni and mushrooms!\n",
            "Kneading the dough...\n",
            "Adding sauce...\n",
            "Sprinkling pepperoni...\n",
            "Adding mushrooms...\n",
            "Baking for 15 minutes...\n",
            "Your delicious pizza is ready!\n",
            "Making a pizza with pineapple and ham!\n",
            "Kneading the dough...\n",
            "Adding sauce...\n",
            "Sprinkling pineapple...\n",
            "Adding ham...\n",
            "Baking for 15 minutes...\n",
            "Your delicious pizza is ready!\n"
          ]
        }
      ]
    },
    {
      "cell_type": "code",
      "source": [
        "# 2. Глобальная и локальная область видимости\n",
        "x = 10  # Глобальная переменная\n",
        "\n",
        "def modify_global():\n",
        "    global x  # Разрешаем изменять глобальную переменную\n",
        "    x += 5\n",
        "\n",
        "modify_global()\n",
        "print(x)  # 15"
      ],
      "metadata": {
        "id": "OYrOj-WE0EEe"
      },
      "execution_count": null,
      "outputs": []
    },
    {
      "cell_type": "code",
      "source": [
        "# 3. Локальная область видимости\n",
        "def local_scope():\n",
        "    y = 20  # Локальная переменная\n",
        "    return y\n",
        "\n",
        "print(local_scope())  # 20\n",
        "# print(y)  # Ошибка: переменная y не определена вне функции"
      ],
      "metadata": {
        "id": "jqqgmC8U0GBD",
        "colab": {
          "base_uri": "https://localhost:8080/",
          "height": 198
        },
        "outputId": "bc5ead4e-46a7-48e6-f54b-04fa6cbb9f9a"
      },
      "execution_count": null,
      "outputs": [
        {
          "output_type": "stream",
          "name": "stdout",
          "text": [
            "20\n"
          ]
        },
        {
          "output_type": "error",
          "ename": "NameError",
          "evalue": "name 'y' is not defined",
          "traceback": [
            "\u001b[0;31m---------------------------------------------------------------------------\u001b[0m",
            "\u001b[0;31mNameError\u001b[0m                                 Traceback (most recent call last)",
            "\u001b[0;32m<ipython-input-1-ff369c8f8537>\u001b[0m in \u001b[0;36m<cell line: 0>\u001b[0;34m()\u001b[0m\n\u001b[1;32m      5\u001b[0m \u001b[0;34m\u001b[0m\u001b[0m\n\u001b[1;32m      6\u001b[0m \u001b[0mprint\u001b[0m\u001b[0;34m(\u001b[0m\u001b[0mlocal_scope\u001b[0m\u001b[0;34m(\u001b[0m\u001b[0;34m)\u001b[0m\u001b[0;34m)\u001b[0m  \u001b[0;31m# 20\u001b[0m\u001b[0;34m\u001b[0m\u001b[0;34m\u001b[0m\u001b[0m\n\u001b[0;32m----> 7\u001b[0;31m \u001b[0mprint\u001b[0m\u001b[0;34m(\u001b[0m\u001b[0my\u001b[0m\u001b[0;34m)\u001b[0m  \u001b[0;31m# Ошибка: переменная y не определена вне функции\u001b[0m\u001b[0;34m\u001b[0m\u001b[0;34m\u001b[0m\u001b[0m\n\u001b[0m",
            "\u001b[0;31mNameError\u001b[0m: name 'y' is not defined"
          ]
        }
      ]
    },
    {
      "cell_type": "code",
      "source": [
        "# 4. Передача аргументов: позиционные аргументы\n",
        "def a(a, b):\n",
        "    return a + b\n",
        "\n",
        "print(a(3, 5))  # 8"
      ],
      "metadata": {
        "id": "uivqWs2q0ILP",
        "colab": {
          "base_uri": "https://localhost:8080/"
        },
        "outputId": "f3777898-c91a-4cdd-e141-5f7410fdedaf"
      },
      "execution_count": null,
      "outputs": [
        {
          "output_type": "stream",
          "name": "stdout",
          "text": [
            "8\n"
          ]
        }
      ]
    },
    {
      "cell_type": "code",
      "source": [
        "# 5. Передача аргументов: именованные аргументы\n",
        "def introduce(name, age):\n",
        "  return f\"My name is {name} and I am {age} years old.\"\n",
        "\n",
        "result = introduce(age=25, name=\"Bob\")\n",
        "\n",
        "print(result)\n",
        "# My name is Bob and I am 25 years old."
      ],
      "metadata": {
        "id": "NyoPprmq0KaQ",
        "colab": {
          "base_uri": "https://localhost:8080/"
        },
        "outputId": "896fa803-59a6-4755-975d-71c8093ce9e7"
      },
      "execution_count": null,
      "outputs": [
        {
          "output_type": "stream",
          "name": "stdout",
          "text": [
            "My name is Bob and I am 25 years old.\n"
          ]
        }
      ]
    },
    {
      "cell_type": "code",
      "source": [
        "# 6. Аргументы по умолчанию\n",
        "def power(base, exponent=2):\n",
        "    return base ** exponent\n",
        "\n",
        "print(power(3))     # 9 (по умолчанию exponent=2)\n",
        "print(power(3, 3))  # 27"
      ],
      "metadata": {
        "id": "WRhghuws0Mw4"
      },
      "execution_count": null,
      "outputs": []
    },
    {
      "cell_type": "code",
      "source": [
        "# 7. Произвольное количество аргументов *args\n",
        "def sum_all(*args):\n",
        "    return sum(args)\n",
        "\n",
        "print(sum_all(1, 2, 3, 4, 5, 6))  # 10"
      ],
      "metadata": {
        "id": "cQw9ojTQ0O2U",
        "colab": {
          "base_uri": "https://localhost:8080/"
        },
        "outputId": "b18efac0-630c-4527-c5de-872f0c720e2b"
      },
      "execution_count": null,
      "outputs": [
        {
          "output_type": "stream",
          "name": "stdout",
          "text": [
            "21\n"
          ]
        }
      ]
    },
    {
      "cell_type": "code",
      "source": [
        "# 8. Произвольное количество именованных аргументов **kwargs\n",
        "def describe_person(**kwargs):\n",
        "    return \", \".join(f\"{key}: {value}\" for key, value in kwargs.items())\n",
        "\n",
        "print(describe_person(name=\"Alice\", age=30, city=\"New York\"))\n",
        "# name: Alice, age: 30, city: New York"
      ],
      "metadata": {
        "id": "IyX5yxgK0Q56"
      },
      "execution_count": null,
      "outputs": []
    },
    {
      "cell_type": "code",
      "source": [
        "# 9. Функции высших порядков: передача функции в аргумент\n",
        "def apply_twice(func, value):\n",
        "    return func(func(value))\n",
        "\n",
        "def square(x):\n",
        "    return x * x\n",
        "\n",
        "print(apply_twice(square, 2))  # 16 (2 → 4 → 16)\n",
        "\n",
        "# 10. Функции высших порядков: возвращение функции\n",
        "def make_multiplier(n):\n",
        "    def multiplier(x):\n",
        "        return x * n\n",
        "    return multiplier\n",
        "\n",
        "double = make_multiplier(2)\n",
        "print(double(5))  # 10"
      ],
      "metadata": {
        "id": "9pVkb63G0ShA"
      },
      "execution_count": null,
      "outputs": []
    },
    {
      "cell_type": "code",
      "source": [
        "# 11. Лямбда-функция (анонимная функция)\n",
        "double_lambda = lambda x: x * 2\n",
        "print(double_lambda(4))  # 8\n",
        "\n",
        "# 12. Лямбда в функции высшего порядка (пример с map). Функции высшего порядка - это функции, которые принимаются в качестве аргумента или возвращают другие функции\n",
        "numbers = [1, 2, 3, 4]\n",
        "squared_numbers = list(map(lambda x: x ** 2, numbers))\n",
        "print(squared_numbers)  # [1, 4, 9, 16]\n",
        "\n",
        "# 13. Лямбда в сортировке\n",
        "people = [(\"Alice\", 30), (\"Bob\", 25), (\"Charlie\", 35)]\n",
        "sorted_people = sorted(people, key=lambda person: person[1])\n",
        "print(sorted_people)  # [('Bob', 25), ('Alice', 30), ('Charlie', 35)]"
      ],
      "metadata": {
        "id": "dWJu6DVs0VUv"
      },
      "execution_count": null,
      "outputs": []
    },
    {
      "cell_type": "code",
      "source": [
        "numbers = '1 2 3 4 5'.split() # [\"1\", \"2\", \"3\"]\n",
        "\n",
        "for i in range(len(numbers)):\n",
        "  numbers[i] = int(numbers[i])\n",
        "\n",
        "numbers"
      ],
      "metadata": {
        "colab": {
          "base_uri": "https://localhost:8080/"
        },
        "id": "GEjn_XmM7il8",
        "outputId": "475c8461-a725-443d-bd6f-4aeb10c756a7"
      },
      "execution_count": null,
      "outputs": [
        {
          "name": "stdout",
          "output_type": "stream",
          "text": [
            "1 2 3 4\n"
          ]
        },
        {
          "output_type": "execute_result",
          "data": {
            "text/plain": [
              "[1, 2, 3, 4]"
            ]
          },
          "metadata": {},
          "execution_count": 7
        }
      ]
    },
    {
      "cell_type": "code",
      "source": [
        "numbers = [int(item) for item in input().split()]\n",
        "numbers"
      ],
      "metadata": {
        "colab": {
          "base_uri": "https://localhost:8080/"
        },
        "id": "KIISkG3p8ZPU",
        "outputId": "46474e4d-e366-4c99-f0be-3213224ee8ff"
      },
      "execution_count": null,
      "outputs": [
        {
          "name": "stdout",
          "output_type": "stream",
          "text": [
            "1 2 3 4\n"
          ]
        },
        {
          "output_type": "execute_result",
          "data": {
            "text/plain": [
              "[1, 2, 3, 4]"
            ]
          },
          "metadata": {},
          "execution_count": 8
        }
      ]
    },
    {
      "cell_type": "code",
      "source": [
        "numbers = list(map(int, input().split()))\n",
        "numbers"
      ],
      "metadata": {
        "colab": {
          "base_uri": "https://localhost:8080/"
        },
        "id": "VxN9nc4D8ukK",
        "outputId": "2273675d-e2fc-4697-e63e-4e6648a70eca"
      },
      "execution_count": null,
      "outputs": [
        {
          "name": "stdout",
          "output_type": "stream",
          "text": [
            "1 2 3\n"
          ]
        },
        {
          "output_type": "execute_result",
          "data": {
            "text/plain": [
              "[1, 2, 3]"
            ]
          },
          "metadata": {},
          "execution_count": 9
        }
      ]
    }
  ]
}