{
  "nbformat": 4,
  "nbformat_minor": 0,
  "metadata": {
    "colab": {
      "provenance": [],
      "collapsed_sections": [
        "EgeRPIhz1OG5"
      ],
      "authorship_tag": "ABX9TyMWQY/2e4JzcjhA5yLEI1FJ",
      "include_colab_link": true
    },
    "kernelspec": {
      "name": "python3",
      "display_name": "Python 3"
    },
    "language_info": {
      "name": "python"
    }
  },
  "cells": [
    {
      "cell_type": "markdown",
      "metadata": {
        "id": "view-in-github",
        "colab_type": "text"
      },
      "source": [
        "<a href=\"https://colab.research.google.com/github/ivn-srg/data-analysis-course-omsu/blob/main/%D0%97%D0%B0%D0%BD%D1%8F%D1%82%D0%B8%D0%B5%207/%D0%98%D0%BD%D1%81%D1%82%D1%80%D1%83%D0%BC%D0%B5%D0%BD%D1%82%D1%8B_%D0%BA%D0%BB%D0%B0%D1%81%D1%81%D0%B8%D1%84%D0%B8%D0%BA%D0%B0%D1%86%D0%B8%D0%B8.ipynb\" target=\"_parent\"><img src=\"https://colab.research.google.com/assets/colab-badge.svg\" alt=\"Open In Colab\"/></a>"
      ]
    },
    {
      "cell_type": "code",
      "execution_count": 22,
      "metadata": {
        "id": "_fyw-hRxY-o0"
      },
      "outputs": [],
      "source": [
        "import pandas as pd\n",
        "import numpy as np\n",
        "import seaborn as sns\n",
        "import matplotlib.pyplot as plt\n",
        "import statsmodels.api as sm\n",
        "from sklearn.preprocessing import LabelEncoder\n",
        "from sklearn.linear_model import LinearRegression\n",
        "from sklearn.model_selection import train_test_split\n",
        "from sklearn.metrics import r2_score, mean_squared_error\n",
        "from statsmodels.stats.diagnostic import linear_reset\n",
        "from sklearn.preprocessing import PolynomialFeatures\n",
        "from scipy.stats import t\n",
        "from scipy import stats\n",
        "import math\n",
        "from statsmodels.stats.outliers_influence import variance_inflation_factor\n",
        "from sklearn.linear_model import LogisticRegression\n",
        "from sklearn.preprocessing import StandardScaler\n",
        "from sklearn.metrics import confusion_matrix, classification_report\n",
        "from sklearn.neighbors import KNeighborsClassifier\n",
        "\n",
        "def draw_corr_matrix(data, figsize=(8, 6)):\n",
        "  # Вычисление корреляционной матрицы\n",
        "  corr_matrix = data.corr()\n",
        "\n",
        "  # Создание маски для верхней треугольной части(просто для красоты и удобства)\n",
        "  # Функция np.triu создает верхнюю треугольную матрицу из массива единиц (np.ones_like),\n",
        "  # где все элементы выше главной диагонали равны True, а остальные — False.\n",
        "  mask = np.triu(np.ones_like(corr_matrix, dtype=bool))\n",
        "\n",
        "  # Построение тепловой карты\n",
        "  plt.figure(figsize=figsize)\n",
        "  sns.heatmap(corr_matrix, mask=mask, annot=True, fmt=\".2f\", cmap='coolwarm', cbar=True)\n",
        "  plt.title(\"Корреляционная матрица (только нижняя половина)\")\n",
        "  plt.show()"
      ]
    },
    {
      "cell_type": "code",
      "source": [
        "df = pd.read_csv('/content/student_depression_dataset.csv')\n",
        "df"
      ],
      "metadata": {
        "colab": {
          "base_uri": "https://localhost:8080/",
          "height": 600
        },
        "id": "HSp7uaM8-BO_",
        "outputId": "894d5cc2-85a7-4694-a63e-44a33d2aee0e"
      },
      "execution_count": 23,
      "outputs": [
        {
          "output_type": "execute_result",
          "data": {
            "text/plain": [
              "           id  Gender   Age           City Profession  Academic Pressure  \\\n",
              "0           2    Male  33.0  Visakhapatnam    Student                5.0   \n",
              "1           8  Female  24.0      Bangalore    Student                2.0   \n",
              "2          26    Male  31.0       Srinagar    Student                3.0   \n",
              "3          30  Female  28.0       Varanasi    Student                3.0   \n",
              "4          32  Female  25.0         Jaipur    Student                4.0   \n",
              "...       ...     ...   ...            ...        ...                ...   \n",
              "27896  140685  Female  27.0          Surat    Student                5.0   \n",
              "27897  140686    Male  27.0       Ludhiana    Student                2.0   \n",
              "27898  140689    Male  31.0      Faridabad    Student                3.0   \n",
              "27899  140690  Female  18.0       Ludhiana    Student                5.0   \n",
              "27900  140699    Male  27.0          Patna    Student                4.0   \n",
              "\n",
              "       Work Pressure  CGPA  Study Satisfaction  Job Satisfaction  \\\n",
              "0                0.0  8.97                 2.0               0.0   \n",
              "1                0.0  5.90                 5.0               0.0   \n",
              "2                0.0  7.03                 5.0               0.0   \n",
              "3                0.0  5.59                 2.0               0.0   \n",
              "4                0.0  8.13                 3.0               0.0   \n",
              "...              ...   ...                 ...               ...   \n",
              "27896            0.0  5.75                 5.0               0.0   \n",
              "27897            0.0  9.40                 3.0               0.0   \n",
              "27898            0.0  6.61                 4.0               0.0   \n",
              "27899            0.0  6.88                 2.0               0.0   \n",
              "27900            0.0  9.24                 1.0               0.0   \n",
              "\n",
              "            Sleep Duration Dietary Habits      Degree  \\\n",
              "0              '5-6 hours'        Healthy     B.Pharm   \n",
              "1              '5-6 hours'       Moderate         BSc   \n",
              "2      'Less than 5 hours'        Healthy          BA   \n",
              "3              '7-8 hours'       Moderate         BCA   \n",
              "4              '5-6 hours'       Moderate      M.Tech   \n",
              "...                    ...            ...         ...   \n",
              "27896          '5-6 hours'      Unhealthy  'Class 12'   \n",
              "27897  'Less than 5 hours'        Healthy         MSc   \n",
              "27898          '5-6 hours'      Unhealthy          MD   \n",
              "27899  'Less than 5 hours'        Healthy  'Class 12'   \n",
              "27900  'Less than 5 hours'        Healthy         BCA   \n",
              "\n",
              "      Have you ever had suicidal thoughts ?  Work/Study Hours  \\\n",
              "0                                       Yes               3.0   \n",
              "1                                        No               3.0   \n",
              "2                                        No               9.0   \n",
              "3                                       Yes               4.0   \n",
              "4                                       Yes               1.0   \n",
              "...                                     ...               ...   \n",
              "27896                                   Yes               7.0   \n",
              "27897                                    No               0.0   \n",
              "27898                                    No              12.0   \n",
              "27899                                   Yes              10.0   \n",
              "27900                                   Yes               2.0   \n",
              "\n",
              "      Financial Stress Family History of Mental Illness  Depression  \n",
              "0                  1.0                               No           1  \n",
              "1                  2.0                              Yes           0  \n",
              "2                  1.0                              Yes           0  \n",
              "3                  5.0                              Yes           1  \n",
              "4                  1.0                               No           0  \n",
              "...                ...                              ...         ...  \n",
              "27896              1.0                              Yes           0  \n",
              "27897              3.0                              Yes           0  \n",
              "27898              2.0                               No           0  \n",
              "27899              5.0                               No           1  \n",
              "27900              3.0                              Yes           1  \n",
              "\n",
              "[27901 rows x 18 columns]"
            ],
            "text/html": [
              "\n",
              "  <div id=\"df-d0ef9acd-2282-4eaa-89dc-e01a05a157fe\" class=\"colab-df-container\">\n",
              "    <div>\n",
              "<style scoped>\n",
              "    .dataframe tbody tr th:only-of-type {\n",
              "        vertical-align: middle;\n",
              "    }\n",
              "\n",
              "    .dataframe tbody tr th {\n",
              "        vertical-align: top;\n",
              "    }\n",
              "\n",
              "    .dataframe thead th {\n",
              "        text-align: right;\n",
              "    }\n",
              "</style>\n",
              "<table border=\"1\" class=\"dataframe\">\n",
              "  <thead>\n",
              "    <tr style=\"text-align: right;\">\n",
              "      <th></th>\n",
              "      <th>id</th>\n",
              "      <th>Gender</th>\n",
              "      <th>Age</th>\n",
              "      <th>City</th>\n",
              "      <th>Profession</th>\n",
              "      <th>Academic Pressure</th>\n",
              "      <th>Work Pressure</th>\n",
              "      <th>CGPA</th>\n",
              "      <th>Study Satisfaction</th>\n",
              "      <th>Job Satisfaction</th>\n",
              "      <th>Sleep Duration</th>\n",
              "      <th>Dietary Habits</th>\n",
              "      <th>Degree</th>\n",
              "      <th>Have you ever had suicidal thoughts ?</th>\n",
              "      <th>Work/Study Hours</th>\n",
              "      <th>Financial Stress</th>\n",
              "      <th>Family History of Mental Illness</th>\n",
              "      <th>Depression</th>\n",
              "    </tr>\n",
              "  </thead>\n",
              "  <tbody>\n",
              "    <tr>\n",
              "      <th>0</th>\n",
              "      <td>2</td>\n",
              "      <td>Male</td>\n",
              "      <td>33.0</td>\n",
              "      <td>Visakhapatnam</td>\n",
              "      <td>Student</td>\n",
              "      <td>5.0</td>\n",
              "      <td>0.0</td>\n",
              "      <td>8.97</td>\n",
              "      <td>2.0</td>\n",
              "      <td>0.0</td>\n",
              "      <td>'5-6 hours'</td>\n",
              "      <td>Healthy</td>\n",
              "      <td>B.Pharm</td>\n",
              "      <td>Yes</td>\n",
              "      <td>3.0</td>\n",
              "      <td>1.0</td>\n",
              "      <td>No</td>\n",
              "      <td>1</td>\n",
              "    </tr>\n",
              "    <tr>\n",
              "      <th>1</th>\n",
              "      <td>8</td>\n",
              "      <td>Female</td>\n",
              "      <td>24.0</td>\n",
              "      <td>Bangalore</td>\n",
              "      <td>Student</td>\n",
              "      <td>2.0</td>\n",
              "      <td>0.0</td>\n",
              "      <td>5.90</td>\n",
              "      <td>5.0</td>\n",
              "      <td>0.0</td>\n",
              "      <td>'5-6 hours'</td>\n",
              "      <td>Moderate</td>\n",
              "      <td>BSc</td>\n",
              "      <td>No</td>\n",
              "      <td>3.0</td>\n",
              "      <td>2.0</td>\n",
              "      <td>Yes</td>\n",
              "      <td>0</td>\n",
              "    </tr>\n",
              "    <tr>\n",
              "      <th>2</th>\n",
              "      <td>26</td>\n",
              "      <td>Male</td>\n",
              "      <td>31.0</td>\n",
              "      <td>Srinagar</td>\n",
              "      <td>Student</td>\n",
              "      <td>3.0</td>\n",
              "      <td>0.0</td>\n",
              "      <td>7.03</td>\n",
              "      <td>5.0</td>\n",
              "      <td>0.0</td>\n",
              "      <td>'Less than 5 hours'</td>\n",
              "      <td>Healthy</td>\n",
              "      <td>BA</td>\n",
              "      <td>No</td>\n",
              "      <td>9.0</td>\n",
              "      <td>1.0</td>\n",
              "      <td>Yes</td>\n",
              "      <td>0</td>\n",
              "    </tr>\n",
              "    <tr>\n",
              "      <th>3</th>\n",
              "      <td>30</td>\n",
              "      <td>Female</td>\n",
              "      <td>28.0</td>\n",
              "      <td>Varanasi</td>\n",
              "      <td>Student</td>\n",
              "      <td>3.0</td>\n",
              "      <td>0.0</td>\n",
              "      <td>5.59</td>\n",
              "      <td>2.0</td>\n",
              "      <td>0.0</td>\n",
              "      <td>'7-8 hours'</td>\n",
              "      <td>Moderate</td>\n",
              "      <td>BCA</td>\n",
              "      <td>Yes</td>\n",
              "      <td>4.0</td>\n",
              "      <td>5.0</td>\n",
              "      <td>Yes</td>\n",
              "      <td>1</td>\n",
              "    </tr>\n",
              "    <tr>\n",
              "      <th>4</th>\n",
              "      <td>32</td>\n",
              "      <td>Female</td>\n",
              "      <td>25.0</td>\n",
              "      <td>Jaipur</td>\n",
              "      <td>Student</td>\n",
              "      <td>4.0</td>\n",
              "      <td>0.0</td>\n",
              "      <td>8.13</td>\n",
              "      <td>3.0</td>\n",
              "      <td>0.0</td>\n",
              "      <td>'5-6 hours'</td>\n",
              "      <td>Moderate</td>\n",
              "      <td>M.Tech</td>\n",
              "      <td>Yes</td>\n",
              "      <td>1.0</td>\n",
              "      <td>1.0</td>\n",
              "      <td>No</td>\n",
              "      <td>0</td>\n",
              "    </tr>\n",
              "    <tr>\n",
              "      <th>...</th>\n",
              "      <td>...</td>\n",
              "      <td>...</td>\n",
              "      <td>...</td>\n",
              "      <td>...</td>\n",
              "      <td>...</td>\n",
              "      <td>...</td>\n",
              "      <td>...</td>\n",
              "      <td>...</td>\n",
              "      <td>...</td>\n",
              "      <td>...</td>\n",
              "      <td>...</td>\n",
              "      <td>...</td>\n",
              "      <td>...</td>\n",
              "      <td>...</td>\n",
              "      <td>...</td>\n",
              "      <td>...</td>\n",
              "      <td>...</td>\n",
              "      <td>...</td>\n",
              "    </tr>\n",
              "    <tr>\n",
              "      <th>27896</th>\n",
              "      <td>140685</td>\n",
              "      <td>Female</td>\n",
              "      <td>27.0</td>\n",
              "      <td>Surat</td>\n",
              "      <td>Student</td>\n",
              "      <td>5.0</td>\n",
              "      <td>0.0</td>\n",
              "      <td>5.75</td>\n",
              "      <td>5.0</td>\n",
              "      <td>0.0</td>\n",
              "      <td>'5-6 hours'</td>\n",
              "      <td>Unhealthy</td>\n",
              "      <td>'Class 12'</td>\n",
              "      <td>Yes</td>\n",
              "      <td>7.0</td>\n",
              "      <td>1.0</td>\n",
              "      <td>Yes</td>\n",
              "      <td>0</td>\n",
              "    </tr>\n",
              "    <tr>\n",
              "      <th>27897</th>\n",
              "      <td>140686</td>\n",
              "      <td>Male</td>\n",
              "      <td>27.0</td>\n",
              "      <td>Ludhiana</td>\n",
              "      <td>Student</td>\n",
              "      <td>2.0</td>\n",
              "      <td>0.0</td>\n",
              "      <td>9.40</td>\n",
              "      <td>3.0</td>\n",
              "      <td>0.0</td>\n",
              "      <td>'Less than 5 hours'</td>\n",
              "      <td>Healthy</td>\n",
              "      <td>MSc</td>\n",
              "      <td>No</td>\n",
              "      <td>0.0</td>\n",
              "      <td>3.0</td>\n",
              "      <td>Yes</td>\n",
              "      <td>0</td>\n",
              "    </tr>\n",
              "    <tr>\n",
              "      <th>27898</th>\n",
              "      <td>140689</td>\n",
              "      <td>Male</td>\n",
              "      <td>31.0</td>\n",
              "      <td>Faridabad</td>\n",
              "      <td>Student</td>\n",
              "      <td>3.0</td>\n",
              "      <td>0.0</td>\n",
              "      <td>6.61</td>\n",
              "      <td>4.0</td>\n",
              "      <td>0.0</td>\n",
              "      <td>'5-6 hours'</td>\n",
              "      <td>Unhealthy</td>\n",
              "      <td>MD</td>\n",
              "      <td>No</td>\n",
              "      <td>12.0</td>\n",
              "      <td>2.0</td>\n",
              "      <td>No</td>\n",
              "      <td>0</td>\n",
              "    </tr>\n",
              "    <tr>\n",
              "      <th>27899</th>\n",
              "      <td>140690</td>\n",
              "      <td>Female</td>\n",
              "      <td>18.0</td>\n",
              "      <td>Ludhiana</td>\n",
              "      <td>Student</td>\n",
              "      <td>5.0</td>\n",
              "      <td>0.0</td>\n",
              "      <td>6.88</td>\n",
              "      <td>2.0</td>\n",
              "      <td>0.0</td>\n",
              "      <td>'Less than 5 hours'</td>\n",
              "      <td>Healthy</td>\n",
              "      <td>'Class 12'</td>\n",
              "      <td>Yes</td>\n",
              "      <td>10.0</td>\n",
              "      <td>5.0</td>\n",
              "      <td>No</td>\n",
              "      <td>1</td>\n",
              "    </tr>\n",
              "    <tr>\n",
              "      <th>27900</th>\n",
              "      <td>140699</td>\n",
              "      <td>Male</td>\n",
              "      <td>27.0</td>\n",
              "      <td>Patna</td>\n",
              "      <td>Student</td>\n",
              "      <td>4.0</td>\n",
              "      <td>0.0</td>\n",
              "      <td>9.24</td>\n",
              "      <td>1.0</td>\n",
              "      <td>0.0</td>\n",
              "      <td>'Less than 5 hours'</td>\n",
              "      <td>Healthy</td>\n",
              "      <td>BCA</td>\n",
              "      <td>Yes</td>\n",
              "      <td>2.0</td>\n",
              "      <td>3.0</td>\n",
              "      <td>Yes</td>\n",
              "      <td>1</td>\n",
              "    </tr>\n",
              "  </tbody>\n",
              "</table>\n",
              "<p>27901 rows × 18 columns</p>\n",
              "</div>\n",
              "    <div class=\"colab-df-buttons\">\n",
              "\n",
              "  <div class=\"colab-df-container\">\n",
              "    <button class=\"colab-df-convert\" onclick=\"convertToInteractive('df-d0ef9acd-2282-4eaa-89dc-e01a05a157fe')\"\n",
              "            title=\"Convert this dataframe to an interactive table.\"\n",
              "            style=\"display:none;\">\n",
              "\n",
              "  <svg xmlns=\"http://www.w3.org/2000/svg\" height=\"24px\" viewBox=\"0 -960 960 960\">\n",
              "    <path d=\"M120-120v-720h720v720H120Zm60-500h600v-160H180v160Zm220 220h160v-160H400v160Zm0 220h160v-160H400v160ZM180-400h160v-160H180v160Zm440 0h160v-160H620v160ZM180-180h160v-160H180v160Zm440 0h160v-160H620v160Z\"/>\n",
              "  </svg>\n",
              "    </button>\n",
              "\n",
              "  <style>\n",
              "    .colab-df-container {\n",
              "      display:flex;\n",
              "      gap: 12px;\n",
              "    }\n",
              "\n",
              "    .colab-df-convert {\n",
              "      background-color: #E8F0FE;\n",
              "      border: none;\n",
              "      border-radius: 50%;\n",
              "      cursor: pointer;\n",
              "      display: none;\n",
              "      fill: #1967D2;\n",
              "      height: 32px;\n",
              "      padding: 0 0 0 0;\n",
              "      width: 32px;\n",
              "    }\n",
              "\n",
              "    .colab-df-convert:hover {\n",
              "      background-color: #E2EBFA;\n",
              "      box-shadow: 0px 1px 2px rgba(60, 64, 67, 0.3), 0px 1px 3px 1px rgba(60, 64, 67, 0.15);\n",
              "      fill: #174EA6;\n",
              "    }\n",
              "\n",
              "    .colab-df-buttons div {\n",
              "      margin-bottom: 4px;\n",
              "    }\n",
              "\n",
              "    [theme=dark] .colab-df-convert {\n",
              "      background-color: #3B4455;\n",
              "      fill: #D2E3FC;\n",
              "    }\n",
              "\n",
              "    [theme=dark] .colab-df-convert:hover {\n",
              "      background-color: #434B5C;\n",
              "      box-shadow: 0px 1px 3px 1px rgba(0, 0, 0, 0.15);\n",
              "      filter: drop-shadow(0px 1px 2px rgba(0, 0, 0, 0.3));\n",
              "      fill: #FFFFFF;\n",
              "    }\n",
              "  </style>\n",
              "\n",
              "    <script>\n",
              "      const buttonEl =\n",
              "        document.querySelector('#df-d0ef9acd-2282-4eaa-89dc-e01a05a157fe button.colab-df-convert');\n",
              "      buttonEl.style.display =\n",
              "        google.colab.kernel.accessAllowed ? 'block' : 'none';\n",
              "\n",
              "      async function convertToInteractive(key) {\n",
              "        const element = document.querySelector('#df-d0ef9acd-2282-4eaa-89dc-e01a05a157fe');\n",
              "        const dataTable =\n",
              "          await google.colab.kernel.invokeFunction('convertToInteractive',\n",
              "                                                    [key], {});\n",
              "        if (!dataTable) return;\n",
              "\n",
              "        const docLinkHtml = 'Like what you see? Visit the ' +\n",
              "          '<a target=\"_blank\" href=https://colab.research.google.com/notebooks/data_table.ipynb>data table notebook</a>'\n",
              "          + ' to learn more about interactive tables.';\n",
              "        element.innerHTML = '';\n",
              "        dataTable['output_type'] = 'display_data';\n",
              "        await google.colab.output.renderOutput(dataTable, element);\n",
              "        const docLink = document.createElement('div');\n",
              "        docLink.innerHTML = docLinkHtml;\n",
              "        element.appendChild(docLink);\n",
              "      }\n",
              "    </script>\n",
              "  </div>\n",
              "\n",
              "\n",
              "<div id=\"df-236cc46d-88ae-4101-b363-5080c9468360\">\n",
              "  <button class=\"colab-df-quickchart\" onclick=\"quickchart('df-236cc46d-88ae-4101-b363-5080c9468360')\"\n",
              "            title=\"Suggest charts\"\n",
              "            style=\"display:none;\">\n",
              "\n",
              "<svg xmlns=\"http://www.w3.org/2000/svg\" height=\"24px\"viewBox=\"0 0 24 24\"\n",
              "     width=\"24px\">\n",
              "    <g>\n",
              "        <path d=\"M19 3H5c-1.1 0-2 .9-2 2v14c0 1.1.9 2 2 2h14c1.1 0 2-.9 2-2V5c0-1.1-.9-2-2-2zM9 17H7v-7h2v7zm4 0h-2V7h2v10zm4 0h-2v-4h2v4z\"/>\n",
              "    </g>\n",
              "</svg>\n",
              "  </button>\n",
              "\n",
              "<style>\n",
              "  .colab-df-quickchart {\n",
              "      --bg-color: #E8F0FE;\n",
              "      --fill-color: #1967D2;\n",
              "      --hover-bg-color: #E2EBFA;\n",
              "      --hover-fill-color: #174EA6;\n",
              "      --disabled-fill-color: #AAA;\n",
              "      --disabled-bg-color: #DDD;\n",
              "  }\n",
              "\n",
              "  [theme=dark] .colab-df-quickchart {\n",
              "      --bg-color: #3B4455;\n",
              "      --fill-color: #D2E3FC;\n",
              "      --hover-bg-color: #434B5C;\n",
              "      --hover-fill-color: #FFFFFF;\n",
              "      --disabled-bg-color: #3B4455;\n",
              "      --disabled-fill-color: #666;\n",
              "  }\n",
              "\n",
              "  .colab-df-quickchart {\n",
              "    background-color: var(--bg-color);\n",
              "    border: none;\n",
              "    border-radius: 50%;\n",
              "    cursor: pointer;\n",
              "    display: none;\n",
              "    fill: var(--fill-color);\n",
              "    height: 32px;\n",
              "    padding: 0;\n",
              "    width: 32px;\n",
              "  }\n",
              "\n",
              "  .colab-df-quickchart:hover {\n",
              "    background-color: var(--hover-bg-color);\n",
              "    box-shadow: 0 1px 2px rgba(60, 64, 67, 0.3), 0 1px 3px 1px rgba(60, 64, 67, 0.15);\n",
              "    fill: var(--button-hover-fill-color);\n",
              "  }\n",
              "\n",
              "  .colab-df-quickchart-complete:disabled,\n",
              "  .colab-df-quickchart-complete:disabled:hover {\n",
              "    background-color: var(--disabled-bg-color);\n",
              "    fill: var(--disabled-fill-color);\n",
              "    box-shadow: none;\n",
              "  }\n",
              "\n",
              "  .colab-df-spinner {\n",
              "    border: 2px solid var(--fill-color);\n",
              "    border-color: transparent;\n",
              "    border-bottom-color: var(--fill-color);\n",
              "    animation:\n",
              "      spin 1s steps(1) infinite;\n",
              "  }\n",
              "\n",
              "  @keyframes spin {\n",
              "    0% {\n",
              "      border-color: transparent;\n",
              "      border-bottom-color: var(--fill-color);\n",
              "      border-left-color: var(--fill-color);\n",
              "    }\n",
              "    20% {\n",
              "      border-color: transparent;\n",
              "      border-left-color: var(--fill-color);\n",
              "      border-top-color: var(--fill-color);\n",
              "    }\n",
              "    30% {\n",
              "      border-color: transparent;\n",
              "      border-left-color: var(--fill-color);\n",
              "      border-top-color: var(--fill-color);\n",
              "      border-right-color: var(--fill-color);\n",
              "    }\n",
              "    40% {\n",
              "      border-color: transparent;\n",
              "      border-right-color: var(--fill-color);\n",
              "      border-top-color: var(--fill-color);\n",
              "    }\n",
              "    60% {\n",
              "      border-color: transparent;\n",
              "      border-right-color: var(--fill-color);\n",
              "    }\n",
              "    80% {\n",
              "      border-color: transparent;\n",
              "      border-right-color: var(--fill-color);\n",
              "      border-bottom-color: var(--fill-color);\n",
              "    }\n",
              "    90% {\n",
              "      border-color: transparent;\n",
              "      border-bottom-color: var(--fill-color);\n",
              "    }\n",
              "  }\n",
              "</style>\n",
              "\n",
              "  <script>\n",
              "    async function quickchart(key) {\n",
              "      const quickchartButtonEl =\n",
              "        document.querySelector('#' + key + ' button');\n",
              "      quickchartButtonEl.disabled = true;  // To prevent multiple clicks.\n",
              "      quickchartButtonEl.classList.add('colab-df-spinner');\n",
              "      try {\n",
              "        const charts = await google.colab.kernel.invokeFunction(\n",
              "            'suggestCharts', [key], {});\n",
              "      } catch (error) {\n",
              "        console.error('Error during call to suggestCharts:', error);\n",
              "      }\n",
              "      quickchartButtonEl.classList.remove('colab-df-spinner');\n",
              "      quickchartButtonEl.classList.add('colab-df-quickchart-complete');\n",
              "    }\n",
              "    (() => {\n",
              "      let quickchartButtonEl =\n",
              "        document.querySelector('#df-236cc46d-88ae-4101-b363-5080c9468360 button');\n",
              "      quickchartButtonEl.style.display =\n",
              "        google.colab.kernel.accessAllowed ? 'block' : 'none';\n",
              "    })();\n",
              "  </script>\n",
              "</div>\n",
              "    </div>\n",
              "  </div>\n"
            ],
            "application/vnd.google.colaboratory.intrinsic+json": {
              "type": "dataframe",
              "variable_name": "df",
              "summary": "{\n  \"name\": \"df\",\n  \"rows\": 27901,\n  \"fields\": [\n    {\n      \"column\": \"id\",\n      \"properties\": {\n        \"dtype\": \"number\",\n        \"std\": 40641,\n        \"min\": 2,\n        \"max\": 140699,\n        \"num_unique_values\": 27901,\n        \"samples\": [\n          101205,\n          83727,\n          38395\n        ],\n        \"semantic_type\": \"\",\n        \"description\": \"\"\n      }\n    },\n    {\n      \"column\": \"Gender\",\n      \"properties\": {\n        \"dtype\": \"category\",\n        \"num_unique_values\": 2,\n        \"samples\": [\n          \"Female\",\n          \"Male\"\n        ],\n        \"semantic_type\": \"\",\n        \"description\": \"\"\n      }\n    },\n    {\n      \"column\": \"Age\",\n      \"properties\": {\n        \"dtype\": \"number\",\n        \"std\": 4.90568744892443,\n        \"min\": 18.0,\n        \"max\": 59.0,\n        \"num_unique_values\": 34,\n        \"samples\": [\n          32.0,\n          42.0\n        ],\n        \"semantic_type\": \"\",\n        \"description\": \"\"\n      }\n    },\n    {\n      \"column\": \"City\",\n      \"properties\": {\n        \"dtype\": \"category\",\n        \"num_unique_values\": 52,\n        \"samples\": [\n          \"Ludhiana\",\n          \"Harsh\"\n        ],\n        \"semantic_type\": \"\",\n        \"description\": \"\"\n      }\n    },\n    {\n      \"column\": \"Profession\",\n      \"properties\": {\n        \"dtype\": \"category\",\n        \"num_unique_values\": 14,\n        \"samples\": [\n          \"Chef\",\n          \"Lawyer\"\n        ],\n        \"semantic_type\": \"\",\n        \"description\": \"\"\n      }\n    },\n    {\n      \"column\": \"Academic Pressure\",\n      \"properties\": {\n        \"dtype\": \"number\",\n        \"std\": 1.3814648413276254,\n        \"min\": 0.0,\n        \"max\": 5.0,\n        \"num_unique_values\": 6,\n        \"samples\": [\n          5.0,\n          2.0\n        ],\n        \"semantic_type\": \"\",\n        \"description\": \"\"\n      }\n    },\n    {\n      \"column\": \"Work Pressure\",\n      \"properties\": {\n        \"dtype\": \"number\",\n        \"std\": 0.043992032063926795,\n        \"min\": 0.0,\n        \"max\": 5.0,\n        \"num_unique_values\": 3,\n        \"samples\": [\n          0.0,\n          5.0\n        ],\n        \"semantic_type\": \"\",\n        \"description\": \"\"\n      }\n    },\n    {\n      \"column\": \"CGPA\",\n      \"properties\": {\n        \"dtype\": \"number\",\n        \"std\": 1.470707346207616,\n        \"min\": 0.0,\n        \"max\": 10.0,\n        \"num_unique_values\": 332,\n        \"samples\": [\n          5.74,\n          6.32\n        ],\n        \"semantic_type\": \"\",\n        \"description\": \"\"\n      }\n    },\n    {\n      \"column\": \"Study Satisfaction\",\n      \"properties\": {\n        \"dtype\": \"number\",\n        \"std\": 1.361147955267022,\n        \"min\": 0.0,\n        \"max\": 5.0,\n        \"num_unique_values\": 6,\n        \"samples\": [\n          2.0,\n          5.0\n        ],\n        \"semantic_type\": \"\",\n        \"description\": \"\"\n      }\n    },\n    {\n      \"column\": \"Job Satisfaction\",\n      \"properties\": {\n        \"dtype\": \"number\",\n        \"std\": 0.044394396218617196,\n        \"min\": 0.0,\n        \"max\": 4.0,\n        \"num_unique_values\": 5,\n        \"samples\": [\n          3.0,\n          1.0\n        ],\n        \"semantic_type\": \"\",\n        \"description\": \"\"\n      }\n    },\n    {\n      \"column\": \"Sleep Duration\",\n      \"properties\": {\n        \"dtype\": \"category\",\n        \"num_unique_values\": 5,\n        \"samples\": [\n          \"'Less than 5 hours'\",\n          \"Others\"\n        ],\n        \"semantic_type\": \"\",\n        \"description\": \"\"\n      }\n    },\n    {\n      \"column\": \"Dietary Habits\",\n      \"properties\": {\n        \"dtype\": \"category\",\n        \"num_unique_values\": 4,\n        \"samples\": [\n          \"Moderate\",\n          \"Others\"\n        ],\n        \"semantic_type\": \"\",\n        \"description\": \"\"\n      }\n    },\n    {\n      \"column\": \"Degree\",\n      \"properties\": {\n        \"dtype\": \"category\",\n        \"num_unique_values\": 28,\n        \"samples\": [\n          \"BE\",\n          \"ME\"\n        ],\n        \"semantic_type\": \"\",\n        \"description\": \"\"\n      }\n    },\n    {\n      \"column\": \"Have you ever had suicidal thoughts ?\",\n      \"properties\": {\n        \"dtype\": \"category\",\n        \"num_unique_values\": 2,\n        \"samples\": [\n          \"No\",\n          \"Yes\"\n        ],\n        \"semantic_type\": \"\",\n        \"description\": \"\"\n      }\n    },\n    {\n      \"column\": \"Work/Study Hours\",\n      \"properties\": {\n        \"dtype\": \"number\",\n        \"std\": 3.707642072778702,\n        \"min\": 0.0,\n        \"max\": 12.0,\n        \"num_unique_values\": 13,\n        \"samples\": [\n          5.0,\n          6.0\n        ],\n        \"semantic_type\": \"\",\n        \"description\": \"\"\n      }\n    },\n    {\n      \"column\": \"Financial Stress\",\n      \"properties\": {\n        \"dtype\": \"category\",\n        \"num_unique_values\": 6,\n        \"samples\": [\n          \"1.0\",\n          \"2.0\"\n        ],\n        \"semantic_type\": \"\",\n        \"description\": \"\"\n      }\n    },\n    {\n      \"column\": \"Family History of Mental Illness\",\n      \"properties\": {\n        \"dtype\": \"category\",\n        \"num_unique_values\": 2,\n        \"samples\": [\n          \"Yes\",\n          \"No\"\n        ],\n        \"semantic_type\": \"\",\n        \"description\": \"\"\n      }\n    },\n    {\n      \"column\": \"Depression\",\n      \"properties\": {\n        \"dtype\": \"number\",\n        \"std\": 0,\n        \"min\": 0,\n        \"max\": 1,\n        \"num_unique_values\": 2,\n        \"samples\": [\n          0,\n          1\n        ],\n        \"semantic_type\": \"\",\n        \"description\": \"\"\n      }\n    }\n  ]\n}"
            }
          },
          "metadata": {},
          "execution_count": 23
        }
      ]
    },
    {
      "cell_type": "code",
      "source": [
        "df.info()"
      ],
      "metadata": {
        "colab": {
          "base_uri": "https://localhost:8080/"
        },
        "id": "i-T6fuBF-i2k",
        "outputId": "da453cda-ca32-4a7f-e92e-34448ab5a994"
      },
      "execution_count": 24,
      "outputs": [
        {
          "output_type": "stream",
          "name": "stdout",
          "text": [
            "<class 'pandas.core.frame.DataFrame'>\n",
            "RangeIndex: 27901 entries, 0 to 27900\n",
            "Data columns (total 18 columns):\n",
            " #   Column                                 Non-Null Count  Dtype  \n",
            "---  ------                                 --------------  -----  \n",
            " 0   id                                     27901 non-null  int64  \n",
            " 1   Gender                                 27901 non-null  object \n",
            " 2   Age                                    27901 non-null  float64\n",
            " 3   City                                   27901 non-null  object \n",
            " 4   Profession                             27901 non-null  object \n",
            " 5   Academic Pressure                      27901 non-null  float64\n",
            " 6   Work Pressure                          27901 non-null  float64\n",
            " 7   CGPA                                   27901 non-null  float64\n",
            " 8   Study Satisfaction                     27901 non-null  float64\n",
            " 9   Job Satisfaction                       27901 non-null  float64\n",
            " 10  Sleep Duration                         27901 non-null  object \n",
            " 11  Dietary Habits                         27901 non-null  object \n",
            " 12  Degree                                 27901 non-null  object \n",
            " 13  Have you ever had suicidal thoughts ?  27901 non-null  object \n",
            " 14  Work/Study Hours                       27901 non-null  float64\n",
            " 15  Financial Stress                       27901 non-null  object \n",
            " 16  Family History of Mental Illness       27901 non-null  object \n",
            " 17  Depression                             27901 non-null  int64  \n",
            "dtypes: float64(7), int64(2), object(9)\n",
            "memory usage: 3.8+ MB\n"
          ]
        }
      ]
    },
    {
      "cell_type": "code",
      "source": [
        "df.columns"
      ],
      "metadata": {
        "colab": {
          "base_uri": "https://localhost:8080/"
        },
        "id": "32lLWfNlB72i",
        "outputId": "e785933e-4d2b-42d9-f82a-b99f9c442b48"
      },
      "execution_count": 25,
      "outputs": [
        {
          "output_type": "execute_result",
          "data": {
            "text/plain": [
              "Index(['id', 'Gender', 'Age', 'City', 'Profession', 'Academic Pressure',\n",
              "       'Work Pressure', 'CGPA', 'Study Satisfaction', 'Job Satisfaction',\n",
              "       'Sleep Duration', 'Dietary Habits', 'Degree',\n",
              "       'Have you ever had suicidal thoughts ?', 'Work/Study Hours',\n",
              "       'Financial Stress', 'Family History of Mental Illness', 'Depression'],\n",
              "      dtype='object')"
            ]
          },
          "metadata": {},
          "execution_count": 25
        }
      ]
    },
    {
      "cell_type": "code",
      "source": [
        "enc = LabelEncoder()\n",
        "\n",
        "features_cat = ['Gender', 'City', 'Profession', 'Sleep Duration', 'Dietary Habits',\n",
        "       'Degree', 'Have you ever had suicidal thoughts ?', 'Financial Stress',\n",
        "       'Family History of Mental Illness']\n",
        "\n",
        "for col in features_cat:\n",
        "  df[col] = enc.fit_transform(df[col])"
      ],
      "metadata": {
        "id": "4gRNFCzRB0ES"
      },
      "execution_count": 26,
      "outputs": []
    },
    {
      "cell_type": "code",
      "source": [
        "list_of_params = [\n",
        "    'Gender', 'Age', 'City', 'Profession', 'Academic Pressure',\n",
        "       'Work Pressure', 'CGPA', 'Study Satisfaction', 'Job Satisfaction',\n",
        "       'Sleep Duration', 'Dietary Habits', 'Degree',\n",
        "       'Have you ever had suicidal thoughts ?', 'Work/Study Hours',\n",
        "       'Financial Stress', 'Family History of Mental Illness'\n",
        "]\n",
        "\n",
        "X = df[list_of_params]\n",
        "y = df['Depression']"
      ],
      "metadata": {
        "id": "IC3R_AYu-oO0"
      },
      "execution_count": 27,
      "outputs": []
    },
    {
      "cell_type": "code",
      "source": [
        "X_train, X_test, y_train, y_test = train_test_split(X, y, test_size=0.2, random_state=42)\n",
        "\n",
        "# Стандартизация значений признаков для их соразмерности и улучшения анализа\n",
        "scaler = StandardScaler()\n",
        "X_train_scaled = scaler.fit_transform(X_train)\n",
        "X_test_scaled = scaler.transform(X_test)"
      ],
      "metadata": {
        "id": "ly57qwhH2FMe"
      },
      "execution_count": 28,
      "outputs": []
    },
    {
      "cell_type": "markdown",
      "source": [
        "# Логистическая регрессия"
      ],
      "metadata": {
        "id": "9c7lc9wbmBMx"
      }
    },
    {
      "cell_type": "markdown",
      "source": [
        "<div style=\"padding: 20px; border-color: #c77220; border-radius: 10px; box-shadow: 0 2px 4px 0 rgba(0, 0, 0, 0.1); border: 2px solid coral;\">\n",
        "    <ul style=\"font-size: 16px; font-family: 'Arial'; line-height: 1.5em;\">\n",
        "       Классификатор логистической регрессии — это алгоритм обучения с учителем, который используется для прогнозирования наблюдений в категориальных классах с получением дискретных результатов. Этот алгоритм используется для решения задач классификации, делая прогнозы в диапазоне от нуля до единицы, поэтому его можно применять для решения таких задач классификации, как удержание клиентов, конверсия, вероятность покупки и т. д. Независимые переменные (признаки) могут быть как числовыми, так и категориальными.\n",
        "    </ul>\n",
        "</div>"
      ],
      "metadata": {
        "id": "iAezPsNIxevO"
      }
    },
    {
      "cell_type": "markdown",
      "source": [
        "## **Понимание Logistic Regression**"
      ],
      "metadata": {
        "id": "CJU4BodmxRpc"
      }
    },
    {
      "cell_type": "markdown",
      "source": [
        "<div style=\"padding: 20px; border-color: #c77220; border-radius: 10px; box-shadow: 0 2px 4px 0 rgba(0, 0, 0, 0.1); border: 2px solid coral;\">\n",
        "    <ul style=\"font-size: 16px; font-family: 'Arial'; line-height: 1.5em;\">\n",
        "      В логистической регрессии мы используем сигмоидальную функцию, которая преобразует выходное значение от нуля до единицы, и традиционную формулу регрессии внутри логистической функции, таким образом выстраивая взаимосвязь между зависимыми и независимыми переменными.\n",
        "    </ul>\n",
        "</div>"
      ],
      "metadata": {
        "id": "4mrX0gvjxRpd"
      }
    },
    {
      "cell_type": "markdown",
      "source": [
        "<div style=\"text-align: center;\">\n",
        "    <img src=\"https://miro.medium.com/v2/resize:fit:640/format:webp/1*WZM13gd9MvKtaj9sZFZPmw.png\" alt=\"alzheimers\" style=\"width:20%; height:auto; border-radius: 30px;\">\n",
        "</div>\n"
      ],
      "metadata": {
        "id": "8UnqgZ27xRpd"
      }
    },
    {
      "cell_type": "markdown",
      "source": [
        "<div style=\"text-align: center;\">\n",
        "    <img src=\"https://miro.medium.com/v2/resize:fit:828/format:webp/1*K9aObIFQuw_Kz9jAlJ8gDQ.png\" style=\"width:30%; height:auto; border-radius: 30px;\">\n",
        "</div>"
      ],
      "metadata": {
        "id": "INvry2kzxRpd"
      }
    },
    {
      "cell_type": "markdown",
      "source": [
        "\n",
        "\n",
        "<div style=\"padding: 20px; border-color: #c77220; border-radius: 10px; box-shadow: 0 2px 4px 0 rgba(0, 0, 0, 0.1); border: 2px solid coral;\">\n",
        "    <ul style=\"font-size: 16px; font-family: 'Arial'; line-height: 1.5em;\">\n",
        "      Метод логистической регрессии позволяет по-другому интерпретировать коэффициенты. Метод линейной регрессии описывает прямую линию, в то время как логистическая регрессия описывает кривую линию между нулём и единицей, которая выглядит как S-образная.\n",
        "    </ul>\n",
        "</div>\n"
      ],
      "metadata": {
        "id": "bJ7QEg70xRpd"
      }
    },
    {
      "cell_type": "markdown",
      "source": [
        "<div style=\"text-align: center;\">\n",
        "    <img src=\"https://miro.medium.com/v2/resize:fit:700/1*VKOyjAsJtaR5fY_ENnampQ.jpeg\" alt=\"alzheimers\" style=\"width:100%; height:auto; border-radius: 30px;\">\n",
        "</div>"
      ],
      "metadata": {
        "id": "OPLjnLI8xRpe"
      }
    },
    {
      "cell_type": "markdown",
      "source": [
        "## Logistic Regression задачах классификации"
      ],
      "metadata": {
        "id": "XAXa0pXfxRpe"
      }
    },
    {
      "cell_type": "markdown",
      "source": [
        "<div style=\"padding: 20px; border-color: #c77220; border-radius: 10px; box-shadow: 0 2px 4px 0 rgba(0, 0, 0, 0.1); border: 2px solid coral;\">\n",
        "    <ul style=\"font-size: 16px; font-family: 'Arial'; line-height: 1.5em;\">\n",
        "      Линейная регрессия может давать прогнозы как ниже 0, так и выше 1, и не может быть сопоставлена с чётким пороговым значением классификации, таким как (0,5), что приводит к нестабильности прогнозов. Однако логистическая регрессия используется в задачах классификации, поскольку она выполняет классификацию на основе диапазона вероятностей. Таким образом, она решает эти проблемы за счёт включения сигмоидальной функции, которая преобразует результат в диапазон от 0 до 1, что крайне важно для получения значимых вероятностей классов.\n",
        "    </ul>\n",
        "</div>\n"
      ],
      "metadata": {
        "id": "p8b3y0xMxRpe"
      }
    },
    {
      "cell_type": "markdown",
      "source": [
        "<div style=\"text-align: center;\">\n",
        "    <img src=\"https://miro.medium.com/v2/resize:fit:1100/format:webp/1*XRCJt-5yNXDfzrVbEbh4DA.gif\" alt=\"alzheimers\" style=\"width:100%; height:auto; border-radius: 30px;\">\n",
        "</div>\n"
      ],
      "metadata": {
        "id": "wHo7YcUtxRpe"
      }
    },
    {
      "cell_type": "markdown",
      "source": [
        "## Типы логистических классификаторов"
      ],
      "metadata": {
        "id": "t2-PTxy9xRpe"
      }
    },
    {
      "cell_type": "markdown",
      "source": [
        "<h2>1. Бинарная логистическая регрессия</h2>\n",
        "    <p><strong>Описание:</strong> это самая простая форма логистической регрессии, в которой целевая переменная имеет только два возможных значения.</p>\n",
        "    <p><strong>Пример:</strong> определение того, является ли электронное письмо спамом (спам или не спам).</p>\n",
        "\n",
        "  <h2>2. Многовариантная логистическая регрессия</h2>\n",
        "    <p><strong>Описание:</strong> этот тип логистической регрессии используется, когда целевая переменная имеет более двух категорий, и эти категории не упорядочены.</p>\n",
        "    <p><strong>Пример:</strong> прогнозирование типа фрукта (яблоко, апельсин, банан).</p>\n",
        "\n",
        "  <h2>3. Порядковая логистическая регрессия</h2>\n",
        "    <p><strong>Описание:</strong> используется, когда целевая переменная имеет более двух категорий, и эти категории имеют естественный порядок.</p>\n",
        "    <p><strong>Пример:</strong> прогнозирование уровня образования (средняя школа, бакалавриат, магистратура).</p>\n",
        "\n",
        "  <h2>Резюме</h2>\n",
        "    <ul>\n",
        "        <li><strong>Бинарная логистическая регрессия:</strong> два класса (например, да/нет, успех/неудача).</li>\n",
        "        <li><strong>Мультиномиальная логистическая регрессия:</strong> более двух классов без порядка (например, кошка, собака, кролик).</li>\n",
        "        <li><strong>Порядковая логистическая регрессия:</strong> более двух классов с естественным порядком (например, низкий, средний, высокий).</li>\n",
        "    </ul>"
      ],
      "metadata": {
        "id": "DTuZuH8rxRpe"
      }
    },
    {
      "cell_type": "code",
      "source": [
        "from sklearn.linear_model import LogisticRegression\n",
        "logistic_regression_model = LogisticRegression()\n",
        "logistic_regression_model.fit(X_train_scaled, y_train)"
      ],
      "metadata": {
        "id": "IW2kyrBP-XXd",
        "colab": {
          "base_uri": "https://localhost:8080/",
          "height": 80
        },
        "outputId": "b7477042-79b6-48aa-b331-fc3249e00b5c"
      },
      "execution_count": 29,
      "outputs": [
        {
          "output_type": "execute_result",
          "data": {
            "text/plain": [
              "LogisticRegression()"
            ],
            "text/html": [
              "<style>#sk-container-id-2 {\n",
              "  /* Definition of color scheme common for light and dark mode */\n",
              "  --sklearn-color-text: #000;\n",
              "  --sklearn-color-text-muted: #666;\n",
              "  --sklearn-color-line: gray;\n",
              "  /* Definition of color scheme for unfitted estimators */\n",
              "  --sklearn-color-unfitted-level-0: #fff5e6;\n",
              "  --sklearn-color-unfitted-level-1: #f6e4d2;\n",
              "  --sklearn-color-unfitted-level-2: #ffe0b3;\n",
              "  --sklearn-color-unfitted-level-3: chocolate;\n",
              "  /* Definition of color scheme for fitted estimators */\n",
              "  --sklearn-color-fitted-level-0: #f0f8ff;\n",
              "  --sklearn-color-fitted-level-1: #d4ebff;\n",
              "  --sklearn-color-fitted-level-2: #b3dbfd;\n",
              "  --sklearn-color-fitted-level-3: cornflowerblue;\n",
              "\n",
              "  /* Specific color for light theme */\n",
              "  --sklearn-color-text-on-default-background: var(--sg-text-color, var(--theme-code-foreground, var(--jp-content-font-color1, black)));\n",
              "  --sklearn-color-background: var(--sg-background-color, var(--theme-background, var(--jp-layout-color0, white)));\n",
              "  --sklearn-color-border-box: var(--sg-text-color, var(--theme-code-foreground, var(--jp-content-font-color1, black)));\n",
              "  --sklearn-color-icon: #696969;\n",
              "\n",
              "  @media (prefers-color-scheme: dark) {\n",
              "    /* Redefinition of color scheme for dark theme */\n",
              "    --sklearn-color-text-on-default-background: var(--sg-text-color, var(--theme-code-foreground, var(--jp-content-font-color1, white)));\n",
              "    --sklearn-color-background: var(--sg-background-color, var(--theme-background, var(--jp-layout-color0, #111)));\n",
              "    --sklearn-color-border-box: var(--sg-text-color, var(--theme-code-foreground, var(--jp-content-font-color1, white)));\n",
              "    --sklearn-color-icon: #878787;\n",
              "  }\n",
              "}\n",
              "\n",
              "#sk-container-id-2 {\n",
              "  color: var(--sklearn-color-text);\n",
              "}\n",
              "\n",
              "#sk-container-id-2 pre {\n",
              "  padding: 0;\n",
              "}\n",
              "\n",
              "#sk-container-id-2 input.sk-hidden--visually {\n",
              "  border: 0;\n",
              "  clip: rect(1px 1px 1px 1px);\n",
              "  clip: rect(1px, 1px, 1px, 1px);\n",
              "  height: 1px;\n",
              "  margin: -1px;\n",
              "  overflow: hidden;\n",
              "  padding: 0;\n",
              "  position: absolute;\n",
              "  width: 1px;\n",
              "}\n",
              "\n",
              "#sk-container-id-2 div.sk-dashed-wrapped {\n",
              "  border: 1px dashed var(--sklearn-color-line);\n",
              "  margin: 0 0.4em 0.5em 0.4em;\n",
              "  box-sizing: border-box;\n",
              "  padding-bottom: 0.4em;\n",
              "  background-color: var(--sklearn-color-background);\n",
              "}\n",
              "\n",
              "#sk-container-id-2 div.sk-container {\n",
              "  /* jupyter's `normalize.less` sets `[hidden] { display: none; }`\n",
              "     but bootstrap.min.css set `[hidden] { display: none !important; }`\n",
              "     so we also need the `!important` here to be able to override the\n",
              "     default hidden behavior on the sphinx rendered scikit-learn.org.\n",
              "     See: https://github.com/scikit-learn/scikit-learn/issues/21755 */\n",
              "  display: inline-block !important;\n",
              "  position: relative;\n",
              "}\n",
              "\n",
              "#sk-container-id-2 div.sk-text-repr-fallback {\n",
              "  display: none;\n",
              "}\n",
              "\n",
              "div.sk-parallel-item,\n",
              "div.sk-serial,\n",
              "div.sk-item {\n",
              "  /* draw centered vertical line to link estimators */\n",
              "  background-image: linear-gradient(var(--sklearn-color-text-on-default-background), var(--sklearn-color-text-on-default-background));\n",
              "  background-size: 2px 100%;\n",
              "  background-repeat: no-repeat;\n",
              "  background-position: center center;\n",
              "}\n",
              "\n",
              "/* Parallel-specific style estimator block */\n",
              "\n",
              "#sk-container-id-2 div.sk-parallel-item::after {\n",
              "  content: \"\";\n",
              "  width: 100%;\n",
              "  border-bottom: 2px solid var(--sklearn-color-text-on-default-background);\n",
              "  flex-grow: 1;\n",
              "}\n",
              "\n",
              "#sk-container-id-2 div.sk-parallel {\n",
              "  display: flex;\n",
              "  align-items: stretch;\n",
              "  justify-content: center;\n",
              "  background-color: var(--sklearn-color-background);\n",
              "  position: relative;\n",
              "}\n",
              "\n",
              "#sk-container-id-2 div.sk-parallel-item {\n",
              "  display: flex;\n",
              "  flex-direction: column;\n",
              "}\n",
              "\n",
              "#sk-container-id-2 div.sk-parallel-item:first-child::after {\n",
              "  align-self: flex-end;\n",
              "  width: 50%;\n",
              "}\n",
              "\n",
              "#sk-container-id-2 div.sk-parallel-item:last-child::after {\n",
              "  align-self: flex-start;\n",
              "  width: 50%;\n",
              "}\n",
              "\n",
              "#sk-container-id-2 div.sk-parallel-item:only-child::after {\n",
              "  width: 0;\n",
              "}\n",
              "\n",
              "/* Serial-specific style estimator block */\n",
              "\n",
              "#sk-container-id-2 div.sk-serial {\n",
              "  display: flex;\n",
              "  flex-direction: column;\n",
              "  align-items: center;\n",
              "  background-color: var(--sklearn-color-background);\n",
              "  padding-right: 1em;\n",
              "  padding-left: 1em;\n",
              "}\n",
              "\n",
              "\n",
              "/* Toggleable style: style used for estimator/Pipeline/ColumnTransformer box that is\n",
              "clickable and can be expanded/collapsed.\n",
              "- Pipeline and ColumnTransformer use this feature and define the default style\n",
              "- Estimators will overwrite some part of the style using the `sk-estimator` class\n",
              "*/\n",
              "\n",
              "/* Pipeline and ColumnTransformer style (default) */\n",
              "\n",
              "#sk-container-id-2 div.sk-toggleable {\n",
              "  /* Default theme specific background. It is overwritten whether we have a\n",
              "  specific estimator or a Pipeline/ColumnTransformer */\n",
              "  background-color: var(--sklearn-color-background);\n",
              "}\n",
              "\n",
              "/* Toggleable label */\n",
              "#sk-container-id-2 label.sk-toggleable__label {\n",
              "  cursor: pointer;\n",
              "  display: flex;\n",
              "  width: 100%;\n",
              "  margin-bottom: 0;\n",
              "  padding: 0.5em;\n",
              "  box-sizing: border-box;\n",
              "  text-align: center;\n",
              "  align-items: start;\n",
              "  justify-content: space-between;\n",
              "  gap: 0.5em;\n",
              "}\n",
              "\n",
              "#sk-container-id-2 label.sk-toggleable__label .caption {\n",
              "  font-size: 0.6rem;\n",
              "  font-weight: lighter;\n",
              "  color: var(--sklearn-color-text-muted);\n",
              "}\n",
              "\n",
              "#sk-container-id-2 label.sk-toggleable__label-arrow:before {\n",
              "  /* Arrow on the left of the label */\n",
              "  content: \"▸\";\n",
              "  float: left;\n",
              "  margin-right: 0.25em;\n",
              "  color: var(--sklearn-color-icon);\n",
              "}\n",
              "\n",
              "#sk-container-id-2 label.sk-toggleable__label-arrow:hover:before {\n",
              "  color: var(--sklearn-color-text);\n",
              "}\n",
              "\n",
              "/* Toggleable content - dropdown */\n",
              "\n",
              "#sk-container-id-2 div.sk-toggleable__content {\n",
              "  max-height: 0;\n",
              "  max-width: 0;\n",
              "  overflow: hidden;\n",
              "  text-align: left;\n",
              "  /* unfitted */\n",
              "  background-color: var(--sklearn-color-unfitted-level-0);\n",
              "}\n",
              "\n",
              "#sk-container-id-2 div.sk-toggleable__content.fitted {\n",
              "  /* fitted */\n",
              "  background-color: var(--sklearn-color-fitted-level-0);\n",
              "}\n",
              "\n",
              "#sk-container-id-2 div.sk-toggleable__content pre {\n",
              "  margin: 0.2em;\n",
              "  border-radius: 0.25em;\n",
              "  color: var(--sklearn-color-text);\n",
              "  /* unfitted */\n",
              "  background-color: var(--sklearn-color-unfitted-level-0);\n",
              "}\n",
              "\n",
              "#sk-container-id-2 div.sk-toggleable__content.fitted pre {\n",
              "  /* unfitted */\n",
              "  background-color: var(--sklearn-color-fitted-level-0);\n",
              "}\n",
              "\n",
              "#sk-container-id-2 input.sk-toggleable__control:checked~div.sk-toggleable__content {\n",
              "  /* Expand drop-down */\n",
              "  max-height: 200px;\n",
              "  max-width: 100%;\n",
              "  overflow: auto;\n",
              "}\n",
              "\n",
              "#sk-container-id-2 input.sk-toggleable__control:checked~label.sk-toggleable__label-arrow:before {\n",
              "  content: \"▾\";\n",
              "}\n",
              "\n",
              "/* Pipeline/ColumnTransformer-specific style */\n",
              "\n",
              "#sk-container-id-2 div.sk-label input.sk-toggleable__control:checked~label.sk-toggleable__label {\n",
              "  color: var(--sklearn-color-text);\n",
              "  background-color: var(--sklearn-color-unfitted-level-2);\n",
              "}\n",
              "\n",
              "#sk-container-id-2 div.sk-label.fitted input.sk-toggleable__control:checked~label.sk-toggleable__label {\n",
              "  background-color: var(--sklearn-color-fitted-level-2);\n",
              "}\n",
              "\n",
              "/* Estimator-specific style */\n",
              "\n",
              "/* Colorize estimator box */\n",
              "#sk-container-id-2 div.sk-estimator input.sk-toggleable__control:checked~label.sk-toggleable__label {\n",
              "  /* unfitted */\n",
              "  background-color: var(--sklearn-color-unfitted-level-2);\n",
              "}\n",
              "\n",
              "#sk-container-id-2 div.sk-estimator.fitted input.sk-toggleable__control:checked~label.sk-toggleable__label {\n",
              "  /* fitted */\n",
              "  background-color: var(--sklearn-color-fitted-level-2);\n",
              "}\n",
              "\n",
              "#sk-container-id-2 div.sk-label label.sk-toggleable__label,\n",
              "#sk-container-id-2 div.sk-label label {\n",
              "  /* The background is the default theme color */\n",
              "  color: var(--sklearn-color-text-on-default-background);\n",
              "}\n",
              "\n",
              "/* On hover, darken the color of the background */\n",
              "#sk-container-id-2 div.sk-label:hover label.sk-toggleable__label {\n",
              "  color: var(--sklearn-color-text);\n",
              "  background-color: var(--sklearn-color-unfitted-level-2);\n",
              "}\n",
              "\n",
              "/* Label box, darken color on hover, fitted */\n",
              "#sk-container-id-2 div.sk-label.fitted:hover label.sk-toggleable__label.fitted {\n",
              "  color: var(--sklearn-color-text);\n",
              "  background-color: var(--sklearn-color-fitted-level-2);\n",
              "}\n",
              "\n",
              "/* Estimator label */\n",
              "\n",
              "#sk-container-id-2 div.sk-label label {\n",
              "  font-family: monospace;\n",
              "  font-weight: bold;\n",
              "  display: inline-block;\n",
              "  line-height: 1.2em;\n",
              "}\n",
              "\n",
              "#sk-container-id-2 div.sk-label-container {\n",
              "  text-align: center;\n",
              "}\n",
              "\n",
              "/* Estimator-specific */\n",
              "#sk-container-id-2 div.sk-estimator {\n",
              "  font-family: monospace;\n",
              "  border: 1px dotted var(--sklearn-color-border-box);\n",
              "  border-radius: 0.25em;\n",
              "  box-sizing: border-box;\n",
              "  margin-bottom: 0.5em;\n",
              "  /* unfitted */\n",
              "  background-color: var(--sklearn-color-unfitted-level-0);\n",
              "}\n",
              "\n",
              "#sk-container-id-2 div.sk-estimator.fitted {\n",
              "  /* fitted */\n",
              "  background-color: var(--sklearn-color-fitted-level-0);\n",
              "}\n",
              "\n",
              "/* on hover */\n",
              "#sk-container-id-2 div.sk-estimator:hover {\n",
              "  /* unfitted */\n",
              "  background-color: var(--sklearn-color-unfitted-level-2);\n",
              "}\n",
              "\n",
              "#sk-container-id-2 div.sk-estimator.fitted:hover {\n",
              "  /* fitted */\n",
              "  background-color: var(--sklearn-color-fitted-level-2);\n",
              "}\n",
              "\n",
              "/* Specification for estimator info (e.g. \"i\" and \"?\") */\n",
              "\n",
              "/* Common style for \"i\" and \"?\" */\n",
              "\n",
              ".sk-estimator-doc-link,\n",
              "a:link.sk-estimator-doc-link,\n",
              "a:visited.sk-estimator-doc-link {\n",
              "  float: right;\n",
              "  font-size: smaller;\n",
              "  line-height: 1em;\n",
              "  font-family: monospace;\n",
              "  background-color: var(--sklearn-color-background);\n",
              "  border-radius: 1em;\n",
              "  height: 1em;\n",
              "  width: 1em;\n",
              "  text-decoration: none !important;\n",
              "  margin-left: 0.5em;\n",
              "  text-align: center;\n",
              "  /* unfitted */\n",
              "  border: var(--sklearn-color-unfitted-level-1) 1pt solid;\n",
              "  color: var(--sklearn-color-unfitted-level-1);\n",
              "}\n",
              "\n",
              ".sk-estimator-doc-link.fitted,\n",
              "a:link.sk-estimator-doc-link.fitted,\n",
              "a:visited.sk-estimator-doc-link.fitted {\n",
              "  /* fitted */\n",
              "  border: var(--sklearn-color-fitted-level-1) 1pt solid;\n",
              "  color: var(--sklearn-color-fitted-level-1);\n",
              "}\n",
              "\n",
              "/* On hover */\n",
              "div.sk-estimator:hover .sk-estimator-doc-link:hover,\n",
              ".sk-estimator-doc-link:hover,\n",
              "div.sk-label-container:hover .sk-estimator-doc-link:hover,\n",
              ".sk-estimator-doc-link:hover {\n",
              "  /* unfitted */\n",
              "  background-color: var(--sklearn-color-unfitted-level-3);\n",
              "  color: var(--sklearn-color-background);\n",
              "  text-decoration: none;\n",
              "}\n",
              "\n",
              "div.sk-estimator.fitted:hover .sk-estimator-doc-link.fitted:hover,\n",
              ".sk-estimator-doc-link.fitted:hover,\n",
              "div.sk-label-container:hover .sk-estimator-doc-link.fitted:hover,\n",
              ".sk-estimator-doc-link.fitted:hover {\n",
              "  /* fitted */\n",
              "  background-color: var(--sklearn-color-fitted-level-3);\n",
              "  color: var(--sklearn-color-background);\n",
              "  text-decoration: none;\n",
              "}\n",
              "\n",
              "/* Span, style for the box shown on hovering the info icon */\n",
              ".sk-estimator-doc-link span {\n",
              "  display: none;\n",
              "  z-index: 9999;\n",
              "  position: relative;\n",
              "  font-weight: normal;\n",
              "  right: .2ex;\n",
              "  padding: .5ex;\n",
              "  margin: .5ex;\n",
              "  width: min-content;\n",
              "  min-width: 20ex;\n",
              "  max-width: 50ex;\n",
              "  color: var(--sklearn-color-text);\n",
              "  box-shadow: 2pt 2pt 4pt #999;\n",
              "  /* unfitted */\n",
              "  background: var(--sklearn-color-unfitted-level-0);\n",
              "  border: .5pt solid var(--sklearn-color-unfitted-level-3);\n",
              "}\n",
              "\n",
              ".sk-estimator-doc-link.fitted span {\n",
              "  /* fitted */\n",
              "  background: var(--sklearn-color-fitted-level-0);\n",
              "  border: var(--sklearn-color-fitted-level-3);\n",
              "}\n",
              "\n",
              ".sk-estimator-doc-link:hover span {\n",
              "  display: block;\n",
              "}\n",
              "\n",
              "/* \"?\"-specific style due to the `<a>` HTML tag */\n",
              "\n",
              "#sk-container-id-2 a.estimator_doc_link {\n",
              "  float: right;\n",
              "  font-size: 1rem;\n",
              "  line-height: 1em;\n",
              "  font-family: monospace;\n",
              "  background-color: var(--sklearn-color-background);\n",
              "  border-radius: 1rem;\n",
              "  height: 1rem;\n",
              "  width: 1rem;\n",
              "  text-decoration: none;\n",
              "  /* unfitted */\n",
              "  color: var(--sklearn-color-unfitted-level-1);\n",
              "  border: var(--sklearn-color-unfitted-level-1) 1pt solid;\n",
              "}\n",
              "\n",
              "#sk-container-id-2 a.estimator_doc_link.fitted {\n",
              "  /* fitted */\n",
              "  border: var(--sklearn-color-fitted-level-1) 1pt solid;\n",
              "  color: var(--sklearn-color-fitted-level-1);\n",
              "}\n",
              "\n",
              "/* On hover */\n",
              "#sk-container-id-2 a.estimator_doc_link:hover {\n",
              "  /* unfitted */\n",
              "  background-color: var(--sklearn-color-unfitted-level-3);\n",
              "  color: var(--sklearn-color-background);\n",
              "  text-decoration: none;\n",
              "}\n",
              "\n",
              "#sk-container-id-2 a.estimator_doc_link.fitted:hover {\n",
              "  /* fitted */\n",
              "  background-color: var(--sklearn-color-fitted-level-3);\n",
              "}\n",
              "</style><div id=\"sk-container-id-2\" class=\"sk-top-container\"><div class=\"sk-text-repr-fallback\"><pre>LogisticRegression()</pre><b>In a Jupyter environment, please rerun this cell to show the HTML representation or trust the notebook. <br />On GitHub, the HTML representation is unable to render, please try loading this page with nbviewer.org.</b></div><div class=\"sk-container\" hidden><div class=\"sk-item\"><div class=\"sk-estimator fitted sk-toggleable\"><input class=\"sk-toggleable__control sk-hidden--visually\" id=\"sk-estimator-id-2\" type=\"checkbox\" checked><label for=\"sk-estimator-id-2\" class=\"sk-toggleable__label fitted sk-toggleable__label-arrow\"><div><div>LogisticRegression</div></div><div><a class=\"sk-estimator-doc-link fitted\" rel=\"noreferrer\" target=\"_blank\" href=\"https://scikit-learn.org/1.6/modules/generated/sklearn.linear_model.LogisticRegression.html\">?<span>Documentation for LogisticRegression</span></a><span class=\"sk-estimator-doc-link fitted\">i<span>Fitted</span></span></div></label><div class=\"sk-toggleable__content fitted\"><pre>LogisticRegression()</pre></div> </div></div></div></div>"
            ]
          },
          "metadata": {},
          "execution_count": 29
        }
      ]
    },
    {
      "cell_type": "code",
      "source": [
        "logistic_regression_model.coef_"
      ],
      "metadata": {
        "id": "OW9uUM1QAT7H",
        "colab": {
          "base_uri": "https://localhost:8080/"
        },
        "outputId": "3b72f75f-860e-4382-ef9e-58a4abe8a133"
      },
      "execution_count": 30,
      "outputs": [
        {
          "output_type": "execute_result",
          "data": {
            "text/plain": [
              "array([[ 0.00366399, -0.53542582, -0.03558507, -0.06114376,  1.16888755,\n",
              "         0.00613917,  0.09489271, -0.33553688,  0.00869212, -0.04332163,\n",
              "         0.42888137,  0.02290561,  1.23241687,  0.43487561,  0.79764121,\n",
              "         0.14190256]])"
            ]
          },
          "metadata": {},
          "execution_count": 30
        }
      ]
    },
    {
      "cell_type": "code",
      "source": [
        "logistic_regression_model.intercept_"
      ],
      "metadata": {
        "colab": {
          "base_uri": "https://localhost:8080/"
        },
        "id": "Eykj-AtZ2TCS",
        "outputId": "1f9dc59e-d9c4-40db-8b36-185345773642"
      },
      "execution_count": 31,
      "outputs": [
        {
          "output_type": "execute_result",
          "data": {
            "text/plain": [
              "array([0.60576766])"
            ]
          },
          "metadata": {},
          "execution_count": 31
        }
      ]
    },
    {
      "cell_type": "code",
      "source": [
        "y_pred = logistic_regression_model.predict(X_test_scaled)\n",
        "y_pred"
      ],
      "metadata": {
        "colab": {
          "base_uri": "https://localhost:8080/"
        },
        "id": "YTbXzxa92VJl",
        "outputId": "bdfbdf37-ba4d-4d2b-fef5-ee83f1cb5e10"
      },
      "execution_count": 32,
      "outputs": [
        {
          "output_type": "execute_result",
          "data": {
            "text/plain": [
              "array([0, 0, 0, ..., 1, 0, 1])"
            ]
          },
          "metadata": {},
          "execution_count": 32
        }
      ]
    },
    {
      "cell_type": "code",
      "source": [
        "score = logistic_regression_model.score(X_test_scaled, y_test)\n",
        "score"
      ],
      "metadata": {
        "colab": {
          "base_uri": "https://localhost:8080/"
        },
        "id": "40u7Q9i02Xxm",
        "outputId": "113db11f-5680-40b7-e2f7-9ae1d6adcd7c"
      },
      "execution_count": 33,
      "outputs": [
        {
          "output_type": "execute_result",
          "data": {
            "text/plain": [
              "0.8364092456549006"
            ]
          },
          "metadata": {},
          "execution_count": 33
        }
      ]
    },
    {
      "cell_type": "markdown",
      "source": [
        "# Метрики оценки качества моделей классификации"
      ],
      "metadata": {
        "id": "70tapa9s5ngq"
      }
    },
    {
      "cell_type": "markdown",
      "source": [
        "# Метрики оценки качества моделей классификации\n",
        "\n",
        "## 1. Метрики на основе матрицы ошибок (Confusion Matrix)\n",
        "\n",
        "**Матрица ошибок** содержит информацию о фактических и предсказанных классификациях:\n",
        "\n",
        "- **True Positive (TP)**: Правильно предсказанные положительные примеры\n",
        "- **True Negative (TN)**: Правильно предсказанные отрицательные примеры\n",
        "- **False Positive (FP)**: Отрицательные примеры, неправильно предсказанные как положительные (ошибка I рода)\n",
        "- **False Negative (FN)**: Положительные примеры, неправильно предсказанные как отрицательные (ошибка II рода)\n",
        "\n",
        "### Производные метрики:\n",
        "\n",
        "#### Accuracy (точность)\n",
        "- **Формула**: (TP + TN) / (TP + TN + FP + FN)\n",
        "- **Смысл**: Доля правильных предсказаний среди всех предсказаний\n",
        "- **Недостаток**: Неинформативна при несбалансированных классах\n",
        "\n",
        "#### Precision (точность в узком смысле)\n",
        "- **Формула**: TP / (TP + FP)\n",
        "- **Смысл**: Доля истинно положительных случаев среди всех положительных предсказаний\n",
        "- **Интерпретация**: Отвечает на вопрос: \"Насколько можно доверять положительным прогнозам модели?\"\n",
        "\n",
        "#### Recall (полнота, чувствительность)\n",
        "- **Формула**: TP / (TP + FN)\n",
        "- **Смысл**: Доля обнаруженных положительных примеров от их общего числа\n",
        "- **Интерпретация**: Отвечает на вопрос: \"Какую часть положительных примеров модель смогла обнаружить?\"\n",
        "\n",
        "#### Specificity (специфичность)\n",
        "- **Формула**: TN / (TN + FP)\n",
        "- **Смысл**: Доля правильно идентифицированных отрицательных примеров\n",
        "\n",
        "#### F1-score\n",
        "- **Формула**: 2 × (Precision × Recall) / (Precision + Recall)\n",
        "- **Смысл**: Гармоническое среднее между точностью и полнотой\n",
        "- **Преимущество**: Хорошо работает с несбалансированными данными\n",
        "\n",
        "#### F-beta score\n",
        "- **Формула**: (1 + β²) × (Precision × Recall) / (β² × Precision + Recall)\n",
        "- **Смысл**: Обобщение F1-score, где β определяет важность Recall относительно Precision\n",
        "\n",
        "## 2. Метрики на основе вероятностей\n",
        "\n",
        "#### Log Loss (Logarithmic Loss)\n",
        "- **Формула**: -1/N × Σ[y_i × log(p_i) + (1-y_i) × log(1-p_i)]\n",
        "- **Смысл**: Измеряет качество вероятностных предсказаний\n",
        "- **Особенность**: Сильно штрафует уверенные, но неправильные предсказания\n",
        "\n",
        "#### Brier Score\n",
        "- **Определение**: Среднеквадратичная ошибка между предсказанными вероятностями и фактическими исходами\n",
        "- **Интерпретация**: Меньше значение — лучше калибровка модели\n",
        "\n",
        "## 3. Метрики ранжирования и пороговые метрики\n",
        "\n",
        "#### ROC-кривая (Receiver Operating Characteristic)\n",
        "- **Определение**: График зависимости True Positive Rate (Recall) от False Positive Rate (FPR = FP / (FP + TN))\n",
        "- **Смысл**: Отображает компромисс между чувствительностью и специфичностью при разных пороговых значениях, показывает насколько хорошо модель разделяет два класса (например, больные/здоровые).\n",
        "- Как вычисляется? Пошагово\n",
        "  - Модель предсказывает вероятности класса 1.\n",
        "\n",
        "  - Для всех возможных порогов (от 0 до 1) считаются:\n",
        "\n",
        "  - TPR (как много реальных \"1\" угадано)\n",
        "\n",
        "  - FPR (как много \"0\" ошибочно названы \"1\")\n",
        "\n",
        "  - Строится кривая по точкам (FPR, TPR).\n",
        "\n",
        "  - Вычисляется площадь под ней (AUC).\n",
        "\n",
        "#### AUC-ROC (Area Under ROC Curve)\n",
        "- **Определение**: Площадь под ROC-кривой\n",
        "- **Интерпретация**: Вероятность того, что модель присвоит более высокий ранг случайно выбранному положительному примеру, чем случайно выбранному отрицательному\n",
        "- **Шкала**: 0.5 означает случайное угадывание, 1.0 — идеальная модель"
      ],
      "metadata": {
        "id": "8_JPD2PK5sQi"
      }
    },
    {
      "cell_type": "code",
      "source": [
        "y_pred = logistic_regression_model.predict(X_test_scaled)\n",
        "\n",
        "# Calculate confusion matrix and classification report\n",
        "cm = confusion_matrix(y_test, y_pred)\n",
        "classif_report = classification_report(y_test, y_pred)\n",
        "\n",
        "model_evaluation_metrics = {}\n",
        "model_evaluation_metrics['Logistic Regression'] = {\n",
        "    \"Confusion Matrix\": cm,\n",
        "    'Classification Report': classif_report\n",
        "}\n",
        "\n",
        "print(f\"Logistic Regression Evaluation Metrics:\")\n",
        "print(\"\\nClassification Report:\")\n",
        "print(classif_report)\n",
        "print(\"\\n\" + \"=\"*60 + \"\\n\")\n",
        "\n",
        "plt.figure(figsize=(7, 5))\n",
        "sns.heatmap(cm, annot=True, cmap='Blues', fmt='g')  # Using 'Blues' colormap\n",
        "plt.xlabel('Predicted by the Logistic Regression model')\n",
        "plt.ylabel('Truth')\n",
        "plt.title('Confusion Matrix')\n",
        "plt.show()"
      ],
      "metadata": {
        "colab": {
          "base_uri": "https://localhost:8080/",
          "height": 764
        },
        "id": "O47tNY012Zi8",
        "outputId": "0f79b798-039b-4c1b-b83b-22274860eb58"
      },
      "execution_count": 34,
      "outputs": [
        {
          "output_type": "stream",
          "name": "stdout",
          "text": [
            "Logistic Regression Evaluation Metrics:\n",
            "\n",
            "Classification Report:\n",
            "              precision    recall  f1-score   support\n",
            "\n",
            "           0       0.82      0.79      0.80      2343\n",
            "           1       0.85      0.87      0.86      3238\n",
            "\n",
            "    accuracy                           0.84      5581\n",
            "   macro avg       0.83      0.83      0.83      5581\n",
            "weighted avg       0.84      0.84      0.84      5581\n",
            "\n",
            "\n",
            "============================================================\n",
            "\n"
          ]
        },
        {
          "output_type": "display_data",
          "data": {
            "text/plain": [
              "<Figure size 700x500 with 2 Axes>"
            ],
            "image/png": "[encoded data removed]"
          },
          "metadata": {}
        }
      ]
    },
    {
      "cell_type": "code",
      "source": [
        "y_pred1 = logistic_regression_model.predict_proba(X_test)[:,1]"
      ],
      "metadata": {
        "colab": {
          "base_uri": "https://localhost:8080/"
        },
        "id": "Ir2x1AEX2eza",
        "outputId": "2e77a00c-1dee-4157-cd67-b1ffa8025944"
      },
      "execution_count": 35,
      "outputs": [
        {
          "output_type": "stream",
          "name": "stderr",
          "text": [
            "/usr/local/lib/python3.11/dist-packages/sklearn/utils/validation.py:2732: UserWarning: X has feature names, but LogisticRegression was fitted without feature names\n",
            "  warnings.warn(\n"
          ]
        }
      ]
    },
    {
      "cell_type": "code",
      "source": [
        "from sklearn.metrics import roc_auc_score\n",
        "\n",
        "ROC_AUC = roc_auc_score(y_test, y_pred1)\n",
        "\n",
        "print('ROC AUC : {:.4f}'.format(ROC_AUC))"
      ],
      "metadata": {
        "colab": {
          "base_uri": "https://localhost:8080/"
        },
        "id": "nOci0Ago6SDL",
        "outputId": "3ea9afef-bf95-4376-86cd-a0987672c8bb"
      },
      "execution_count": 36,
      "outputs": [
        {
          "output_type": "stream",
          "name": "stdout",
          "text": [
            "ROC AUC : 0.8477\n"
          ]
        }
      ]
    },
    {
      "cell_type": "code",
      "source": [
        "# plot ROC Curve\n",
        "from sklearn.metrics import roc_curve\n",
        "\n",
        "fpr, tpr, thresholds = roc_curve(y_test, y_pred1)\n",
        "plt.figure(figsize=(6,4))\n",
        "plt.plot(fpr, tpr, linewidth=2)\n",
        "plt.plot([0,1], [0,1], 'k--' )\n",
        "plt.title('ROC curve')\n",
        "plt.xlabel('False Positive Rate (1 - Specificity)')\n",
        "plt.ylabel('True Positive Rate (Sensitivity)')\n",
        "plt.show()"
      ],
      "metadata": {
        "colab": {
          "base_uri": "https://localhost:8080/",
          "height": 410
        },
        "id": "sx0kyk0W4sAg",
        "outputId": "0477f6c5-62a2-4b10-893b-1bcb0b4acc24"
      },
      "execution_count": 16,
      "outputs": [
        {
          "output_type": "display_data",
          "data": {
            "text/plain": [
              "<Figure size 600x400 with 1 Axes>"
            ],
            "image/png": "[encoded data removed]"
          },
          "metadata": {}
        }
      ]
    },
    {
      "cell_type": "markdown",
      "source": [
        "# Пример кода для многовариантной (multinomial) логистической регрессии"
      ],
      "metadata": {
        "id": "EgeRPIhz1OG5"
      }
    },
    {
      "cell_type": "code",
      "source": [
        "from sklearn.datasets import load_iris, make_classification\n",
        "from sklearn.model_selection import train_test_split\n",
        "from sklearn.preprocessing import StandardScaler\n",
        "from sklearn.linear_model import LogisticRegression\n",
        "from sklearn.metrics import (accuracy_score, classification_report,\n",
        "                            confusion_matrix, roc_curve, auc,\n",
        "                            precision_score, recall_score, f1_score,\n",
        "                            roc_auc_score)\n",
        "from sklearn.multiclass import OneVsRestClassifier\n",
        "\n",
        "\n",
        "print(\"# 1. Многовариантная логистическая регрессия (Multinomial)\")\n",
        "print(\"=\" * 80)\n",
        "\n",
        "# Загрузим датасет Iris для многоклассовой классификации\n",
        "iris = load_iris()\n",
        "X = iris.data\n",
        "y = iris.target\n",
        "feature_names = iris.feature_names\n",
        "target_names = iris.target_names\n",
        "\n",
        "# Разделение данных на обучающую и тестовую выборки\n",
        "X_train, X_test, y_train, y_test = train_test_split(X, y, test_size=0.3, random_state=42, stratify=y)\n",
        "\n",
        "# Нормализация данных\n",
        "scaler = StandardScaler()\n",
        "X_train_scaled = scaler.fit_transform(X_train)\n",
        "X_test_scaled = scaler.transform(X_test)\n",
        "\n",
        "# Обучение многовариантной логистической регрессии\n",
        "multi_model = LogisticRegression(\n",
        "    multi_class='multinomial',  # многовариантная логистическая регрессия\n",
        "    solver='lbfgs',  # метод оптимизации\n",
        "    C=10,  # параметр регуляризации (обратно пропорционален силе регуляризации)\n",
        "    max_iter=1000,\n",
        "    random_state=42\n",
        ")\n",
        "\n",
        "multi_model.fit(X_train_scaled, y_train)\n",
        "\n",
        "# Предсказание на тестовом наборе\n",
        "y_pred_multi = multi_model.predict(X_test_scaled)\n",
        "y_prob_multi = multi_model.predict_proba(X_test_scaled)\n",
        "\n",
        "# Оценка модели\n",
        "print(\"Метрики качества для многовариантной логистической регрессии:\")\n",
        "print(f\"Accuracy: {accuracy_score(y_test, y_pred_multi):.4f}\")\n",
        "print(\"\\nClassification Report:\")\n",
        "print(classification_report(y_test, y_pred_multi, target_names=target_names))\n",
        "\n",
        "print(\"\\nМатрица ошибок:\")\n",
        "conf_matrix = confusion_matrix(y_test, y_pred_multi)\n",
        "print(conf_matrix)\n",
        "\n",
        "# Визуализация матрицы ошибок\n",
        "plt.figure(figsize=(10, 8))\n",
        "sns.heatmap(conf_matrix, annot=True, fmt='d', cmap='Blues',\n",
        "            xticklabels=target_names, yticklabels=target_names)\n",
        "plt.xlabel('Предсказанные метки')\n",
        "plt.ylabel('Истинные метки')\n",
        "plt.title('Матрица ошибок для многовариантной логистической регрессии')\n",
        "plt.tight_layout()\n",
        "plt.show()"
      ],
      "metadata": {
        "id": "ENVPyXGr7PwZ",
        "colab": {
          "base_uri": "https://localhost:8080/",
          "height": 0
        },
        "outputId": "6e35eba9-6e2b-464d-94f4-9977dc8fda5c"
      },
      "execution_count": 17,
      "outputs": [
        {
          "output_type": "stream",
          "name": "stdout",
          "text": [
            "# 1. Многовариантная логистическая регрессия (Multinomial)\n",
            "================================================================================\n",
            "Метрики качества для многовариантной логистической регрессии:\n",
            "Accuracy: 0.9111\n",
            "\n",
            "Classification Report:\n",
            "              precision    recall  f1-score   support\n",
            "\n",
            "      setosa       1.00      1.00      1.00        15\n",
            "  versicolor       0.82      0.93      0.88        15\n",
            "   virginica       0.92      0.80      0.86        15\n",
            "\n",
            "    accuracy                           0.91        45\n",
            "   macro avg       0.92      0.91      0.91        45\n",
            "weighted avg       0.92      0.91      0.91        45\n",
            "\n",
            "\n",
            "Матрица ошибок:\n",
            "[[15  0  0]\n",
            " [ 0 14  1]\n",
            " [ 0  3 12]]\n"
          ]
        },
        {
          "output_type": "stream",
          "name": "stderr",
          "text": [
            "/usr/local/lib/python3.11/dist-packages/sklearn/linear_model/_logistic.py:1247: FutureWarning: 'multi_class' was deprecated in version 1.5 and will be removed in 1.7. From then on, it will always use 'multinomial'. Leave it to its default value to avoid this warning.\n",
            "  warnings.warn(\n"
          ]
        },
        {
          "output_type": "display_data",
          "data": {
            "text/plain": [
              "<Figure size 1000x800 with 2 Axes>"
            ],
            "image/png": "[encoded data removed]"
          },
          "metadata": {}
        }
      ]
    },
    {
      "cell_type": "markdown",
      "source": [
        "# K-NN"
      ],
      "metadata": {
        "id": "kL3OvcuE7NdY"
      }
    },
    {
      "cell_type": "markdown",
      "source": [
        "<a id=section-beg></a>\n",
        "# <span style=\"color:#409996;font-weight:600;font-size:30px;font-style:sans-serif;\">О методе K ближайших соседей</span>\n",
        "\n",
        "Метод K ближайших соседей (K-NN) относится к непараметрическим моделям статистического машинного обучения. K-NN классифицирует запись, относя её к классу, к которому относятся похожие записи. Как правило, переменные-предикторы стандартизируются таким образом, чтобы переменные с большим диапазоном значений не доминировали в метрике расстояния.\n",
        "\n",
        "**Словарь K-NN:**\n",
        "\n",
        "* **Сосед**\n",
        "    — запись, значения переменных-предикторов которой схожи со значениями другой записи\n",
        "* **K**\n",
        "    — количество соседей, учитываемых при расчёте\n",
        "    — **Выбор K**: установка K = 1 редко является лучшим выбором, поскольку алгоритм очень чувствителен к выбросам. Мы почти всегда получаем лучшие результаты при K > 1 ближайших соседей. Не существует универсального правила для выбора оптимального значения K — оно во многом зависит от характера данных. Как правило, значение K находится в диапазоне от 1 до 20. Часто выбирают нечётное число, чтобы избежать совпадений.\n",
        "    - Для хорошо структурированных данных с небольшим количеством шума лучше всего подходят меньшие значения K (например, для распознавания речи). **Для менее структурированных данных с большим уровнем шума лучше всего подходят большие значения K (например, для нашего набора данных).**\n",
        "* ** Метрики расстояния**\n",
        "    - Измеряют, суммируя в одном числе, насколько далеко одна запись находится от другой.\n",
        "    - Евклидово расстояние: это мера истинного расстояния по прямой между двумя точками в евклидовом пространстве.\n",
        "    - Расстояние по Манхэттену: Расстояние между двумя точками равно сумме абсолютных разностей их декартовых координат.\n",
        "    - Расстояние Минковского: мы можем вычислить расстояние Минковского только в нормированном векторном пространстве, то есть в пространстве, где расстояния могут быть представлены в виде вектора, имеющего длину, и длина не может быть отрицательной.\n",
        "    - Расстояние Махаланобиса: эта метрика расстояния рассматривает два сильно коррелирующих предиктора как один с точки зрения расстояния.\n",
        "* **Стандартизация/нормализация**\n",
        "    - Вычтите среднее значение из записи данных и разделите на стандартное отклонение\n",
        "* **Z-оценка**\n",
        "    — значение, полученное после стандартизации\n",
        "\n",
        "**Как работает K-NN:**\n",
        "1. Целевая переменная является бинарной (в нашем случае: is_depression, not_depression)\n",
        "2. Мы хотим классифицировать новую запись данных\n",
        "3. Мы находим K ближайших соседей (количество ближайших соседей) этой записи данных на основе метрики расстояния\n",
        "4. Запись будет отнесена к тому классу, с которым у неё больше общих соседей (запись хочет попасть в группу более близких/дружелюбных записей 😉)\n",
        "\n",
        "**Размер данных**\n",
        "\n",
        "K-NN лучше всего работает с небольшими наборами данных, содержащими не более 100 000 строк. Чем больше набор данных, тем больше вычислительной мощности он потребляет (вычисляя расстояние между новой записью и каждой существующей точкой) и тем медленнее работает K-NN.\n",
        "\n",
        "--------------------------------------------------------------------------------------------------------------------\n",
        "\n",
        "\n",
        "**❗️ Чтобы подготовить данные для алгоритма K-NN, мы должны соответствовать четырём критериям:** ❗️\n",
        "* **Числовые переменные**\n",
        "* **Обработка отсутствующих данных**\n",
        "* **Масштабирование данных**\n",
        "* **Уменьшение размерности**\n",
        "\n",
        "**Числовые переменные**\n",
        "\n",
        " Все переменные должны быть числовыми, так как алгоритм принимает только числовые входные данные.\n",
        "\n",
        "**Обработка отсутствующих данных**\n",
        "\n",
        "Отсутствующие данные будут означать, что расстояние между выборками не может быть вычислено. Эти отсутствующие значения можно исключить или заменить.\n",
        "\n",
        "**Перемасштабируйте данные**\n",
        "\n",
        "Основная идея состоит в том, чтобы нормализовать/стандартизировать, т. е. μ = 0 и σ = 1, ваши признаки/переменные/столбцы X по отдельности, прежде чем подгонять модель K-NN, чтобы переменные с большим масштабом не доминировали в метрике расстояния. Стандартизация приводит все переменные к одинаковому масштабу путём вычитания среднего значения и деления на стандартное отклонение. Таким образом, мы гарантируем, что одна переменная не будет оказывать слишком сильное влияние на входные данные модели только из-за своего исходного масштаба. На влияние переменных на модель не влияет масштаб их исходного измерения.\n",
        "\n",
        "**Уменьшение размерности**\n",
        "\n",
        "K-NN подходит для данных с меньшим количеством измерений. Вы можете попробовать использовать его для данных с большим количеством измерений (сотни или тысячи входных переменных), но имейте в виду, что он может работать не так хорошо, как другие методы. K-NN может извлечь выгоду из выбора признаков, который уменьшает размерность входного пространства признаков.\n",
        "\n",
        "\n",
        "--------------------------------------------------------------------------------------------------------------------\n",
        "\n",
        "**Преимущества KNN**\n",
        "\n",
        "1. Отсутствие периода обучения: KNN называется «ленивым» (обучение на основе примеров). Он ничего не изучает в период обучения. Другими словами, для него нет периода обучения. Он сохраняет обучающий набор данных и изучает его только во время прогнозирования в реальном времени. Это делает алгоритм KNN намного быстрее, чем другие алгоритмы, требующие обучения, например, SVM, линейную регрессию и т. д.\n",
        "\n",
        "2. Поскольку алгоритм KNN не требует обучения перед прогнозированием, можно легко добавлять новые данные, что не повлияет на точность алгоритма.\n",
        "\n",
        "3. KNN очень прост в реализации. Для реализации KNN требуются только два параметра: значение K и функция расстояния.\n",
        "\n",
        "**Недостатки KNN (подробно описаны выше)**\n",
        "\n",
        "1. Плохо работает с большими наборами данных.\n",
        "2. Плохо работает с большим количеством измерений.\n",
        "3. Требуется масштабирование признаков: перед применением алгоритма KNN к любому набору данных необходимо выполнить масштабирование признаков (стандартизацию и нормализацию).\n",
        "4. Чувствителен к зашумлённым данным, отсутствующим значениям и выбросам."
      ],
      "metadata": {
        "id": "03wGzuQbw6Yp"
      }
    },
    {
      "cell_type": "code",
      "source": [
        "# create numpy array for future K value\n",
        "neighbors = np.arange(1, 30)\n",
        "train_accuracy = np.empty(len(neighbors))\n",
        "test_accuracy = np.empty(len(neighbors))"
      ],
      "metadata": {
        "trusted": true,
        "id": "HkPUq3B4wLhC"
      },
      "execution_count": 37,
      "outputs": []
    },
    {
      "cell_type": "code",
      "source": [
        "# Loop over different values of k\n",
        "for i, k in enumerate(neighbors):\n",
        "    # Setup a k-NN Classifier with k neighbors: knn\n",
        "    knn = KNeighborsClassifier(n_neighbors=k)\n",
        "\n",
        "    # Fit the classifier to the training data\n",
        "    knn.fit(X_train, y_train)\n",
        "\n",
        "    #Compute accuracy on the training set\n",
        "    train_accuracy[i] = knn.score(X_train, y_train)\n",
        "\n",
        "    #Compute accuracy on the testing set\n",
        "    test_accuracy[i] = knn.score(X_test, y_test)"
      ],
      "metadata": {
        "trusted": true,
        "id": "nvf0UvbZwLhC"
      },
      "execution_count": 38,
      "outputs": []
    },
    {
      "cell_type": "code",
      "source": [
        "# Generate plot\n",
        "sns.set(rc={'axes.facecolor':'#ECECEC'}) #background color of all plots\n",
        "plt.figure(figsize=(12,6.5))\n",
        "plt.title(label='K-NN: Varying Number of Neighbors', fontsize=15, fontweight='bold', fontname='Helvetica', ha='center')\n",
        "plt.plot(neighbors, test_accuracy, label = 'Testing Accuracy', color='#E68753')\n",
        "plt.plot(neighbors, train_accuracy, label = 'Training Accuracy', color = '#409996')\n",
        "plt.legend()\n",
        "plt.xlabel('Number of Neighbors')\n",
        "plt.ylabel('Accuracy')\n",
        "plt.show()"
      ],
      "metadata": {
        "trusted": true,
        "id": "84eccq-fwLhC",
        "colab": {
          "base_uri": "https://localhost:8080/",
          "height": 699
        },
        "outputId": "6a430fd7-2b23-4524-8576-838f4a995f49"
      },
      "execution_count": 39,
      "outputs": [
        {
          "output_type": "stream",
          "name": "stderr",
          "text": [
            "WARNING:matplotlib.font_manager:findfont: Font family 'Helvetica' not found.\n",
            "WARNING:matplotlib.font_manager:findfont: Font family 'Helvetica' not found.\n",
            "WARNING:matplotlib.font_manager:findfont: Font family 'Helvetica' not found.\n",
            "WARNING:matplotlib.font_manager:findfont: Font family 'Helvetica' not found.\n",
            "WARNING:matplotlib.font_manager:findfont: Font family 'Helvetica' not found.\n"
          ]
        },
        {
          "output_type": "display_data",
          "data": {
            "text/plain": [
              "<Figure size 1200x650 with 1 Axes>"
            ],
            "image/png": "[encoded data removed]"
          },
          "metadata": {}
        }
      ]
    },
    {
      "cell_type": "code",
      "source": [
        "#implement K-NN algorithm\n",
        "knnc = KNeighborsClassifier(n_neighbors=23)\n",
        "knnc.fit(X_train, y_train)\n",
        "y_pred_knnc = knnc.predict(X_test)\n",
        "\n",
        "#plotting Confusion Matrix\n",
        "cf_matrix_knnc = confusion_matrix(y_test, y_pred_knnc)\n",
        "print(cf_matrix_knnc)\n",
        "\n",
        "ax = sns.heatmap(cf_matrix_knnc/np.sum(cf_matrix_knnc), annot=True, fmt='.2%', cmap='binary')\n",
        "ax.set_title('K-NN Confusion Matrix\\n\\n');\n",
        "ax.set_xlabel('\\nPredicted Values')\n",
        "ax.set_ylabel('Actual Values ');\n",
        "\n",
        "## Ticket labels - List must be in alphabetical order\n",
        "ax.xaxis.set_ticklabels(['0','1'])\n",
        "ax.yaxis.set_ticklabels(['0','1'])\n",
        "\n",
        "## Display the visualization of the Confusion Matrix.\n",
        "plt.show()"
      ],
      "metadata": {
        "execution": {
          "iopub.status.busy": "2023-02-23T10:14:34.486419Z",
          "iopub.execute_input": "2023-02-23T10:14:34.48696Z",
          "iopub.status.idle": "2023-02-23T10:14:35.752333Z",
          "shell.execute_reply.started": "2023-02-23T10:14:34.486908Z",
          "shell.execute_reply": "2023-02-23T10:14:35.750633Z"
        },
        "trusted": true,
        "id": "BztKm_lcwLg6",
        "colab": {
          "base_uri": "https://localhost:8080/",
          "height": 579
        },
        "outputId": "b22a3759-d99e-468a-bfea-b8c73fa8cfe9"
      },
      "execution_count": 40,
      "outputs": [
        {
          "output_type": "stream",
          "name": "stdout",
          "text": [
            "[[1482  861]\n",
            " [ 405 2833]]\n"
          ]
        },
        {
          "output_type": "display_data",
          "data": {
            "text/plain": [
              "<Figure size 640x480 with 2 Axes>"
            ],
            "image/png": "[encoded data removed]"
          },
          "metadata": {}
        }
      ]
    },
    {
      "cell_type": "code",
      "source": [
        "#evaluation of K-NN: metrics pivot chart\n",
        "print(classification_report(y_test, y_pred_knnc))\n",
        "\n",
        "print('Accuracy Score : ' + str(round(accuracy_score(y_test,y_pred_knnc),3)))\n",
        "print('Precision Score : ' + str(round(precision_score(y_test,y_pred_knnc),3)))\n",
        "print('Recall Score : ' + str(round(recall_score(y_test,y_pred_knnc),3)))\n",
        "print('F-Score : ' + str(round(f1_score(y_test,y_pred_knnc),3)))"
      ],
      "metadata": {
        "execution": {
          "iopub.status.busy": "2023-02-23T10:14:35.754062Z",
          "iopub.execute_input": "2023-02-23T10:14:35.754778Z",
          "iopub.status.idle": "2023-02-23T10:14:35.790339Z",
          "shell.execute_reply.started": "2023-02-23T10:14:35.754735Z",
          "shell.execute_reply": "2023-02-23T10:14:35.788824Z"
        },
        "trusted": true,
        "id": "MnhGepbywLg6",
        "colab": {
          "base_uri": "https://localhost:8080/"
        },
        "outputId": "6ecfc883-5b25-4fe9-e884-4843c9a1914b"
      },
      "execution_count": 41,
      "outputs": [
        {
          "output_type": "stream",
          "name": "stdout",
          "text": [
            "              precision    recall  f1-score   support\n",
            "\n",
            "           0       0.79      0.63      0.70      2343\n",
            "           1       0.77      0.87      0.82      3238\n",
            "\n",
            "    accuracy                           0.77      5581\n",
            "   macro avg       0.78      0.75      0.76      5581\n",
            "weighted avg       0.77      0.77      0.77      5581\n",
            "\n",
            "Accuracy Score : 0.773\n",
            "Precision Score : 0.767\n",
            "Recall Score : 0.875\n",
            "F-Score : 0.817\n"
          ]
        }
      ]
    },
    {
      "cell_type": "code",
      "source": [],
      "metadata": {
        "id": "MHWZPsCL6oja"
      },
      "execution_count": 41,
      "outputs": []
    }
  ]
}