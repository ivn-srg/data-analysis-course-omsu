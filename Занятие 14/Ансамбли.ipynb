{
  "nbformat": 4,
  "nbformat_minor": 0,
  "metadata": {
    "colab": {
      "provenance": [],
      "authorship_tag": "ABX9TyMgBoBQXKtapVea9s4EKdEa",
      "include_colab_link": true
    },
    "kernelspec": {
      "name": "python3",
      "display_name": "Python 3"
    },
    "language_info": {
      "name": "python"
    }
  },
  "cells": [
    {
      "cell_type": "markdown",
      "metadata": {
        "id": "view-in-github",
        "colab_type": "text"
      },
      "source": [
        "<a href=\"https://colab.research.google.com/github/ivn-srg/data-analysis-course-omsu/blob/main/%D0%97%D0%B0%D0%BD%D1%8F%D1%82%D0%B8%D0%B5%2014/%D0%90%D0%BD%D1%81%D0%B0%D0%BC%D0%B1%D0%BB%D0%B8.ipynb\" target=\"_parent\"><img src=\"https://colab.research.google.com/assets/colab-badge.svg\" alt=\"Open In Colab\"/></a>"
      ]
    },
    {
      "cell_type": "markdown",
      "source": [
        "# Ансамблевые методы: Random Forest и Gradient Boosting для регрессии\n",
        "\n",
        "## 1. Ансамбли моделей\n",
        "Ансамбль (от франц. ensemble — «совокупность, стройное целое») — согласованность, единство частей, образующих что-либо целое.\n",
        "\n",
        "\n",
        "Ансамбль объединяет **несколько простых моделей** («базовых») так, чтобы вместе они работали точнее, чем каждая по-отдельности.  \n",
        "- **Bagging** (Bootstrap Aggregation) – строит каждую модель на случайной подвыборке и усредняет (или голосует).  \n",
        "- **Boosting** – строит модели последовательно, каждая «исправляет» ошибки предыдущих.\n",
        "\n",
        "📊 **Зачем?** Снижение переобучения, более стабильные и точные прогнозы.\n",
        "\n",
        "---\n",
        "\n",
        "## 2. Случайный лес (Random Forest)  \n",
        "- **Тип ансамбля:** Bagging.  \n",
        "- **Базовые модели:** Деревья решений.  \n",
        "- **Как устроен:**  \n",
        "  1. Генерируем N бутстрэп-выборок из исходных данных.  \n",
        "  2. На каждой обучаем отдельное дерево, выбирая на сплите случайный поднабор признаков.  \n",
        "  3. Прогнозы усредняем (регрессия) или голосуем (классификация).  \n",
        "- **Плюсы:**  \n",
        "  - Устойчив к шуму и выбросам  \n",
        "  - Автоматически оценивает важность признаков  \n",
        "  - Минимальная настройка гиперпараметров  \n",
        "\n",
        "---\n",
        "\n",
        "## 3. Градиентный бустинг (Gradient Boosting)  \n",
        "- **Тип ансамбля:** Boosting.  \n",
        "- **Базовые модели:** Слабые (обычно мелкие деревья).  \n",
        "- **Как устроен:**  \n",
        "  1. Начинаем с простого предсказания (обычно среднее).  \n",
        "  2. На каждом шаге строим дерево на **остатках** (градиенте ошибки) текущего ансамбля.  \n",
        "  3. Обновляем ансамбль: добавляем новое дерево с весом `learning_rate`.  \n",
        "  4. Повторяем M раз.  \n",
        "- **Плюсы:**  \n",
        "  - Высокая точность  \n",
        "  - Гибкость функций потерь  \n",
        "  - Настраиваемая скорость обучения и глубина деревьев  \n",
        "\n",
        "---\n"
      ],
      "metadata": {
        "id": "7zU-vlXJv_8Y"
      }
    },
    {
      "cell_type": "markdown",
      "source": [
        "#🌲 Что такое Random Forest (Случайный лес)\n",
        "Случайный лес — это **ансамблевая модель**, которая строится из множества отдельных деревьев решений (Decision Trees), но каждое дерево:\n",
        "\n",
        "- обучается на случайной подвыборке данных (bagging),\n",
        "\n",
        "- и использует случайное подмножество признаков при каждом сплите (разделении).\n",
        "\n",
        "👉 Это делает модель более устойчивой к переобучению, чем одно дерево.\n",
        "\n",
        "##📌 Как работает Random Forest пошагово:\n",
        "1. Формируется N случайных выборок из исходных данных с возвращением (bootstrapping).\n",
        "\n",
        "2. Для каждой выборки обучается своё дерево решений.\n",
        "\n",
        "3. На каждом шаге сплита дерево выбирает лучшее разбиение не из всех признаков, а из случайного подмножества.\n",
        "\n",
        "4. Предсказание:\n",
        "  - В регрессии — усредняются предсказания всех деревьев.\n",
        "\n",
        "  - В классификации — берётся голосование большинства."
      ],
      "metadata": {
        "id": "p1gxbSaI0PeZ"
      }
    },
    {
      "cell_type": "markdown",
      "source": [
        "## 🚀 Градиентный бустинг (Gradient Boosting)\n",
        "Градиентный бустинг — это ансамблевая модель, которая последовательно строит слабые модели (обычно деревья), каждая из которых корректирует ошибки предыдущих.\n",
        "\n",
        "###📌 Суть идеи:\n",
        "В отличие от случайного леса, где деревья строятся параллельно и независимо, градиентный бустинг строит деревья последовательно, каждый раз обучаясь на ошибках предыдущей модели.\n",
        "\n",
        "###⚙️ Как работает пошагово:\n",
        "1. Начинаем с простого прогноза (например, среднего по целевой переменной).\n",
        "\n",
        "2. Вычисляем остатки (ошибки предсказания).\n",
        "\n",
        "3. Обучаем новое дерево на остатках.\n",
        "\n",
        "4. Обновляем общее предсказание:\n",
        "$$ F_{m}(x) = F_{m-1}(x) + \\nu \\cdot h_m(x) $$\n",
        "   где:\n",
        "   -  F_m(x)  — текущее предсказание,\n",
        "   - h_m(x) — новое дерево (предсказание на ошибках),\n",
        "   - v — темп обучения (learning rate).\n",
        "\n",
        "5. Повторяем шаги 2–4 N раз.\n",
        "\n",
        "###📚 Почему «градиентный»?\n",
        "Потому что на каждом шаге мы минимизируем функцию потерь (например, MSE), а деревья строятся таким образом, чтобы приближать отрицательный градиент этой функции — отсюда и название."
      ],
      "metadata": {
        "id": "mMp-GRQm1Mbj"
      }
    },
    {
      "cell_type": "code",
      "source": [
        "import pandas as pd\n",
        "from sklearn.datasets import load_breast_cancer, load_diabetes\n",
        "from sklearn.model_selection import train_test_split\n",
        "from sklearn.ensemble import RandomForestClassifier, GradientBoostingClassifier\n",
        "from sklearn.metrics import accuracy_score, classification_report\n",
        "import warnings\n",
        "warnings.filterwarnings('ignore')\n",
        "\n",
        "# Загрузка данных\n",
        "data = load_breast_cancer()\n",
        "X = pd.DataFrame(data.data, columns=data.feature_names)\n",
        "y = pd.Series(data.target)\n",
        "\n",
        "# Разделение на обучающую и тестовую выборки\n",
        "X_train, X_test, y_train, y_test = train_test_split(X, y, test_size=0.2, random_state=42)\n",
        "\n",
        "# Обучение случайного леса\n",
        "rf_model = RandomForestClassifier(n_estimators=100, random_state=42)\n",
        "rf_model.fit(X_train, y_train)\n",
        "rf_preds = rf_model.predict(X_test)\n",
        "\n",
        "# Оценка модели случайного леса\n",
        "print(\"Случайный лес:\")\n",
        "print(\"Точность:\", accuracy_score(y_test, rf_preds))\n",
        "print(classification_report(y_test, rf_preds))\n",
        "\n",
        "# Обучение градиентного бустинга\n",
        "gb_model = GradientBoostingClassifier(n_estimators=100, learning_rate=0.1, random_state=42)\n",
        "gb_model.fit(X_train, y_train)\n",
        "gb_preds = gb_model.predict(X_test)\n",
        "\n",
        "# Оценка модели градиентного бустинга\n",
        "print(\"Градиентный бустинг:\")\n",
        "print(\"Точность:\", accuracy_score(y_test, gb_preds))\n",
        "print(classification_report(y_test, gb_preds))\n"
      ],
      "metadata": {
        "colab": {
          "base_uri": "https://localhost:8080/"
        },
        "id": "uY51zIN-b_dJ",
        "outputId": "02b1626a-97e2-40f3-ffbc-713fd2c341a1"
      },
      "execution_count": null,
      "outputs": [
        {
          "output_type": "stream",
          "name": "stdout",
          "text": [
            "Случайный лес:\n",
            "Точность: 0.9649122807017544\n",
            "              precision    recall  f1-score   support\n",
            "\n",
            "           0       0.98      0.93      0.95        43\n",
            "           1       0.96      0.99      0.97        71\n",
            "\n",
            "    accuracy                           0.96       114\n",
            "   macro avg       0.97      0.96      0.96       114\n",
            "weighted avg       0.97      0.96      0.96       114\n",
            "\n",
            "Градиентный бустинг:\n",
            "Точность: 0.956140350877193\n",
            "              precision    recall  f1-score   support\n",
            "\n",
            "           0       0.95      0.93      0.94        43\n",
            "           1       0.96      0.97      0.97        71\n",
            "\n",
            "    accuracy                           0.96       114\n",
            "   macro avg       0.96      0.95      0.95       114\n",
            "weighted avg       0.96      0.96      0.96       114\n",
            "\n"
          ]
        }
      ]
    },
    {
      "cell_type": "code",
      "source": [
        "import numpy as np\n",
        "import pandas as pd\n",
        "from sklearn.datasets import load_diabetes\n",
        "from sklearn.preprocessing import LabelEncoder\n",
        "from sklearn.model_selection import train_test_split\n",
        "from sklearn.ensemble import RandomForestRegressor, GradientBoostingRegressor\n",
        "from sklearn.metrics import mean_squared_error, r2_score\n",
        "\n",
        "# 1. Загрузка и преобразование в pandas DataFrame\n",
        "data = pd.read_csv('/content/Car_Prices_Poland_Kaggle.csv').dropna()\n",
        "\n",
        "enc = LabelEncoder()\n",
        "\n",
        "for col in data.select_dtypes('object'):\n",
        "  data[col] = enc.fit_transform(data[col])\n",
        "\n",
        "X = data.drop('price', axis = 1)\n",
        "y = data['price']\n",
        "\n",
        "# 2. Разделение на train/test\n",
        "X_train, X_test, y_train, y_test = train_test_split(\n",
        "    X, y, test_size=0.2, random_state=42\n",
        ")\n",
        "\n",
        "# 3. Случайный лес (ансамбль по bagging)\n",
        "rf = RandomForestRegressor(\n",
        "    n_estimators=100,     # число деревьев\n",
        "    max_depth=None,       # глубина — без ограничения\n",
        "    random_state=42\n",
        ")\n",
        "rf.fit(X_train, y_train)\n",
        "y_pred_rf = rf.predict(X_test)\n",
        "\n",
        "# 4. Градиентный бустинг (ансамбль по boosting)\n",
        "gb = GradientBoostingRegressor(\n",
        "    n_estimators=100,\n",
        "    learning_rate=0.1,\n",
        "    max_depth=3,\n",
        "    random_state=42\n",
        ")\n",
        "gb.fit(X_train, y_train)\n",
        "y_pred_gb = gb.predict(X_test)\n",
        "\n",
        "# 5. Оценка качества моделей\n",
        "def evaluate(y_true, y_pred, model_name):\n",
        "    rmse = mean_squared_error(y_true, y_pred)\n",
        "    r2 = r2_score(y_true, y_pred)\n",
        "    print(f\"🔹 {model_name}\")\n",
        "    print(f\"  RMSE: {rmse:.2f}\")\n",
        "    print(f\"  R²:   {r2:.3f}\\n\")\n",
        "\n",
        "evaluate(y_test, y_pred_rf, \"Random Forest Regressor\")\n",
        "evaluate(y_test, y_pred_gb, \"Gradient Boosting Regressor\")"
      ],
      "metadata": {
        "id": "kbSh0_l6cJB_",
        "colab": {
          "base_uri": "https://localhost:8080/"
        },
        "outputId": "2139657b-0637-48a2-a7ba-fc703fb15531"
      },
      "execution_count": null,
      "outputs": [
        {
          "output_type": "stream",
          "name": "stdout",
          "text": [
            "🔹 Random Forest Regressor\n",
            "  RMSE: 346154147.47\n",
            "  R²:   0.942\n",
            "\n",
            "🔹 Gradient Boosting Regressor\n",
            "  RMSE: 581911360.75\n",
            "  R²:   0.902\n",
            "\n"
          ]
        }
      ]
    },
    {
      "cell_type": "code",
      "source": [
        "from sklearn.ensemble import VotingRegressor\n",
        "\n",
        "ensemble = VotingRegressor(estimators=[\n",
        "    ('rf', rf),\n",
        "    ('gb', gb)\n",
        "])\n",
        "ensemble.fit(X_train, y_train)\n",
        "y_pred_ens = ensemble.predict(X_test)\n",
        "\n",
        "evaluate(y_test, y_pred_ens, \"Ensemble (RF + GB)\")\n"
      ],
      "metadata": {
        "colab": {
          "base_uri": "https://localhost:8080/"
        },
        "id": "ukqdOIVEyQHp",
        "outputId": "2c273217-8266-4b1b-8eb7-dea3f769eb4b"
      },
      "execution_count": null,
      "outputs": [
        {
          "output_type": "stream",
          "name": "stdout",
          "text": [
            "🔹 Ensemble (RF + GB)\n",
            "  RMSE: 401277695.28\n",
            "  R²:   0.932\n",
            "\n"
          ]
        }
      ]
    },
    {
      "cell_type": "code",
      "source": [],
      "metadata": {
        "id": "jASAtf50y0fg"
      },
      "execution_count": null,
      "outputs": []
    },
    {
      "cell_type": "markdown",
      "source": [
        "## Ниже — 3 примера инструментов бустинга: XGBoost, LightGBM, CatBoost на задаче регрессии с load_diabetes, включая визуализацию важности признаков."
      ],
      "metadata": {
        "id": "rZXhkVoi2dPr"
      }
    },
    {
      "cell_type": "markdown",
      "source": [
        "## 🐍 1. XGBoost (eXtreme Gradient Boosting)"
      ],
      "metadata": {
        "id": "zaLQT0oA2t2h"
      }
    },
    {
      "cell_type": "code",
      "source": [
        "import xgboost as xgb\n",
        "from sklearn.datasets import load_diabetes\n",
        "from sklearn.model_selection import train_test_split\n",
        "from sklearn.metrics import mean_squared_error\n",
        "import matplotlib.pyplot as plt\n",
        "\n",
        "X, y = load_diabetes(return_X_y=True)\n",
        "X_train, X_test, y_train, y_test = train_test_split(X, y, random_state=42)\n",
        "\n",
        "model = xgb.XGBRegressor(n_estimators=100, learning_rate=0.1, max_depth=3, random_state=42)\n",
        "model.fit(X_train, y_train)\n",
        "\n",
        "y_pred = model.predict(X_test)\n",
        "rmse = mean_squared_error(y_test, y_pred)\n",
        "print(f\"XGBoost RMSE: {rmse:.2f}\")\n",
        "\n",
        "# Важность признаков\n",
        "xgb.plot_importance(model)\n",
        "plt.title(\"XGBoost Feature Importance\")\n",
        "plt.show()\n"
      ],
      "metadata": {
        "colab": {
          "base_uri": "https://localhost:8080/",
          "height": 489
        },
        "id": "02p1VhAV2oFk",
        "outputId": "43d6fa55-e4cf-4e4a-f41a-7c227369ce0b"
      },
      "execution_count": null,
      "outputs": [
        {
          "output_type": "stream",
          "name": "stdout",
          "text": [
            "XGBoost RMSE: 3063.27\n"
          ]
        },
        {
          "output_type": "display_data",
          "data": {
            "text/plain": [
              "<Figure size 640x480 with 1 Axes>"
            ],
            "image/png": "[encoded data removed]"
          },
          "metadata": {}
        }
      ]
    },
    {
      "cell_type": "markdown",
      "source": [
        "## 🌿 2. LightGBM (Light Gradient Boosting Machine)"
      ],
      "metadata": {
        "id": "JN3qeWr42vyF"
      }
    },
    {
      "cell_type": "code",
      "source": [
        "import lightgbm as lgb\n",
        "from sklearn.datasets import load_diabetes\n",
        "from sklearn.model_selection import train_test_split\n",
        "from sklearn.metrics import mean_squared_error\n",
        "import matplotlib.pyplot as plt\n",
        "\n",
        "X, y = load_diabetes(return_X_y=True)\n",
        "X_train, X_test, y_train, y_test = train_test_split(X, y, random_state=42)\n",
        "\n",
        "model = lgb.LGBMRegressor(n_estimators=100, learning_rate=0.1, max_depth=3, random_state=42)\n",
        "model.fit(X_train, y_train)\n",
        "\n",
        "y_pred = model.predict(X_test)\n",
        "rmse = mean_squared_error(y_test, y_pred)\n",
        "print(f\"LightGBM RMSE: {rmse:.2f}\")\n",
        "\n",
        "# Важность признаков\n",
        "lgb.plot_importance(model, importance_type='split', max_num_features=10)\n",
        "plt.title(\"LightGBM Feature Importance\")\n",
        "plt.show()\n"
      ],
      "metadata": {
        "colab": {
          "base_uri": "https://localhost:8080/",
          "height": 1000
        },
        "id": "JpcBQHvf2rUL",
        "outputId": "a876cb30-2e28-4cb1-861a-66703b4d8711"
      },
      "execution_count": null,
      "outputs": [
        {
          "output_type": "stream",
          "name": "stdout",
          "text": [
            "[LightGBM] [Info] Auto-choosing col-wise multi-threading, the overhead of testing was 0.000067 seconds.\n",
            "You can set `force_col_wise=true` to remove the overhead.\n",
            "[LightGBM] [Info] Total Bins 569\n",
            "[LightGBM] [Info] Number of data points in the train set: 331, number of used features: 10\n",
            "[LightGBM] [Info] Start training from score 154.344411\n",
            "[LightGBM] [Warning] No further splits with positive gain, best gain: -inf\n",
            "[LightGBM] [Warning] No further splits with positive gain, best gain: -inf\n",
            "[LightGBM] [Warning] No further splits with positive gain, best gain: -inf\n",
            "[LightGBM] [Warning] No further splits with positive gain, best gain: -inf\n",
            "[LightGBM] [Warning] No further splits with positive gain, best gain: -inf\n",
            "[LightGBM] [Warning] No further splits with positive gain, best gain: -inf\n",
            "[LightGBM] [Warning] No further splits with positive gain, best gain: -inf\n",
            "[LightGBM] [Warning] No further splits with positive gain, best gain: -inf\n",
            "[LightGBM] [Warning] No further splits with positive gain, best gain: -inf\n",
            "[LightGBM] [Warning] No further splits with positive gain, best gain: -inf\n",
            "[LightGBM] [Warning] No further splits with positive gain, best gain: -inf\n",
            "[LightGBM] [Warning] No further splits with positive gain, best gain: -inf\n",
            "[LightGBM] [Warning] No further splits with positive gain, best gain: -inf\n",
            "[LightGBM] [Warning] No further splits with positive gain, best gain: -inf\n",
            "[LightGBM] [Warning] No further splits with positive gain, best gain: -inf\n",
            "[LightGBM] [Warning] No further splits with positive gain, best gain: -inf\n",
            "[LightGBM] [Warning] No further splits with positive gain, best gain: -inf\n",
            "[LightGBM] [Warning] No further splits with positive gain, best gain: -inf\n",
            "[LightGBM] [Warning] No further splits with positive gain, best gain: -inf\n",
            "[LightGBM] [Warning] No further splits with positive gain, best gain: -inf\n",
            "[LightGBM] [Warning] No further splits with positive gain, best gain: -inf\n",
            "[LightGBM] [Warning] No further splits with positive gain, best gain: -inf\n",
            "[LightGBM] [Warning] No further splits with positive gain, best gain: -inf\n",
            "[LightGBM] [Warning] No further splits with positive gain, best gain: -inf\n",
            "[LightGBM] [Warning] No further splits with positive gain, best gain: -inf\n",
            "[LightGBM] [Warning] No further splits with positive gain, best gain: -inf\n",
            "[LightGBM] [Warning] No further splits with positive gain, best gain: -inf\n",
            "[LightGBM] [Warning] No further splits with positive gain, best gain: -inf\n",
            "[LightGBM] [Warning] No further splits with positive gain, best gain: -inf\n",
            "[LightGBM] [Warning] No further splits with positive gain, best gain: -inf\n",
            "[LightGBM] [Warning] No further splits with positive gain, best gain: -inf\n",
            "[LightGBM] [Warning] No further splits with positive gain, best gain: -inf\n",
            "[LightGBM] [Warning] No further splits with positive gain, best gain: -inf\n",
            "[LightGBM] [Warning] No further splits with positive gain, best gain: -inf\n",
            "[LightGBM] [Warning] No further splits with positive gain, best gain: -inf\n",
            "[LightGBM] [Warning] No further splits with positive gain, best gain: -inf\n",
            "[LightGBM] [Warning] No further splits with positive gain, best gain: -inf\n",
            "[LightGBM] [Warning] No further splits with positive gain, best gain: -inf\n",
            "[LightGBM] [Warning] No further splits with positive gain, best gain: -inf\n",
            "[LightGBM] [Warning] No further splits with positive gain, best gain: -inf\n",
            "[LightGBM] [Warning] No further splits with positive gain, best gain: -inf\n",
            "[LightGBM] [Warning] No further splits with positive gain, best gain: -inf\n",
            "[LightGBM] [Warning] No further splits with positive gain, best gain: -inf\n",
            "[LightGBM] [Warning] No further splits with positive gain, best gain: -inf\n",
            "[LightGBM] [Warning] No further splits with positive gain, best gain: -inf\n",
            "[LightGBM] [Warning] No further splits with positive gain, best gain: -inf\n",
            "[LightGBM] [Warning] No further splits with positive gain, best gain: -inf\n",
            "[LightGBM] [Warning] No further splits with positive gain, best gain: -inf\n",
            "[LightGBM] [Warning] No further splits with positive gain, best gain: -inf\n",
            "[LightGBM] [Warning] No further splits with positive gain, best gain: -inf\n",
            "[LightGBM] [Warning] No further splits with positive gain, best gain: -inf\n",
            "[LightGBM] [Warning] No further splits with positive gain, best gain: -inf\n",
            "[LightGBM] [Warning] No further splits with positive gain, best gain: -inf\n",
            "[LightGBM] [Warning] No further splits with positive gain, best gain: -inf\n",
            "[LightGBM] [Warning] No further splits with positive gain, best gain: -inf\n",
            "[LightGBM] [Warning] No further splits with positive gain, best gain: -inf\n",
            "[LightGBM] [Warning] No further splits with positive gain, best gain: -inf\n",
            "[LightGBM] [Warning] No further splits with positive gain, best gain: -inf\n",
            "[LightGBM] [Warning] No further splits with positive gain, best gain: -inf\n",
            "[LightGBM] [Warning] No further splits with positive gain, best gain: -inf\n",
            "[LightGBM] [Warning] No further splits with positive gain, best gain: -inf\n",
            "[LightGBM] [Warning] No further splits with positive gain, best gain: -inf\n",
            "[LightGBM] [Warning] No further splits with positive gain, best gain: -inf\n",
            "[LightGBM] [Warning] No further splits with positive gain, best gain: -inf\n",
            "[LightGBM] [Warning] No further splits with positive gain, best gain: -inf\n",
            "[LightGBM] [Warning] No further splits with positive gain, best gain: -inf\n",
            "[LightGBM] [Warning] No further splits with positive gain, best gain: -inf\n",
            "[LightGBM] [Warning] No further splits with positive gain, best gain: -inf\n",
            "[LightGBM] [Warning] No further splits with positive gain, best gain: -inf\n",
            "[LightGBM] [Warning] No further splits with positive gain, best gain: -inf\n",
            "[LightGBM] [Warning] No further splits with positive gain, best gain: -inf\n",
            "[LightGBM] [Warning] No further splits with positive gain, best gain: -inf\n",
            "[LightGBM] [Warning] No further splits with positive gain, best gain: -inf\n",
            "[LightGBM] [Warning] No further splits with positive gain, best gain: -inf\n",
            "[LightGBM] [Warning] No further splits with positive gain, best gain: -inf\n",
            "[LightGBM] [Warning] No further splits with positive gain, best gain: -inf\n",
            "[LightGBM] [Warning] No further splits with positive gain, best gain: -inf\n",
            "[LightGBM] [Warning] No further splits with positive gain, best gain: -inf\n",
            "[LightGBM] [Warning] No further splits with positive gain, best gain: -inf\n",
            "[LightGBM] [Warning] No further splits with positive gain, best gain: -inf\n",
            "[LightGBM] [Warning] No further splits with positive gain, best gain: -inf\n",
            "[LightGBM] [Warning] No further splits with positive gain, best gain: -inf\n",
            "[LightGBM] [Warning] No further splits with positive gain, best gain: -inf\n",
            "[LightGBM] [Warning] No further splits with positive gain, best gain: -inf\n",
            "[LightGBM] [Warning] No further splits with positive gain, best gain: -inf\n",
            "[LightGBM] [Warning] No further splits with positive gain, best gain: -inf\n",
            "[LightGBM] [Warning] No further splits with positive gain, best gain: -inf\n",
            "[LightGBM] [Warning] No further splits with positive gain, best gain: -inf\n",
            "[LightGBM] [Warning] No further splits with positive gain, best gain: -inf\n",
            "[LightGBM] [Warning] No further splits with positive gain, best gain: -inf\n",
            "[LightGBM] [Warning] No further splits with positive gain, best gain: -inf\n",
            "[LightGBM] [Warning] No further splits with positive gain, best gain: -inf\n",
            "[LightGBM] [Warning] No further splits with positive gain, best gain: -inf\n",
            "[LightGBM] [Warning] No further splits with positive gain, best gain: -inf\n",
            "[LightGBM] [Warning] No further splits with positive gain, best gain: -inf\n",
            "[LightGBM] [Warning] No further splits with positive gain, best gain: -inf\n",
            "[LightGBM] [Warning] No further splits with positive gain, best gain: -inf\n",
            "[LightGBM] [Warning] No further splits with positive gain, best gain: -inf\n",
            "[LightGBM] [Warning] No further splits with positive gain, best gain: -inf\n",
            "[LightGBM] [Warning] No further splits with positive gain, best gain: -inf\n",
            "LightGBM RMSE: 2985.58\n"
          ]
        },
        {
          "output_type": "display_data",
          "data": {
            "text/plain": [
              "<Figure size 640x480 with 1 Axes>"
            ],
            "image/png": "[encoded data removed]"
          },
          "metadata": {}
        }
      ]
    },
    {
      "cell_type": "markdown",
      "source": [
        "## 🐈 3. CatBoost (Category Boosting — без кодирования категорий)"
      ],
      "metadata": {
        "id": "bv-cC4gF20Oo"
      }
    },
    {
      "cell_type": "code",
      "source": [
        "!pip install catboost"
      ],
      "metadata": {
        "colab": {
          "base_uri": "https://localhost:8080/"
        },
        "id": "03rddAzD3GbP",
        "outputId": "bb92431e-e474-4aeb-b5ff-3c70eceb0e83"
      },
      "execution_count": null,
      "outputs": [
        {
          "output_type": "stream",
          "name": "stdout",
          "text": [
            "Collecting catboost\n",
            "  Downloading catboost-1.2.8-cp311-cp311-manylinux2014_x86_64.whl.metadata (1.2 kB)\n",
            "Requirement already satisfied: graphviz in /usr/local/lib/python3.11/dist-packages (from catboost) (0.20.3)\n",
            "Requirement already satisfied: matplotlib in /usr/local/lib/python3.11/dist-packages (from catboost) (3.10.0)\n",
            "Requirement already satisfied: numpy<3.0,>=1.16.0 in /usr/local/lib/python3.11/dist-packages (from catboost) (2.0.2)\n",
            "Requirement already satisfied: pandas>=0.24 in /usr/local/lib/python3.11/dist-packages (from catboost) (2.2.2)\n",
            "Requirement already satisfied: scipy in /usr/local/lib/python3.11/dist-packages (from catboost) (1.15.3)\n",
            "Requirement already satisfied: plotly in /usr/local/lib/python3.11/dist-packages (from catboost) (5.24.1)\n",
            "Requirement already satisfied: six in /usr/local/lib/python3.11/dist-packages (from catboost) (1.17.0)\n",
            "Requirement already satisfied: python-dateutil>=2.8.2 in /usr/local/lib/python3.11/dist-packages (from pandas>=0.24->catboost) (2.9.0.post0)\n",
            "Requirement already satisfied: pytz>=2020.1 in /usr/local/lib/python3.11/dist-packages (from pandas>=0.24->catboost) (2025.2)\n",
            "Requirement already satisfied: tzdata>=2022.7 in /usr/local/lib/python3.11/dist-packages (from pandas>=0.24->catboost) (2025.2)\n",
            "Requirement already satisfied: contourpy>=1.0.1 in /usr/local/lib/python3.11/dist-packages (from matplotlib->catboost) (1.3.2)\n",
            "Requirement already satisfied: cycler>=0.10 in /usr/local/lib/python3.11/dist-packages (from matplotlib->catboost) (0.12.1)\n",
            "Requirement already satisfied: fonttools>=4.22.0 in /usr/local/lib/python3.11/dist-packages (from matplotlib->catboost) (4.58.0)\n",
            "Requirement already satisfied: kiwisolver>=1.3.1 in /usr/local/lib/python3.11/dist-packages (from matplotlib->catboost) (1.4.8)\n",
            "Requirement already satisfied: packaging>=20.0 in /usr/local/lib/python3.11/dist-packages (from matplotlib->catboost) (24.2)\n",
            "Requirement already satisfied: pillow>=8 in /usr/local/lib/python3.11/dist-packages (from matplotlib->catboost) (11.2.1)\n",
            "Requirement already satisfied: pyparsing>=2.3.1 in /usr/local/lib/python3.11/dist-packages (from matplotlib->catboost) (3.2.3)\n",
            "Requirement already satisfied: tenacity>=6.2.0 in /usr/local/lib/python3.11/dist-packages (from plotly->catboost) (9.1.2)\n",
            "Downloading catboost-1.2.8-cp311-cp311-manylinux2014_x86_64.whl (99.2 MB)\n",
            "\u001b[2K   \u001b[90m━━━━━━━━━━━━━━━━━━━━━━━━━━━━━━━━━━━━━━━━\u001b[0m \u001b[32m99.2/99.2 MB\u001b[0m \u001b[31m7.0 MB/s\u001b[0m eta \u001b[36m0:00:00\u001b[0m\n",
            "\u001b[?25hInstalling collected packages: catboost\n",
            "Successfully installed catboost-1.2.8\n"
          ]
        }
      ]
    },
    {
      "cell_type": "code",
      "source": [
        "from catboost import CatBoostRegressor, Pool\n",
        "from sklearn.datasets import load_diabetes\n",
        "from sklearn.model_selection import train_test_split\n",
        "from sklearn.metrics import mean_squared_error\n",
        "\n",
        "X, y = load_diabetes(return_X_y=True)\n",
        "X_train, X_test, y_train, y_test = train_test_split(X, y, random_state=42)\n",
        "\n",
        "model = CatBoostRegressor(\n",
        "    iterations=100,\n",
        "    learning_rate=0.1,\n",
        "    depth=3,\n",
        "    verbose=0,\n",
        "    random_state=42\n",
        ")\n",
        "\n",
        "model.fit(X_train, y_train)\n",
        "y_pred = model.predict(X_test)\n",
        "\n",
        "rmse = mean_squared_error(y_test, y_pred)\n",
        "print(f\"CatBoost RMSE: {rmse:.2f}\")\n",
        "\n",
        "# Важность признаков\n",
        "plt.hist(model.feature_importances_)"
      ],
      "metadata": {
        "colab": {
          "base_uri": "https://localhost:8080/",
          "height": 534
        },
        "id": "2AnVDWS423pi",
        "outputId": "c6510a04-3a72-4411-cb0c-4d1f5106573b"
      },
      "execution_count": null,
      "outputs": [
        {
          "output_type": "stream",
          "name": "stdout",
          "text": [
            "CatBoost RMSE: 2743.67\n"
          ]
        },
        {
          "output_type": "execute_result",
          "data": {
            "text/plain": [
              "(array([2., 5., 0., 0., 1., 0., 1., 0., 0., 1.]),\n",
              " array([ 2.34248699,  5.08742146,  7.83235593, 10.5772904 , 13.32222486,\n",
              "        16.06715933, 18.8120938 , 21.55702827, 24.30196274, 27.0468972 ,\n",
              "        29.79183167]),\n",
              " <BarContainer object of 10 artists>)"
            ]
          },
          "metadata": {},
          "execution_count": 23
        },
        {
          "output_type": "display_data",
          "data": {
            "text/plain": [
              "<Figure size 640x480 with 1 Axes>"
            ],
            "image/png": "[encoded data removed]"
          },
          "metadata": {}
        }
      ]
    },
    {
      "cell_type": "code",
      "source": [],
      "metadata": {
        "id": "0kfpPnQt2-C7"
      },
      "execution_count": null,
      "outputs": []
    }
  ]
}